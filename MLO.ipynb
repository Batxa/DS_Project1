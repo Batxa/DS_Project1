{
 "cells": [
  {
   "attachments": {},
   "cell_type": "markdown",
   "metadata": {},
   "source": [
    "# Introducción, objetivos y contenido"
   ]
  },
  {
   "attachments": {},
   "cell_type": "markdown",
   "metadata": {},
   "source": [
    "# Importación de librerías"
   ]
  },
  {
   "cell_type": "code",
   "execution_count": 1,
   "metadata": {},
   "outputs": [],
   "source": [
    "import pandas as pd\n",
    "import numpy as np\n",
    "import seaborn as sns\n",
    "import matplotlib as mpl\n",
    "import matplotlib.pyplot as plt\n",
    "from math import factorial\n",
    "from scipy import stats as st\n",
    "import json\n",
    "import gzip\n",
    "import ast\n",
    "from pandas import json_normalize\n",
    "from textblob import TextBlob\n",
    "import re\n",
    "from sklearn.metrics.pairwise import cosine_similarity"
   ]
  },
  {
   "attachments": {},
   "cell_type": "markdown",
   "metadata": {},
   "source": [
    "# Carga de datos"
   ]
  },
  {
   "cell_type": "code",
   "execution_count": 2,
   "metadata": {},
   "outputs": [
    {
     "data": {
      "text/html": [
       "<div>\n",
       "<style scoped>\n",
       "    .dataframe tbody tr th:only-of-type {\n",
       "        vertical-align: middle;\n",
       "    }\n",
       "\n",
       "    .dataframe tbody tr th {\n",
       "        vertical-align: top;\n",
       "    }\n",
       "\n",
       "    .dataframe thead th {\n",
       "        text-align: right;\n",
       "    }\n",
       "</style>\n",
       "<table border=\"1\" class=\"dataframe\">\n",
       "  <thead>\n",
       "    <tr style=\"text-align: right;\">\n",
       "      <th></th>\n",
       "      <th>item_id</th>\n",
       "      <th>genre_id</th>\n",
       "      <th>year</th>\n",
       "      <th>price</th>\n",
       "      <th>playtime_acc</th>\n",
       "      <th>recommend</th>\n",
       "      <th>polarity</th>\n",
       "      <th>sentiment</th>\n",
       "    </tr>\n",
       "  </thead>\n",
       "  <tbody>\n",
       "    <tr>\n",
       "      <th>1316</th>\n",
       "      <td>219150</td>\n",
       "      <td>1</td>\n",
       "      <td>2012</td>\n",
       "      <td>9.99</td>\n",
       "      <td>2658682.0</td>\n",
       "      <td>1</td>\n",
       "      <td>-0.2</td>\n",
       "      <td>0</td>\n",
       "    </tr>\n",
       "    <tr>\n",
       "      <th>1634</th>\n",
       "      <td>42700</td>\n",
       "      <td>1</td>\n",
       "      <td>2010</td>\n",
       "      <td>39.99</td>\n",
       "      <td>8616029.0</td>\n",
       "      <td>0</td>\n",
       "      <td>0.0</td>\n",
       "      <td>1</td>\n",
       "    </tr>\n",
       "  </tbody>\n",
       "</table>\n",
       "</div>"
      ],
      "text/plain": [
       "      item_id  genre_id  year  price  playtime_acc  recommend  polarity  \\\n",
       "1316   219150         1  2012   9.99     2658682.0          1      -0.2   \n",
       "1634    42700         1  2010  39.99     8616029.0          0       0.0   \n",
       "\n",
       "      sentiment  \n",
       "1316          0  \n",
       "1634          1  "
      ]
     },
     "execution_count": 2,
     "metadata": {},
     "output_type": "execute_result"
    }
   ],
   "source": [
    "df_mlo = pd.read_csv('df_mlo.csv',index_col=False)\n",
    "df_mlo = df_mlo.drop(columns=['Unnamed: 0'])\n",
    "\n",
    "df_mlo.sample(2)"
   ]
  },
  {
   "cell_type": "code",
   "execution_count": 3,
   "metadata": {},
   "outputs": [
    {
     "name": "stdout",
     "output_type": "stream",
     "text": [
      "Muestra aleatoria de la matriz de similitud del coseno:\n",
      "[[0.99997843 0.999936   0.99299586 ... 0.08167572 0.99999566 0.99957732]\n",
      " [0.67719829 0.6639796  0.75512845 ... 0.79264706 0.67025274 0.69361482]\n",
      " [0.99796105 0.99666142 0.9988354  ... 0.15150198 0.9973126  0.99914415]\n",
      " [0.99998576 0.99992123 0.99314145 ... 0.08291024 0.99999133 0.99961256]\n",
      " [0.99984155 0.99999972 0.99160172 ... 0.070442   0.99996451 0.99918647]]\n"
     ]
    }
   ],
   "source": [
    "# Calcular la similitud del coseno entre las filas del DataFrame\n",
    "cosine_sim = cosine_similarity(df_mlo)\n",
    "\n",
    "# Mostrar la matriz de similitud del coseno\n",
    "random_indices = np.random.choice(cosine_sim.shape[0], size=5, replace=False)  # Obtener 5 índices aleatorios\n",
    "random_sample = cosine_sim[random_indices, :]  # Seleccionar las filas correspondientes a los índices aleatorios\n",
    "print(\"Muestra aleatoria de la matriz de similitud del coseno:\")\n",
    "print(random_sample)"
   ]
  },
  {
   "cell_type": "code",
   "execution_count": 4,
   "metadata": {},
   "outputs": [
    {
     "name": "stdout",
     "output_type": "stream",
     "text": [
      "(2000, 2000)\n"
     ]
    }
   ],
   "source": [
    "print(cosine_sim.shape)"
   ]
  }
 ],
 "metadata": {
  "kernelspec": {
   "display_name": "Python 3",
   "language": "python",
   "name": "python3"
  },
  "language_info": {
   "codemirror_mode": {
    "name": "ipython",
    "version": 3
   },
   "file_extension": ".py",
   "mimetype": "text/x-python",
   "name": "python",
   "nbconvert_exporter": "python",
   "pygments_lexer": "ipython3",
   "version": "3.12.0"
  },
  "orig_nbformat": 4
 },
 "nbformat": 4,
 "nbformat_minor": 2
}
