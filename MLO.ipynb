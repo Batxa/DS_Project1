{
 "cells": [
  {
   "attachments": {},
   "cell_type": "markdown",
   "metadata": {},
   "source": [
    "# Introducción, objetivos y contenido"
   ]
  },
  {
   "attachments": {},
   "cell_type": "markdown",
   "metadata": {},
   "source": [
    "* Importación de librerías\n",
    "* Carga de datos\n",
    "* Funcionamiento del modelo seleccionado"
   ]
  },
  {
   "attachments": {},
   "cell_type": "markdown",
   "metadata": {},
   "source": [
    "# Importación de librerías"
   ]
  },
  {
   "cell_type": "code",
   "execution_count": 1,
   "metadata": {},
   "outputs": [],
   "source": [
    "import pandas as pd\n",
    "import numpy as np\n",
    "from sklearn.metrics.pairwise import cosine_similarity"
   ]
  },
  {
   "attachments": {},
   "cell_type": "markdown",
   "metadata": {},
   "source": [
    "# Carga de datos"
   ]
  },
  {
   "cell_type": "code",
   "execution_count": 2,
   "metadata": {},
   "outputs": [
    {
     "data": {
      "text/html": [
       "<div>\n",
       "<style scoped>\n",
       "    .dataframe tbody tr th:only-of-type {\n",
       "        vertical-align: middle;\n",
       "    }\n",
       "\n",
       "    .dataframe tbody tr th {\n",
       "        vertical-align: top;\n",
       "    }\n",
       "\n",
       "    .dataframe thead th {\n",
       "        text-align: right;\n",
       "    }\n",
       "</style>\n",
       "<table border=\"1\" class=\"dataframe\">\n",
       "  <thead>\n",
       "    <tr style=\"text-align: right;\">\n",
       "      <th></th>\n",
       "      <th>item_id</th>\n",
       "      <th>genre_id</th>\n",
       "      <th>year</th>\n",
       "      <th>price</th>\n",
       "      <th>playtime_acc</th>\n",
       "      <th>recommend</th>\n",
       "      <th>polarity</th>\n",
       "      <th>sentiment</th>\n",
       "    </tr>\n",
       "  </thead>\n",
       "  <tbody>\n",
       "    <tr>\n",
       "      <th>55</th>\n",
       "      <td>343360</td>\n",
       "      <td>2</td>\n",
       "      <td>2015</td>\n",
       "      <td>0.99</td>\n",
       "      <td>100550.0</td>\n",
       "      <td>1</td>\n",
       "      <td>0.136364</td>\n",
       "      <td>2</td>\n",
       "    </tr>\n",
       "    <tr>\n",
       "      <th>1390</th>\n",
       "      <td>550</td>\n",
       "      <td>1</td>\n",
       "      <td>2009</td>\n",
       "      <td>19.99</td>\n",
       "      <td>101191416.0</td>\n",
       "      <td>1</td>\n",
       "      <td>0.160000</td>\n",
       "      <td>2</td>\n",
       "    </tr>\n",
       "  </tbody>\n",
       "</table>\n",
       "</div>"
      ],
      "text/plain": [
       "      item_id  genre_id  year  price  playtime_acc  recommend  polarity  \\\n",
       "55     343360         2  2015   0.99      100550.0          1  0.136364   \n",
       "1390      550         1  2009  19.99   101191416.0          1  0.160000   \n",
       "\n",
       "      sentiment  \n",
       "55            2  \n",
       "1390          2  "
      ]
     },
     "execution_count": 2,
     "metadata": {},
     "output_type": "execute_result"
    }
   ],
   "source": [
    "df_mlo = pd.read_csv('df_mlo.csv',index_col=False)\n",
    "df_mlo = df_mlo.drop(columns=['Unnamed: 0'])\n",
    "\n",
    "df_mlo.sample(2)"
   ]
  },
  {
   "cell_type": "code",
   "execution_count": 3,
   "metadata": {},
   "outputs": [
    {
     "name": "stdout",
     "output_type": "stream",
     "text": [
      "Muestra aleatoria de la matriz de similitud del coseno:\n",
      "[[0.99986065 0.99999926 0.99174687 ... 0.07156602 0.99997354 0.99923103]\n",
      " [0.99988894 0.99999551 0.99197357 ... 0.07334183 0.99998478 0.99929941]\n",
      " [0.99985232 0.99999976 0.99168681 ... 0.07110033 0.99997011 0.99921225]\n",
      " [0.56074033 0.54588376 0.6496763  ... 0.87414365 0.55291924 0.57926139]\n",
      " [0.99984026 1.         0.99159788 ... 0.07041275 0.99996454 0.99918466]]\n"
     ]
    }
   ],
   "source": [
    "# Calcular la similitud del coseno entre las filas del DataFrame\n",
    "cosine_sim = cosine_similarity(df_mlo)\n",
    "\n",
    "# Mostrar la matriz de similitud del coseno\n",
    "random_indices = np.random.choice(cosine_sim.shape[0], size=5, replace=False)  # Obtener 5 índices aleatorios\n",
    "random_sample = cosine_sim[random_indices, :]  # Seleccionar las filas correspondientes a los índices aleatorios\n",
    "print(\"Muestra aleatoria de la matriz de similitud del coseno:\")\n",
    "print(random_sample)"
   ]
  },
  {
   "cell_type": "code",
   "execution_count": 4,
   "metadata": {},
   "outputs": [
    {
     "name": "stdout",
     "output_type": "stream",
     "text": [
      "(2000, 2000)\n"
     ]
    }
   ],
   "source": [
    "print(cosine_sim.shape)"
   ]
  },
  {
   "attachments": {},
   "cell_type": "markdown",
   "metadata": {},
   "source": []
  },
  {
   "cell_type": "markdown",
   "metadata": {},
   "source": []
  }
 ],
 "metadata": {
  "kernelspec": {
   "display_name": "Python 3",
   "language": "python",
   "name": "python3"
  },
  "language_info": {
   "codemirror_mode": {
    "name": "ipython",
    "version": 3
   },
   "file_extension": ".py",
   "mimetype": "text/x-python",
   "name": "python",
   "nbconvert_exporter": "python",
   "pygments_lexer": "ipython3",
   "version": "3.12.0"
  },
  "orig_nbformat": 4
 },
 "nbformat": 4,
 "nbformat_minor": 2
}
