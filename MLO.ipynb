{
 "cells": [
  {
   "attachments": {},
   "cell_type": "markdown",
   "metadata": {},
   "source": [
    "# Introducción, objetivos y contenido"
   ]
  },
  {
   "attachments": {},
   "cell_type": "markdown",
   "metadata": {},
   "source": [
    "# Importación de librerías"
   ]
  },
  {
   "cell_type": "code",
   "execution_count": 1,
   "metadata": {},
   "outputs": [],
   "source": [
    "import pandas as pd\n",
    "import numpy as np\n",
    "import seaborn as sns\n",
    "import matplotlib as mpl\n",
    "import matplotlib.pyplot as plt\n",
    "from math import factorial\n",
    "from scipy import stats as st\n",
    "import json\n",
    "import gzip\n",
    "import ast\n",
    "from pandas import json_normalize\n",
    "from textblob import TextBlob\n",
    "import re\n",
    "from sklearn.metrics.pairwise import cosine_similarity\n",
    "\n",
    "\n"
   ]
  },
  {
   "attachments": {},
   "cell_type": "markdown",
   "metadata": {},
   "source": [
    "# Carga de datos"
   ]
  },
  {
   "cell_type": "code",
   "execution_count": 9,
   "metadata": {},
   "outputs": [
    {
     "data": {
      "text/html": [
       "<div>\n",
       "<style scoped>\n",
       "    .dataframe tbody tr th:only-of-type {\n",
       "        vertical-align: middle;\n",
       "    }\n",
       "\n",
       "    .dataframe tbody tr th {\n",
       "        vertical-align: top;\n",
       "    }\n",
       "\n",
       "    .dataframe thead th {\n",
       "        text-align: right;\n",
       "    }\n",
       "</style>\n",
       "<table border=\"1\" class=\"dataframe\">\n",
       "  <thead>\n",
       "    <tr style=\"text-align: right;\">\n",
       "      <th></th>\n",
       "      <th>item_id</th>\n",
       "      <th>genre_id</th>\n",
       "      <th>year</th>\n",
       "      <th>price</th>\n",
       "      <th>playtime_acc</th>\n",
       "      <th>recommend</th>\n",
       "      <th>polarity</th>\n",
       "      <th>sentiment</th>\n",
       "    </tr>\n",
       "  </thead>\n",
       "  <tbody>\n",
       "    <tr>\n",
       "      <th>631</th>\n",
       "      <td>202750</td>\n",
       "      <td>1</td>\n",
       "      <td>2012</td>\n",
       "      <td>9.99</td>\n",
       "      <td>169314.0</td>\n",
       "      <td>1</td>\n",
       "      <td>0.054164</td>\n",
       "      <td>2</td>\n",
       "    </tr>\n",
       "    <tr>\n",
       "      <th>1198</th>\n",
       "      <td>232090</td>\n",
       "      <td>1</td>\n",
       "      <td>2016</td>\n",
       "      <td>29.99</td>\n",
       "      <td>7250241.0</td>\n",
       "      <td>1</td>\n",
       "      <td>0.042045</td>\n",
       "      <td>2</td>\n",
       "    </tr>\n",
       "  </tbody>\n",
       "</table>\n",
       "</div>"
      ],
      "text/plain": [
       "      item_id  genre_id  year  price  playtime_acc  recommend  polarity  \\\n",
       "631    202750         1  2012   9.99      169314.0          1  0.054164   \n",
       "1198   232090         1  2016  29.99     7250241.0          1  0.042045   \n",
       "\n",
       "      sentiment  \n",
       "631           2  \n",
       "1198          2  "
      ]
     },
     "execution_count": 9,
     "metadata": {},
     "output_type": "execute_result"
    }
   ],
   "source": [
    "df_mlo = pd.read_csv('df_mlo.csv',index_col=False)\n",
    "df_mlo = df_mlo.drop(columns=['Unnamed: 0'])\n",
    "\n",
    "df_mlo.sample(2)"
   ]
  },
  {
   "cell_type": "code",
   "execution_count": 10,
   "metadata": {},
   "outputs": [
    {
     "name": "stdout",
     "output_type": "stream",
     "text": [
      "Muestra aleatoria de la matriz de similitud del coseno:\n",
      "[[0.99953745 0.99883705 0.99668118 ... 0.11841998 0.9992076  0.99996896]\n",
      " [0.88650912 0.87812214 0.93263394 ... 0.53907729 0.88211981 0.89671552]\n",
      " [0.54443366 0.52939721 0.63469365 ... 0.88353904 0.5365224  0.56320557]\n",
      " [0.99984041 1.         0.99159893 ... 0.07042085 0.99996461 0.99918499]\n",
      " [0.98239691 0.978913   0.99711306 ... 0.27269839 0.98059847 0.98635886]]\n"
     ]
    }
   ],
   "source": [
    "# Calcular la similitud del coseno entre las filas del DataFrame\n",
    "cosine_sim = cosine_similarity(df_mlo)\n",
    "\n",
    "# Mostrar la matriz de similitud del coseno\n",
    "random_indices = np.random.choice(cosine_sim.shape[0], size=5, replace=False)  # Obtener 5 índices aleatorios\n",
    "random_sample = cosine_sim[random_indices, :]  # Seleccionar las filas correspondientes a los índices aleatorios\n",
    "print(\"Muestra aleatoria de la matriz de similitud del coseno:\")\n",
    "print(random_sample)"
   ]
  },
  {
   "cell_type": "code",
   "execution_count": 11,
   "metadata": {},
   "outputs": [
    {
     "name": "stdout",
     "output_type": "stream",
     "text": [
      "(2000, 2000)\n"
     ]
    }
   ],
   "source": [
    "print(cosine_sim.shape)"
   ]
  },
  {
   "cell_type": "code",
   "execution_count": null,
   "metadata": {},
   "outputs": [],
   "source": [
    "import pandas as pd\n",
    "import numpy as np\n",
    "from sklearn.metrics.pairwise import cosine_similarity\n",
    "\n",
    "# Leer el DataFrame\n",
    "df_mlo = pd.read_csv('df_mlo.csv')\n",
    "\n",
    "# Calcular la similitud del coseno entre las filas del DataFrame\n",
    "def calcular_similitud_coseno(df):\n",
    "    features = df.drop(columns=['item_id'])  # Seleccionar solo las características para el cálculo de similitud\n",
    "    cosine_sim = cosine_similarity(features, features)\n",
    "    return cosine_sim\n",
    "\n",
    "# Función de recomendación de juegos\n",
    "def recomendacion_juego(item_id, df, cosine_sim):\n",
    "    # Obtener el índice del juego de entrada en el DataFrame\n",
    "    idx = df[df['item_id'] == item_id].index[0]\n",
    "    \n",
    "    # Obtener las puntuaciones de similitud del juego de entrada con otros juegos\n",
    "    sim_scores = list(enumerate(cosine_sim[idx]))\n",
    "    \n",
    "    # Ordenar los juegos por su similitud\n",
    "    sim_scores = sorted(sim_scores, key=lambda x: x[1], reverse=True)\n",
    "    \n",
    "    # Seleccionar los 5 juegos más similares (excluyendo el juego de entrada)\n",
    "    sim_scores = sim_scores[1:6]\n",
    "    \n",
    "    # Obtener los índices de los juegos recomendados\n",
    "    juego_indices = [i[0] for i in sim_scores]\n",
    "    \n",
    "    # Devolver los item_id de los juegos recomendados\n",
    "    return df.iloc[juego_indices]['item_id'].tolist()\n",
    "\n",
    "# Ejemplo de uso de la función de recomendación\n",
    "item_id_entrada = 232090  # ID de juego de entrada\n",
    "cosine_sim = calcular_similitud_coseno(df_mlo)\n",
    "juegos_recomendados = recomendacion_juego(item_id_entrada, df_mlo, cosine_sim)\n",
    "print(\"Juegos recomendados para el juego con ID\", item_id_entrada, \":\", juegos_recomendados)\n"
   ]
  },
  {
   "cell_type": "code",
   "execution_count": null,
   "metadata": {},
   "outputs": [],
   "source": []
  }
 ],
 "metadata": {
  "kernelspec": {
   "display_name": "Python 3",
   "language": "python",
   "name": "python3"
  },
  "language_info": {
   "codemirror_mode": {
    "name": "ipython",
    "version": 3
   },
   "file_extension": ".py",
   "mimetype": "text/x-python",
   "name": "python",
   "nbconvert_exporter": "python",
   "pygments_lexer": "ipython3",
   "version": "3.12.0"
  },
  "orig_nbformat": 4
 },
 "nbformat": 4,
 "nbformat_minor": 2
}
