{
 "cells": [
  {
   "attachments": {},
   "cell_type": "markdown",
   "metadata": {},
   "source": [
    "# Introducción, objetivos y contenido"
   ]
  },
  {
   "attachments": {},
   "cell_type": "markdown",
   "metadata": {},
   "source": [
    "Este trabajo corresponde a la fase de ETL (Extraction, Transformation and Loading). El objetivo de esta fase es obtener datasets limpios y listos para ser utilizado en fases posteriores del proyecto. \n",
    "\n",
    "Contenidos:\n",
    "* Importación de librerías\n",
    "* Carga de datos\n",
    "* Preparación de datos para cada dataset \n",
    "    * Ingeniería de características\n",
    "    * Verificación de tipos de datos\n",
    "    * Valores duplicados\n",
    "    * Valores nulos\n",
    "* Exportación de los datasets limpios\n",
    "* Armado y exportación de dataframes para API"
   ]
  },
  {
   "attachments": {},
   "cell_type": "markdown",
   "metadata": {},
   "source": [
    "# Importación de librerías"
   ]
  },
  {
   "cell_type": "code",
   "execution_count": 1,
   "metadata": {},
   "outputs": [],
   "source": [
    "import pandas as pd\n",
    "import numpy as np\n",
    "import seaborn as sns\n",
    "import matplotlib as mpl\n",
    "from matplotlib import pyplot as plt\n",
    "from math import factorial\n",
    "from scipy import stats as st\n",
    "import json\n",
    "import gzip\n",
    "import ast\n",
    "from pandas import json_normalize\n",
    "from textblob import TextBlob\n",
    "import re"
   ]
  },
  {
   "attachments": {},
   "cell_type": "markdown",
   "metadata": {},
   "source": [
    "# Carga de datos"
   ]
  },
  {
   "attachments": {},
   "cell_type": "markdown",
   "metadata": {},
   "source": [
    "Tenemos un total de 3 datasets en formato json comprimido, debido a ello haremos la carga de datos en forma separada para tomar los recaudos correspondientes."
   ]
  },
  {
   "attachments": {},
   "cell_type": "markdown",
   "metadata": {},
   "source": [
    "Dataset GAMES: Este archivo ha sido posible cargarlo en formato jason descomprimido, por lo cual su código resulta simple."
   ]
  },
  {
   "cell_type": "code",
   "execution_count": 2,
   "metadata": {},
   "outputs": [],
   "source": [
    "steam_games = pd.read_json('steam_games.json', lines=True)"
   ]
  },
  {
   "attachments": {},
   "cell_type": "markdown",
   "metadata": {},
   "source": [
    "Dataset REVIEWS: Dado que este dataset tiene una estructura menos estandarizada, ha sido necesario cargarlo aplicando un código que estandarice cada línea del archivo. Luego esas líneas se incorporan como lista a una variable archivo que recopila los datos originales transformados."
   ]
  },
  {
   "cell_type": "code",
   "execution_count": 3,
   "metadata": {},
   "outputs": [],
   "source": [
    "dataset_list_reviews = []\n",
    "with gzip.open('user_reviews.json.gz', 'rb') as file:\n",
    "    for line in file:\n",
    "        dataset_list_reviews.append(ast.literal_eval(line.decode('utf-8')))\n",
    "user_reviews = pd.DataFrame(dataset_list_reviews)\n",
    "file.close()"
   ]
  },
  {
   "attachments": {},
   "cell_type": "markdown",
   "metadata": {},
   "source": [
    "Dataset ITEMS: Dado que este dataset tiene una estructura menos estandarizada, ha sido necesario cargarlo aplicando un código que estandarice cada línea del archivo. Luego esas líneas se incorporan como lista a una variable archivo que recopila los datos originales transformados."
   ]
  },
  {
   "cell_type": "code",
   "execution_count": 4,
   "metadata": {},
   "outputs": [],
   "source": [
    "dataset_list_items = []\n",
    "with gzip.open('users_items.json.gz', 'rb') as file:\n",
    "    for line in file:\n",
    "        dataset_list_items.append(ast.literal_eval(line.decode('utf-8')))\n",
    "user_items = pd.DataFrame(dataset_list_items)\n",
    "file.close()"
   ]
  },
  {
   "attachments": {},
   "cell_type": "markdown",
   "metadata": {},
   "source": [
    "# Preparación de datos"
   ]
  },
  {
   "attachments": {},
   "cell_type": "markdown",
   "metadata": {},
   "source": [
    "## Dataset GAMES"
   ]
  },
  {
   "attachments": {},
   "cell_type": "markdown",
   "metadata": {},
   "source": [
    "### Ingeniería de características - Dataset GAMES"
   ]
  },
  {
   "cell_type": "code",
   "execution_count": 5,
   "metadata": {},
   "outputs": [
    {
     "data": {
      "text/html": [
       "<div>\n",
       "<style scoped>\n",
       "    .dataframe tbody tr th:only-of-type {\n",
       "        vertical-align: middle;\n",
       "    }\n",
       "\n",
       "    .dataframe tbody tr th {\n",
       "        vertical-align: top;\n",
       "    }\n",
       "\n",
       "    .dataframe thead th {\n",
       "        text-align: right;\n",
       "    }\n",
       "</style>\n",
       "<table border=\"1\" class=\"dataframe\">\n",
       "  <thead>\n",
       "    <tr style=\"text-align: right;\">\n",
       "      <th></th>\n",
       "      <th>publisher</th>\n",
       "      <th>genres</th>\n",
       "      <th>app_name</th>\n",
       "      <th>title</th>\n",
       "      <th>url</th>\n",
       "      <th>release_date</th>\n",
       "      <th>tags</th>\n",
       "      <th>reviews_url</th>\n",
       "      <th>specs</th>\n",
       "      <th>price</th>\n",
       "      <th>early_access</th>\n",
       "      <th>id</th>\n",
       "      <th>developer</th>\n",
       "    </tr>\n",
       "  </thead>\n",
       "  <tbody>\n",
       "    <tr>\n",
       "      <th>116487</th>\n",
       "      <td>Jetdogs Studios</td>\n",
       "      <td>[Adventure, Casual, Indie]</td>\n",
       "      <td>Sinister City</td>\n",
       "      <td>Sinister City</td>\n",
       "      <td>http://store.steampowered.com/app/326180/Sinis...</td>\n",
       "      <td>2014-10-18</td>\n",
       "      <td>[Casual, Adventure, Hidden Object, Indie, Poin...</td>\n",
       "      <td>http://steamcommunity.com/app/326180/reviews/?...</td>\n",
       "      <td>[Single-player, Steam Achievements, Steam Trad...</td>\n",
       "      <td>0.99</td>\n",
       "      <td>0.0</td>\n",
       "      <td>326180.0</td>\n",
       "      <td>Jetdogs Studios</td>\n",
       "    </tr>\n",
       "    <tr>\n",
       "      <th>98233</th>\n",
       "      <td>Trion Worlds</td>\n",
       "      <td>[Action, Free to Play, Massively Multiplayer, ...</td>\n",
       "      <td>Devilian - Fallen Nightmare Pack</td>\n",
       "      <td>Devilian - Fallen Nightmare Pack</td>\n",
       "      <td>http://store.steampowered.com/app/642160/Devil...</td>\n",
       "      <td>2017-05-25</td>\n",
       "      <td>[RPG, Massively Multiplayer, Violent, Sexual C...</td>\n",
       "      <td>http://steamcommunity.com/app/642160/reviews/?...</td>\n",
       "      <td>[Multi-player, MMO, Co-op, Downloadable Conten...</td>\n",
       "      <td>99.99</td>\n",
       "      <td>0.0</td>\n",
       "      <td>642160.0</td>\n",
       "      <td>Bluehole Ginno Games</td>\n",
       "    </tr>\n",
       "  </tbody>\n",
       "</table>\n",
       "</div>"
      ],
      "text/plain": [
       "              publisher                                             genres  \\\n",
       "116487  Jetdogs Studios                         [Adventure, Casual, Indie]   \n",
       "98233      Trion Worlds  [Action, Free to Play, Massively Multiplayer, ...   \n",
       "\n",
       "                                app_name                             title  \\\n",
       "116487                     Sinister City                     Sinister City   \n",
       "98233   Devilian - Fallen Nightmare Pack  Devilian - Fallen Nightmare Pack   \n",
       "\n",
       "                                                      url release_date  \\\n",
       "116487  http://store.steampowered.com/app/326180/Sinis...   2014-10-18   \n",
       "98233   http://store.steampowered.com/app/642160/Devil...   2017-05-25   \n",
       "\n",
       "                                                     tags  \\\n",
       "116487  [Casual, Adventure, Hidden Object, Indie, Poin...   \n",
       "98233   [RPG, Massively Multiplayer, Violent, Sexual C...   \n",
       "\n",
       "                                              reviews_url  \\\n",
       "116487  http://steamcommunity.com/app/326180/reviews/?...   \n",
       "98233   http://steamcommunity.com/app/642160/reviews/?...   \n",
       "\n",
       "                                                    specs  price  \\\n",
       "116487  [Single-player, Steam Achievements, Steam Trad...   0.99   \n",
       "98233   [Multi-player, MMO, Co-op, Downloadable Conten...  99.99   \n",
       "\n",
       "        early_access        id             developer  \n",
       "116487           0.0  326180.0       Jetdogs Studios  \n",
       "98233            0.0  642160.0  Bluehole Ginno Games  "
      ]
     },
     "execution_count": 5,
     "metadata": {},
     "output_type": "execute_result"
    }
   ],
   "source": [
    "df_games = steam_games\n",
    "df_games.sample(2)"
   ]
  },
  {
   "cell_type": "code",
   "execution_count": 6,
   "metadata": {},
   "outputs": [],
   "source": [
    "# Renombramiento del campo \"id\"\n",
    "df_games.rename(columns={'id': 'item_id'}, inplace=True)"
   ]
  },
  {
   "cell_type": "code",
   "execution_count": 7,
   "metadata": {},
   "outputs": [
    {
     "data": {
      "text/html": [
       "<div>\n",
       "<style scoped>\n",
       "    .dataframe tbody tr th:only-of-type {\n",
       "        vertical-align: middle;\n",
       "    }\n",
       "\n",
       "    .dataframe tbody tr th {\n",
       "        vertical-align: top;\n",
       "    }\n",
       "\n",
       "    .dataframe thead th {\n",
       "        text-align: right;\n",
       "    }\n",
       "</style>\n",
       "<table border=\"1\" class=\"dataframe\">\n",
       "  <thead>\n",
       "    <tr style=\"text-align: right;\">\n",
       "      <th></th>\n",
       "      <th>publisher</th>\n",
       "      <th>genres</th>\n",
       "      <th>app_name</th>\n",
       "      <th>title</th>\n",
       "      <th>url</th>\n",
       "      <th>release_date</th>\n",
       "      <th>tags</th>\n",
       "      <th>reviews_url</th>\n",
       "      <th>specs</th>\n",
       "      <th>price</th>\n",
       "      <th>early_access</th>\n",
       "      <th>item_id</th>\n",
       "      <th>developer</th>\n",
       "    </tr>\n",
       "  </thead>\n",
       "  <tbody>\n",
       "    <tr>\n",
       "      <th>107558</th>\n",
       "      <td>HypeTrain Digital</td>\n",
       "      <td>Simulation</td>\n",
       "      <td>The Wild Eight</td>\n",
       "      <td>The Wild Eight</td>\n",
       "      <td>http://store.steampowered.com/app/526160/The_W...</td>\n",
       "      <td>2017-02-08</td>\n",
       "      <td>Action</td>\n",
       "      <td>http://steamcommunity.com/app/526160/reviews/?...</td>\n",
       "      <td>Online Co-op</td>\n",
       "      <td>19.99</td>\n",
       "      <td>1.0</td>\n",
       "      <td>526160.0</td>\n",
       "      <td>HypeTrain Digital</td>\n",
       "    </tr>\n",
       "    <tr>\n",
       "      <th>91745</th>\n",
       "      <td>Vostok Games</td>\n",
       "      <td>Free to Play</td>\n",
       "      <td>Survarium</td>\n",
       "      <td>Survarium</td>\n",
       "      <td>http://store.steampowered.com/app/355840/Surva...</td>\n",
       "      <td>2015-04-02</td>\n",
       "      <td>First-Person</td>\n",
       "      <td>http://steamcommunity.com/app/355840/reviews/?...</td>\n",
       "      <td>MMO</td>\n",
       "      <td>Free to Play</td>\n",
       "      <td>1.0</td>\n",
       "      <td>355840.0</td>\n",
       "      <td>Vostok Games</td>\n",
       "    </tr>\n",
       "    <tr>\n",
       "      <th>82969</th>\n",
       "      <td>None</td>\n",
       "      <td>None</td>\n",
       "      <td>None</td>\n",
       "      <td>None</td>\n",
       "      <td>None</td>\n",
       "      <td>None</td>\n",
       "      <td>None</td>\n",
       "      <td>None</td>\n",
       "      <td>None</td>\n",
       "      <td>None</td>\n",
       "      <td>NaN</td>\n",
       "      <td>NaN</td>\n",
       "      <td>None</td>\n",
       "    </tr>\n",
       "    <tr>\n",
       "      <th>97703</th>\n",
       "      <td>None</td>\n",
       "      <td>Action</td>\n",
       "      <td>Cluckles' Adventure Soundtrack</td>\n",
       "      <td>Cluckles' Adventure Soundtrack</td>\n",
       "      <td>http://store.steampowered.com/app/615300/Cluck...</td>\n",
       "      <td>2017-04-10</td>\n",
       "      <td>Action</td>\n",
       "      <td>http://steamcommunity.com/app/615300/reviews/?...</td>\n",
       "      <td>Steam Leaderboards</td>\n",
       "      <td>0.99</td>\n",
       "      <td>0.0</td>\n",
       "      <td>615300.0</td>\n",
       "      <td>@lukasinspace</td>\n",
       "    </tr>\n",
       "    <tr>\n",
       "      <th>110187</th>\n",
       "      <td>Home Net Games</td>\n",
       "      <td>Strategy</td>\n",
       "      <td>The Pirate: Caribbean Hunt</td>\n",
       "      <td>The Pirate: Caribbean Hunt</td>\n",
       "      <td>http://store.steampowered.com/app/512470/The_P...</td>\n",
       "      <td>2016-08-24</td>\n",
       "      <td>Indie</td>\n",
       "      <td>http://steamcommunity.com/app/512470/reviews/?...</td>\n",
       "      <td>Online Multi-Player</td>\n",
       "      <td>Free To Play</td>\n",
       "      <td>0.0</td>\n",
       "      <td>512470.0</td>\n",
       "      <td>Home Net Games</td>\n",
       "    </tr>\n",
       "  </tbody>\n",
       "</table>\n",
       "</div>"
      ],
      "text/plain": [
       "                publisher        genres                        app_name  \\\n",
       "107558  HypeTrain Digital    Simulation                  The Wild Eight   \n",
       "91745        Vostok Games  Free to Play                       Survarium   \n",
       "82969                None          None                            None   \n",
       "97703                None        Action  Cluckles' Adventure Soundtrack   \n",
       "110187     Home Net Games      Strategy      The Pirate: Caribbean Hunt   \n",
       "\n",
       "                                 title  \\\n",
       "107558                  The Wild Eight   \n",
       "91745                        Survarium   \n",
       "82969                             None   \n",
       "97703   Cluckles' Adventure Soundtrack   \n",
       "110187      The Pirate: Caribbean Hunt   \n",
       "\n",
       "                                                      url release_date  \\\n",
       "107558  http://store.steampowered.com/app/526160/The_W...   2017-02-08   \n",
       "91745   http://store.steampowered.com/app/355840/Surva...   2015-04-02   \n",
       "82969                                                None         None   \n",
       "97703   http://store.steampowered.com/app/615300/Cluck...   2017-04-10   \n",
       "110187  http://store.steampowered.com/app/512470/The_P...   2016-08-24   \n",
       "\n",
       "                tags                                        reviews_url  \\\n",
       "107558        Action  http://steamcommunity.com/app/526160/reviews/?...   \n",
       "91745   First-Person  http://steamcommunity.com/app/355840/reviews/?...   \n",
       "82969           None                                               None   \n",
       "97703         Action  http://steamcommunity.com/app/615300/reviews/?...   \n",
       "110187         Indie  http://steamcommunity.com/app/512470/reviews/?...   \n",
       "\n",
       "                      specs         price  early_access   item_id  \\\n",
       "107558         Online Co-op         19.99           1.0  526160.0   \n",
       "91745                   MMO  Free to Play           1.0  355840.0   \n",
       "82969                  None          None           NaN       NaN   \n",
       "97703    Steam Leaderboards          0.99           0.0  615300.0   \n",
       "110187  Online Multi-Player  Free To Play           0.0  512470.0   \n",
       "\n",
       "                developer  \n",
       "107558  HypeTrain Digital  \n",
       "91745        Vostok Games  \n",
       "82969                None  \n",
       "97703       @lukasinspace  \n",
       "110187     Home Net Games  "
      ]
     },
     "execution_count": 7,
     "metadata": {},
     "output_type": "execute_result"
    }
   ],
   "source": [
    "# Desagregación de campos cuyos valores son listas\n",
    "df_games = df_games.explode('genres')\n",
    "df_games = df_games.explode('tags')\n",
    "df_games = df_games.explode('specs')\n",
    "df_games.sample(5)"
   ]
  },
  {
   "cell_type": "code",
   "execution_count": 8,
   "metadata": {},
   "outputs": [
    {
     "data": {
      "text/html": [
       "<div>\n",
       "<style scoped>\n",
       "    .dataframe tbody tr th:only-of-type {\n",
       "        vertical-align: middle;\n",
       "    }\n",
       "\n",
       "    .dataframe tbody tr th {\n",
       "        vertical-align: top;\n",
       "    }\n",
       "\n",
       "    .dataframe thead th {\n",
       "        text-align: right;\n",
       "    }\n",
       "</style>\n",
       "<table border=\"1\" class=\"dataframe\">\n",
       "  <thead>\n",
       "    <tr style=\"text-align: right;\">\n",
       "      <th></th>\n",
       "      <th>publisher</th>\n",
       "      <th>genres</th>\n",
       "      <th>app_name</th>\n",
       "      <th>title</th>\n",
       "      <th>url</th>\n",
       "      <th>release_date</th>\n",
       "      <th>tags</th>\n",
       "      <th>reviews_url</th>\n",
       "      <th>specs</th>\n",
       "      <th>price</th>\n",
       "      <th>early_access</th>\n",
       "      <th>item_id</th>\n",
       "      <th>developer</th>\n",
       "      <th>year</th>\n",
       "    </tr>\n",
       "  </thead>\n",
       "  <tbody>\n",
       "    <tr>\n",
       "      <th>119883</th>\n",
       "      <td>TrueThought</td>\n",
       "      <td>Casual</td>\n",
       "      <td>Everyday Genius: SquareLogic</td>\n",
       "      <td>Everyday Genius: SquareLogic</td>\n",
       "      <td>http://store.steampowered.com/app/32150/Everyd...</td>\n",
       "      <td>2009-10-09</td>\n",
       "      <td>Relaxing</td>\n",
       "      <td>http://steamcommunity.com/app/32150/reviews/?b...</td>\n",
       "      <td>Steam Cloud</td>\n",
       "      <td>4.99</td>\n",
       "      <td>0.0</td>\n",
       "      <td>32150.0</td>\n",
       "      <td>TrueThought</td>\n",
       "      <td>2009</td>\n",
       "    </tr>\n",
       "    <tr>\n",
       "      <th>105656</th>\n",
       "      <td>Anti Gravity Game Studios</td>\n",
       "      <td>Action</td>\n",
       "      <td>Hell Warders</td>\n",
       "      <td>Hell Warders</td>\n",
       "      <td>http://store.steampowered.com/app/628710/Hell_...</td>\n",
       "      <td>2017-06-06</td>\n",
       "      <td>Casual</td>\n",
       "      <td>http://steamcommunity.com/app/628710/reviews/?...</td>\n",
       "      <td>Online Co-op</td>\n",
       "      <td>14.99</td>\n",
       "      <td>1.0</td>\n",
       "      <td>628710.0</td>\n",
       "      <td>Anti Gravity Game Studios</td>\n",
       "      <td>2017</td>\n",
       "    </tr>\n",
       "    <tr>\n",
       "      <th>112791</th>\n",
       "      <td>VDO Games</td>\n",
       "      <td>RPG</td>\n",
       "      <td>Cally's Caves 3</td>\n",
       "      <td>Cally's Caves 3</td>\n",
       "      <td>http://store.steampowered.com/app/418120/Cally...</td>\n",
       "      <td>2016-01-05</td>\n",
       "      <td>Female Protagonist</td>\n",
       "      <td>http://steamcommunity.com/app/418120/reviews/?...</td>\n",
       "      <td>Single-player</td>\n",
       "      <td>6.99</td>\n",
       "      <td>0.0</td>\n",
       "      <td>418120.0</td>\n",
       "      <td>VDO Games</td>\n",
       "      <td>2016</td>\n",
       "    </tr>\n",
       "    <tr>\n",
       "      <th>104712</th>\n",
       "      <td>None</td>\n",
       "      <td>Racing</td>\n",
       "      <td>RC Plane 3 - Stealth Plane</td>\n",
       "      <td>RC Plane 3 - Stealth Plane</td>\n",
       "      <td>http://store.steampowered.com/app/675821/RC_Pl...</td>\n",
       "      <td>2017-08-07</td>\n",
       "      <td>Simulation</td>\n",
       "      <td>http://steamcommunity.com/app/675821/reviews/?...</td>\n",
       "      <td>Partial Controller Support</td>\n",
       "      <td>2.99</td>\n",
       "      <td>0.0</td>\n",
       "      <td>675821.0</td>\n",
       "      <td>FrozenPepper S.R.L</td>\n",
       "      <td>2017</td>\n",
       "    </tr>\n",
       "    <tr>\n",
       "      <th>109094</th>\n",
       "      <td>Out of the Park Developments</td>\n",
       "      <td>Strategy</td>\n",
       "      <td>Franchise Hockey Manager 3</td>\n",
       "      <td>Franchise Hockey Manager 3</td>\n",
       "      <td>http://store.steampowered.com/app/465660/Franc...</td>\n",
       "      <td>2016-10-31</td>\n",
       "      <td>Indie</td>\n",
       "      <td>http://steamcommunity.com/app/465660/reviews/?...</td>\n",
       "      <td>Steam Achievements</td>\n",
       "      <td>19.99</td>\n",
       "      <td>0.0</td>\n",
       "      <td>465660.0</td>\n",
       "      <td>Out of the Park Developments</td>\n",
       "      <td>2016</td>\n",
       "    </tr>\n",
       "  </tbody>\n",
       "</table>\n",
       "</div>"
      ],
      "text/plain": [
       "                           publisher    genres                      app_name  \\\n",
       "119883                   TrueThought    Casual  Everyday Genius: SquareLogic   \n",
       "105656     Anti Gravity Game Studios    Action                  Hell Warders   \n",
       "112791                     VDO Games       RPG               Cally's Caves 3   \n",
       "104712                          None    Racing    RC Plane 3 - Stealth Plane   \n",
       "109094  Out of the Park Developments  Strategy    Franchise Hockey Manager 3   \n",
       "\n",
       "                               title  \\\n",
       "119883  Everyday Genius: SquareLogic   \n",
       "105656                  Hell Warders   \n",
       "112791               Cally's Caves 3   \n",
       "104712    RC Plane 3 - Stealth Plane   \n",
       "109094    Franchise Hockey Manager 3   \n",
       "\n",
       "                                                      url release_date  \\\n",
       "119883  http://store.steampowered.com/app/32150/Everyd...   2009-10-09   \n",
       "105656  http://store.steampowered.com/app/628710/Hell_...   2017-06-06   \n",
       "112791  http://store.steampowered.com/app/418120/Cally...   2016-01-05   \n",
       "104712  http://store.steampowered.com/app/675821/RC_Pl...   2017-08-07   \n",
       "109094  http://store.steampowered.com/app/465660/Franc...   2016-10-31   \n",
       "\n",
       "                      tags                                        reviews_url  \\\n",
       "119883            Relaxing  http://steamcommunity.com/app/32150/reviews/?b...   \n",
       "105656              Casual  http://steamcommunity.com/app/628710/reviews/?...   \n",
       "112791  Female Protagonist  http://steamcommunity.com/app/418120/reviews/?...   \n",
       "104712          Simulation  http://steamcommunity.com/app/675821/reviews/?...   \n",
       "109094               Indie  http://steamcommunity.com/app/465660/reviews/?...   \n",
       "\n",
       "                             specs  price  early_access   item_id  \\\n",
       "119883                 Steam Cloud   4.99           0.0   32150.0   \n",
       "105656                Online Co-op  14.99           1.0  628710.0   \n",
       "112791               Single-player   6.99           0.0  418120.0   \n",
       "104712  Partial Controller Support   2.99           0.0  675821.0   \n",
       "109094          Steam Achievements  19.99           0.0  465660.0   \n",
       "\n",
       "                           developer  year  \n",
       "119883                   TrueThought  2009  \n",
       "105656     Anti Gravity Game Studios  2017  \n",
       "112791                     VDO Games  2016  \n",
       "104712            FrozenPepper S.R.L  2017  \n",
       "109094  Out of the Park Developments  2016  "
      ]
     },
     "execution_count": 8,
     "metadata": {},
     "output_type": "execute_result"
    }
   ],
   "source": [
    "# Agregación del campo \"year\"\n",
    "default_date = pd.to_datetime('1900-01-01')  # Imputar un valor predeterminado en lugar de los valores no válidos en 'release_date'\n",
    "df_games['release_date'] = pd.to_datetime(df_games['release_date'], errors='coerce').fillna(default_date)\n",
    "\n",
    "df_games['release_date'] = pd.to_datetime(df_games['release_date'])     # Convertir la columna 'release_date' a objetos de fecha y hora\n",
    "df_games['year'] = df_games['release_date'].dt.year\n",
    "df_games = df_games[df_games['year'] != 1900]\n",
    "df_games.sample(5)"
   ]
  },
  {
   "cell_type": "code",
   "execution_count": 9,
   "metadata": {},
   "outputs": [],
   "source": [
    "# Eliminación de campos que no serán utilizados\n",
    "#df_games_eliminarcampos = ['url', 'title','release_date', 'reviews_url', 'specs', ]\n",
    "# df_games = df_games.drop(df_games_eliminarcampos, axis=1)"
   ]
  },
  {
   "cell_type": "code",
   "execution_count": 10,
   "metadata": {},
   "outputs": [
    {
     "data": {
      "text/html": [
       "<div>\n",
       "<style scoped>\n",
       "    .dataframe tbody tr th:only-of-type {\n",
       "        vertical-align: middle;\n",
       "    }\n",
       "\n",
       "    .dataframe tbody tr th {\n",
       "        vertical-align: top;\n",
       "    }\n",
       "\n",
       "    .dataframe thead th {\n",
       "        text-align: right;\n",
       "    }\n",
       "</style>\n",
       "<table border=\"1\" class=\"dataframe\">\n",
       "  <thead>\n",
       "    <tr style=\"text-align: right;\">\n",
       "      <th></th>\n",
       "      <th>item_id</th>\n",
       "      <th>app_name</th>\n",
       "      <th>genres</th>\n",
       "      <th>year</th>\n",
       "      <th>price</th>\n",
       "      <th>developer</th>\n",
       "    </tr>\n",
       "  </thead>\n",
       "  <tbody>\n",
       "    <tr>\n",
       "      <th>100787</th>\n",
       "      <td>724520.0</td>\n",
       "      <td>Magilore</td>\n",
       "      <td>RPG</td>\n",
       "      <td>2017</td>\n",
       "      <td>Free</td>\n",
       "      <td>Cole Kitroser</td>\n",
       "    </tr>\n",
       "    <tr>\n",
       "      <th>98279</th>\n",
       "      <td>612480.0</td>\n",
       "      <td>Arma 3 DLC Bundle 2</td>\n",
       "      <td>Action</td>\n",
       "      <td>2017</td>\n",
       "      <td>24.99</td>\n",
       "      <td>Bohemia Interactive</td>\n",
       "    </tr>\n",
       "    <tr>\n",
       "      <th>114367</th>\n",
       "      <td>369420.0</td>\n",
       "      <td>9 Clues 2: The Ward</td>\n",
       "      <td>Casual</td>\n",
       "      <td>2015</td>\n",
       "      <td>9.99</td>\n",
       "      <td>Tap It Games</td>\n",
       "    </tr>\n",
       "    <tr>\n",
       "      <th>89209</th>\n",
       "      <td>204180.0</td>\n",
       "      <td>Waveform</td>\n",
       "      <td>Indie</td>\n",
       "      <td>2012</td>\n",
       "      <td>1.99</td>\n",
       "      <td>Eden Industries</td>\n",
       "    </tr>\n",
       "    <tr>\n",
       "      <th>116271</th>\n",
       "      <td>262470.0</td>\n",
       "      <td>Rollers of the Realm</td>\n",
       "      <td>Action</td>\n",
       "      <td>2014</td>\n",
       "      <td>9.99</td>\n",
       "      <td>Phantom Compass</td>\n",
       "    </tr>\n",
       "  </tbody>\n",
       "</table>\n",
       "</div>"
      ],
      "text/plain": [
       "         item_id              app_name  genres  year  price  \\\n",
       "100787  724520.0              Magilore     RPG  2017   Free   \n",
       "98279   612480.0   Arma 3 DLC Bundle 2  Action  2017  24.99   \n",
       "114367  369420.0   9 Clues 2: The Ward  Casual  2015   9.99   \n",
       "89209   204180.0              Waveform   Indie  2012   1.99   \n",
       "116271  262470.0  Rollers of the Realm  Action  2014   9.99   \n",
       "\n",
       "                  developer  \n",
       "100787        Cole Kitroser  \n",
       "98279   Bohemia Interactive  \n",
       "114367         Tap It Games  \n",
       "89209       Eden Industries  \n",
       "116271      Phantom Compass  "
      ]
     },
     "execution_count": 10,
     "metadata": {},
     "output_type": "execute_result"
    }
   ],
   "source": [
    "# Filtrado de campos a utilizar\n",
    "df_games = df_games[['item_id', 'app_name', 'genres', 'year', 'price', 'developer']]\n",
    "df_games.sample(5)"
   ]
  },
  {
   "attachments": {},
   "cell_type": "markdown",
   "metadata": {},
   "source": [
    "### Verificación de tipos de datos - Dataset GAMES"
   ]
  },
  {
   "cell_type": "code",
   "execution_count": 11,
   "metadata": {},
   "outputs": [
    {
     "name": "stdout",
     "output_type": "stream",
     "text": [
      "<class 'pandas.core.frame.DataFrame'>\n",
      "Index: 1983295 entries, 88310 to 120443\n",
      "Data columns (total 6 columns):\n",
      " #   Column     Dtype  \n",
      "---  ------     -----  \n",
      " 0   item_id    float64\n",
      " 1   app_name   object \n",
      " 2   genres     object \n",
      " 3   year       int32  \n",
      " 4   price      object \n",
      " 5   developer  object \n",
      "dtypes: float64(1), int32(1), object(4)\n",
      "memory usage: 98.4+ MB\n"
     ]
    }
   ],
   "source": [
    "df_games.info()"
   ]
  },
  {
   "cell_type": "code",
   "execution_count": 12,
   "metadata": {},
   "outputs": [
    {
     "name": "stdout",
     "output_type": "stream",
     "text": [
      "<class 'pandas.core.frame.DataFrame'>\n",
      "Index: 1983295 entries, 88310 to 120443\n",
      "Data columns (total 6 columns):\n",
      " #   Column     Dtype  \n",
      "---  ------     -----  \n",
      " 0   item_id    int64  \n",
      " 1   app_name   object \n",
      " 2   genres     object \n",
      " 3   year       int32  \n",
      " 4   price      float64\n",
      " 5   developer  object \n",
      "dtypes: float64(1), int32(1), int64(1), object(3)\n",
      "memory usage: 98.4+ MB\n"
     ]
    }
   ],
   "source": [
    "# Conversión de tipos de datos\n",
    "\n",
    "df_games['price'] = pd.to_numeric(df_games['price'], errors='coerce')  # Conversión a tipo numérico, forzando los errores a NaN\n",
    "#df_games['early_access'] = df_games['early_access'].astype(bool)       # Conversión a tipo booleano\n",
    "df_games['item_id'] = pd.to_numeric(df_games['item_id'], errors='coerce')        # Conversión a tipo entero, forzando los errores a NaN\n",
    "df_games['item_id'].fillna(0, inplace=True)\n",
    "df_games['item_id'] = df_games['item_id'].astype(int)\n",
    "df_games.info()"
   ]
  },
  {
   "cell_type": "code",
   "execution_count": 13,
   "metadata": {},
   "outputs": [
    {
     "data": {
      "text/html": [
       "<div>\n",
       "<style scoped>\n",
       "    .dataframe tbody tr th:only-of-type {\n",
       "        vertical-align: middle;\n",
       "    }\n",
       "\n",
       "    .dataframe tbody tr th {\n",
       "        vertical-align: top;\n",
       "    }\n",
       "\n",
       "    .dataframe thead th {\n",
       "        text-align: right;\n",
       "    }\n",
       "</style>\n",
       "<table border=\"1\" class=\"dataframe\">\n",
       "  <thead>\n",
       "    <tr style=\"text-align: right;\">\n",
       "      <th></th>\n",
       "      <th>item_id</th>\n",
       "      <th>app_name</th>\n",
       "      <th>genres</th>\n",
       "      <th>year</th>\n",
       "      <th>price</th>\n",
       "      <th>developer</th>\n",
       "    </tr>\n",
       "  </thead>\n",
       "  <tbody>\n",
       "    <tr>\n",
       "      <th>93026</th>\n",
       "      <td>415730</td>\n",
       "      <td>STAR-BOX: Dark Hack</td>\n",
       "      <td>Indie</td>\n",
       "      <td>2015</td>\n",
       "      <td>0.99</td>\n",
       "      <td>Michael Flynn</td>\n",
       "    </tr>\n",
       "    <tr>\n",
       "      <th>92682</th>\n",
       "      <td>375290</td>\n",
       "      <td>Superstatic</td>\n",
       "      <td>Action</td>\n",
       "      <td>2015</td>\n",
       "      <td>4.99</td>\n",
       "      <td>Sleepy Studios</td>\n",
       "    </tr>\n",
       "    <tr>\n",
       "      <th>92610</th>\n",
       "      <td>361160</td>\n",
       "      <td>Steamalot: Epoch's Journey</td>\n",
       "      <td>Strategy</td>\n",
       "      <td>2015</td>\n",
       "      <td>4.99</td>\n",
       "      <td>Risen Phoenix Studios</td>\n",
       "    </tr>\n",
       "    <tr>\n",
       "      <th>117501</th>\n",
       "      <td>271499</td>\n",
       "      <td>Rocksmith® 2014 – Spin Doctors - “Two Princes”</td>\n",
       "      <td>Simulation</td>\n",
       "      <td>2014</td>\n",
       "      <td>2.99</td>\n",
       "      <td>Ubisoft - San Francisco</td>\n",
       "    </tr>\n",
       "    <tr>\n",
       "      <th>88961</th>\n",
       "      <td>39160</td>\n",
       "      <td>Dungeon Siege III</td>\n",
       "      <td>Action</td>\n",
       "      <td>2011</td>\n",
       "      <td>14.99</td>\n",
       "      <td>Obsidian Entertainment</td>\n",
       "    </tr>\n",
       "  </tbody>\n",
       "</table>\n",
       "</div>"
      ],
      "text/plain": [
       "        item_id                                        app_name      genres  \\\n",
       "93026    415730                             STAR-BOX: Dark Hack       Indie   \n",
       "92682    375290                                     Superstatic      Action   \n",
       "92610    361160                      Steamalot: Epoch's Journey    Strategy   \n",
       "117501   271499  Rocksmith® 2014 – Spin Doctors - “Two Princes”  Simulation   \n",
       "88961     39160                               Dungeon Siege III      Action   \n",
       "\n",
       "        year  price                developer  \n",
       "93026   2015   0.99            Michael Flynn  \n",
       "92682   2015   4.99           Sleepy Studios  \n",
       "92610   2015   4.99    Risen Phoenix Studios  \n",
       "117501  2014   2.99  Ubisoft - San Francisco  \n",
       "88961   2011  14.99   Obsidian Entertainment  "
      ]
     },
     "execution_count": 13,
     "metadata": {},
     "output_type": "execute_result"
    }
   ],
   "source": [
    "df_games.sample(5)"
   ]
  },
  {
   "attachments": {},
   "cell_type": "markdown",
   "metadata": {},
   "source": [
    "### Verficación de valores duplicados - Dataset GAMES"
   ]
  },
  {
   "cell_type": "code",
   "execution_count": 14,
   "metadata": {},
   "outputs": [
    {
     "data": {
      "text/plain": [
       "1911358"
      ]
     },
     "execution_count": 14,
     "metadata": {},
     "output_type": "execute_result"
    }
   ],
   "source": [
    "df_games.duplicated().sum()"
   ]
  },
  {
   "cell_type": "code",
   "execution_count": 15,
   "metadata": {},
   "outputs": [
    {
     "name": "stdout",
     "output_type": "stream",
     "text": [
      "<class 'pandas.core.frame.DataFrame'>\n",
      "Index: 29782 entries, 0 to 71935\n",
      "Data columns (total 6 columns):\n",
      " #   Column     Non-Null Count  Dtype  \n",
      "---  ------     --------------  -----  \n",
      " 0   item_id    29782 non-null  int64  \n",
      " 1   app_name   29781 non-null  object \n",
      " 2   genres     28548 non-null  object \n",
      " 3   year       29782 non-null  int32  \n",
      " 4   price      27210 non-null  float64\n",
      " 5   developer  28532 non-null  object \n",
      "dtypes: float64(1), int32(1), int64(1), object(3)\n",
      "memory usage: 1.5+ MB\n"
     ]
    }
   ],
   "source": [
    "df_games = df_games.drop_duplicates().reset_index(drop=True)\n",
    "df_games = df_games.drop_duplicates(subset=['item_id'])     # Eliminar filas cuyo campo \"item_id\" tiene duplicados\n",
    "df_games.info()"
   ]
  },
  {
   "attachments": {},
   "cell_type": "markdown",
   "metadata": {},
   "source": [
    "### Verificación de valores nulos - Dataset GAMES"
   ]
  },
  {
   "cell_type": "code",
   "execution_count": 16,
   "metadata": {},
   "outputs": [
    {
     "data": {
      "text/plain": [
       "item_id         0\n",
       "app_name        1\n",
       "genres       1234\n",
       "year            0\n",
       "price        2572\n",
       "developer    1250\n",
       "dtype: int64"
      ]
     },
     "execution_count": 16,
     "metadata": {},
     "output_type": "execute_result"
    }
   ],
   "source": [
    "df_games.isnull().sum()"
   ]
  },
  {
   "attachments": {},
   "cell_type": "markdown",
   "metadata": {},
   "source": [
    "En este marco es difícil establecer un patrón de valores nulos que nos permita comprender la razón de su existencia. Considerando los efectos para los que es necesario este dataset, optaremos por eliminar los registros cuyos campos prinicipales del dataset presenten valores nulos."
   ]
  },
  {
   "cell_type": "code",
   "execution_count": 17,
   "metadata": {},
   "outputs": [],
   "source": [
    "df_games = df_games.dropna(subset=['genres', 'app_name'])"
   ]
  },
  {
   "cell_type": "code",
   "execution_count": 18,
   "metadata": {},
   "outputs": [
    {
     "data": {
      "text/plain": [
       "item_id         0\n",
       "app_name        0\n",
       "genres          0\n",
       "year            0\n",
       "price        2502\n",
       "developer     169\n",
       "dtype: int64"
      ]
     },
     "execution_count": 18,
     "metadata": {},
     "output_type": "execute_result"
    }
   ],
   "source": [
    "df_games.isnull().sum()"
   ]
  },
  {
   "attachments": {},
   "cell_type": "markdown",
   "metadata": {},
   "source": [
    "## Dataset REVIEWS"
   ]
  },
  {
   "attachments": {},
   "cell_type": "markdown",
   "metadata": {},
   "source": [
    "### Ingeniería de características - Dataset REVIEWS"
   ]
  },
  {
   "cell_type": "code",
   "execution_count": 19,
   "metadata": {},
   "outputs": [
    {
     "data": {
      "text/html": [
       "<div>\n",
       "<style scoped>\n",
       "    .dataframe tbody tr th:only-of-type {\n",
       "        vertical-align: middle;\n",
       "    }\n",
       "\n",
       "    .dataframe tbody tr th {\n",
       "        vertical-align: top;\n",
       "    }\n",
       "\n",
       "    .dataframe thead th {\n",
       "        text-align: right;\n",
       "    }\n",
       "</style>\n",
       "<table border=\"1\" class=\"dataframe\">\n",
       "  <thead>\n",
       "    <tr style=\"text-align: right;\">\n",
       "      <th></th>\n",
       "      <th>user_id</th>\n",
       "      <th>user_url</th>\n",
       "      <th>reviews</th>\n",
       "    </tr>\n",
       "  </thead>\n",
       "  <tbody>\n",
       "    <tr>\n",
       "      <th>12896</th>\n",
       "      <td>LordMemestar</td>\n",
       "      <td>http://steamcommunity.com/id/LordMemestar</td>\n",
       "      <td>[{'funny': '1 person found this review funny',...</td>\n",
       "    </tr>\n",
       "    <tr>\n",
       "      <th>7547</th>\n",
       "      <td>76561198088587850</td>\n",
       "      <td>http://steamcommunity.com/profiles/76561198088...</td>\n",
       "      <td>[{'funny': '', 'posted': 'Posted August 8, 201...</td>\n",
       "    </tr>\n",
       "  </tbody>\n",
       "</table>\n",
       "</div>"
      ],
      "text/plain": [
       "                 user_id                                           user_url  \\\n",
       "12896       LordMemestar          http://steamcommunity.com/id/LordMemestar   \n",
       "7547   76561198088587850  http://steamcommunity.com/profiles/76561198088...   \n",
       "\n",
       "                                                 reviews  \n",
       "12896  [{'funny': '1 person found this review funny',...  \n",
       "7547   [{'funny': '', 'posted': 'Posted August 8, 201...  "
      ]
     },
     "execution_count": 19,
     "metadata": {},
     "output_type": "execute_result"
    }
   ],
   "source": [
    "df_reviews = user_reviews\n",
    "df_reviews.sample(2)"
   ]
  },
  {
   "cell_type": "code",
   "execution_count": 20,
   "metadata": {},
   "outputs": [
    {
     "data": {
      "text/html": [
       "<div>\n",
       "<style scoped>\n",
       "    .dataframe tbody tr th:only-of-type {\n",
       "        vertical-align: middle;\n",
       "    }\n",
       "\n",
       "    .dataframe tbody tr th {\n",
       "        vertical-align: top;\n",
       "    }\n",
       "\n",
       "    .dataframe thead th {\n",
       "        text-align: right;\n",
       "    }\n",
       "</style>\n",
       "<table border=\"1\" class=\"dataframe\">\n",
       "  <thead>\n",
       "    <tr style=\"text-align: right;\">\n",
       "      <th></th>\n",
       "      <th>user_id</th>\n",
       "      <th>user_url</th>\n",
       "      <th>funny</th>\n",
       "      <th>posted</th>\n",
       "      <th>last_edited</th>\n",
       "      <th>item_id</th>\n",
       "      <th>helpful</th>\n",
       "      <th>recommend</th>\n",
       "      <th>review</th>\n",
       "      <th>0</th>\n",
       "    </tr>\n",
       "  </thead>\n",
       "  <tbody>\n",
       "    <tr>\n",
       "      <th>5149</th>\n",
       "      <td>76561198043497735</td>\n",
       "      <td>http://steamcommunity.com/profiles/76561198043...</td>\n",
       "      <td></td>\n",
       "      <td>Posted June 28, 2014.</td>\n",
       "      <td></td>\n",
       "      <td>49600</td>\n",
       "      <td>No ratings yet</td>\n",
       "      <td>True</td>\n",
       "      <td>My eyes won't stop bleeding. 11/4</td>\n",
       "      <td>NaN</td>\n",
       "    </tr>\n",
       "    <tr>\n",
       "      <th>9883</th>\n",
       "      <td>76561198097281049</td>\n",
       "      <td>http://steamcommunity.com/profiles/76561198097...</td>\n",
       "      <td></td>\n",
       "      <td>Posted January 27, 2015.</td>\n",
       "      <td></td>\n",
       "      <td>223710</td>\n",
       "      <td>No ratings yet</td>\n",
       "      <td>True</td>\n",
       "      <td>La verdad este juego no lo encuentro en otro l...</td>\n",
       "      <td>NaN</td>\n",
       "    </tr>\n",
       "    <tr>\n",
       "      <th>11662</th>\n",
       "      <td>educatedpotato</td>\n",
       "      <td>http://steamcommunity.com/id/educatedpotato</td>\n",
       "      <td></td>\n",
       "      <td>Posted April 3, 2015.</td>\n",
       "      <td></td>\n",
       "      <td>248820</td>\n",
       "      <td>No ratings yet</td>\n",
       "      <td>True</td>\n",
       "      <td>Fantastic game; the multiplayer is tricky 2 se...</td>\n",
       "      <td>NaN</td>\n",
       "    </tr>\n",
       "    <tr>\n",
       "      <th>19818</th>\n",
       "      <td>Ilikesalad</td>\n",
       "      <td>http://steamcommunity.com/id/Ilikesalad</td>\n",
       "      <td></td>\n",
       "      <td>Posted March 28.</td>\n",
       "      <td></td>\n",
       "      <td>238960</td>\n",
       "      <td>No ratings yet</td>\n",
       "      <td>True</td>\n",
       "      <td>Cheers, Rian</td>\n",
       "      <td>NaN</td>\n",
       "    </tr>\n",
       "    <tr>\n",
       "      <th>6470</th>\n",
       "      <td>waytogoidiot</td>\n",
       "      <td>http://steamcommunity.com/id/waytogoidiot</td>\n",
       "      <td></td>\n",
       "      <td>Posted June 25.</td>\n",
       "      <td></td>\n",
       "      <td>322330</td>\n",
       "      <td>No ratings yet</td>\n",
       "      <td>True</td>\n",
       "      <td>Dont Starve is a brilliant game and playing wi...</td>\n",
       "      <td>NaN</td>\n",
       "    </tr>\n",
       "  </tbody>\n",
       "</table>\n",
       "</div>"
      ],
      "text/plain": [
       "                 user_id                                           user_url  \\\n",
       "5149   76561198043497735  http://steamcommunity.com/profiles/76561198043...   \n",
       "9883   76561198097281049  http://steamcommunity.com/profiles/76561198097...   \n",
       "11662     educatedpotato        http://steamcommunity.com/id/educatedpotato   \n",
       "19818         Ilikesalad            http://steamcommunity.com/id/Ilikesalad   \n",
       "6470        waytogoidiot          http://steamcommunity.com/id/waytogoidiot   \n",
       "\n",
       "      funny                    posted last_edited item_id         helpful  \\\n",
       "5149            Posted June 28, 2014.               49600  No ratings yet   \n",
       "9883         Posted January 27, 2015.              223710  No ratings yet   \n",
       "11662           Posted April 3, 2015.              248820  No ratings yet   \n",
       "19818                Posted March 28.              238960  No ratings yet   \n",
       "6470                  Posted June 25.              322330  No ratings yet   \n",
       "\n",
       "      recommend                                             review   0  \n",
       "5149       True                  My eyes won't stop bleeding. 11/4 NaN  \n",
       "9883       True  La verdad este juego no lo encuentro en otro l... NaN  \n",
       "11662      True  Fantastic game; the multiplayer is tricky 2 se... NaN  \n",
       "19818      True                                       Cheers, Rian NaN  \n",
       "6470       True  Dont Starve is a brilliant game and playing wi... NaN  "
      ]
     },
     "execution_count": 20,
     "metadata": {},
     "output_type": "execute_result"
    }
   ],
   "source": [
    "# Desagregación del campo \"reviews\"\n",
    "\n",
    "df_reviews = user_reviews.explode('reviews')\n",
    "df_reviews = pd.concat([df_reviews.drop(['reviews'], axis=1), df_reviews['reviews'].apply(pd.Series)], axis=1)\n",
    "df_reviews.sample(5)"
   ]
  },
  {
   "cell_type": "code",
   "execution_count": 21,
   "metadata": {},
   "outputs": [
    {
     "data": {
      "text/html": [
       "<div>\n",
       "<style scoped>\n",
       "    .dataframe tbody tr th:only-of-type {\n",
       "        vertical-align: middle;\n",
       "    }\n",
       "\n",
       "    .dataframe tbody tr th {\n",
       "        vertical-align: top;\n",
       "    }\n",
       "\n",
       "    .dataframe thead th {\n",
       "        text-align: right;\n",
       "    }\n",
       "</style>\n",
       "<table border=\"1\" class=\"dataframe\">\n",
       "  <thead>\n",
       "    <tr style=\"text-align: right;\">\n",
       "      <th></th>\n",
       "      <th>user_id</th>\n",
       "      <th>user_url</th>\n",
       "      <th>funny</th>\n",
       "      <th>posted</th>\n",
       "      <th>last_edited</th>\n",
       "      <th>item_id</th>\n",
       "      <th>helpful</th>\n",
       "      <th>recommend</th>\n",
       "      <th>review</th>\n",
       "      <th>0</th>\n",
       "      <th>posted_date</th>\n",
       "      <th>year_review</th>\n",
       "    </tr>\n",
       "  </thead>\n",
       "  <tbody>\n",
       "    <tr>\n",
       "      <th>11423</th>\n",
       "      <td>Doctor_Smooth</td>\n",
       "      <td>http://steamcommunity.com/id/Doctor_Smooth</td>\n",
       "      <td></td>\n",
       "      <td>Posted December 11, 2015.</td>\n",
       "      <td></td>\n",
       "      <td>730</td>\n",
       "      <td>0 of 1 people (0%) found this review helpful</td>\n",
       "      <td>True</td>\n",
       "      <td>This game, man, THIS game... is REALLY good! T...</td>\n",
       "      <td>NaN</td>\n",
       "      <td>2015-12-11</td>\n",
       "      <td>2015</td>\n",
       "    </tr>\n",
       "    <tr>\n",
       "      <th>14404</th>\n",
       "      <td>mixadance</td>\n",
       "      <td>http://steamcommunity.com/id/mixadance</td>\n",
       "      <td></td>\n",
       "      <td>Posted February 7, 2013.</td>\n",
       "      <td></td>\n",
       "      <td>220440</td>\n",
       "      <td>3 of 6 people (50%) found this review helpful</td>\n",
       "      <td>True</td>\n",
       "      <td>I love this game ^-^</td>\n",
       "      <td>NaN</td>\n",
       "      <td>2013-02-07</td>\n",
       "      <td>2013</td>\n",
       "    </tr>\n",
       "  </tbody>\n",
       "</table>\n",
       "</div>"
      ],
      "text/plain": [
       "             user_id                                    user_url funny  \\\n",
       "11423  Doctor_Smooth  http://steamcommunity.com/id/Doctor_Smooth         \n",
       "14404      mixadance      http://steamcommunity.com/id/mixadance         \n",
       "\n",
       "                          posted last_edited item_id  \\\n",
       "11423  Posted December 11, 2015.                 730   \n",
       "14404   Posted February 7, 2013.              220440   \n",
       "\n",
       "                                             helpful recommend  \\\n",
       "11423   0 of 1 people (0%) found this review helpful      True   \n",
       "14404  3 of 6 people (50%) found this review helpful      True   \n",
       "\n",
       "                                                  review   0 posted_date  \\\n",
       "11423  This game, man, THIS game... is REALLY good! T... NaN  2015-12-11   \n",
       "14404                               I love this game ^-^ NaN  2013-02-07   \n",
       "\n",
       "       year_review  \n",
       "11423         2015  \n",
       "14404         2013  "
      ]
     },
     "execution_count": 21,
     "metadata": {},
     "output_type": "execute_result"
    }
   ],
   "source": [
    "# Agregación de los campos \"date\" y \"year\"\n",
    "\n",
    "def extract_posted_date(posted_str):         # Función para extraer la fecha del campo \"posted\"\n",
    "    pattern = r'Posted (\\w+ \\d{1,2}, \\d{4})' # Definición del patrón observado\n",
    "    match = re.search(pattern, posted_str)\n",
    "    if match:\n",
    "        return match.group(1)\n",
    "    else:\n",
    "        return None\n",
    "\n",
    "# Aplicar la función para extraer la fecha del campo \"posted\"\n",
    "df_reviews['posted_date'] = df_reviews['posted'].apply(lambda x: np.nan if pd.isna(x) else extract_posted_date(x))\n",
    "\n",
    "df_reviews['posted_date'] = pd.to_datetime(df_reviews['posted_date'])\n",
    "df_reviews['year_review'] = df_reviews['posted_date'].dt.year\n",
    "df_reviews['year_review'] = df_reviews['year_review'].fillna(0)\n",
    "df_reviews['year_review'] = df_reviews['year_review'].astype(int)\n",
    "\n",
    "df_reviews.sample(2)"
   ]
  },
  {
   "cell_type": "code",
   "execution_count": 22,
   "metadata": {},
   "outputs": [],
   "source": [
    "# Análisis de sentimientos a partir del campo \"review\"\n",
    "\n",
    "df_reviews['review'] = df_reviews['review'].astype(str)\n",
    "df_reviews['polarity'] = df_reviews['review'].apply(lambda text: TextBlob(text).sentiment.polarity)\n",
    "df_reviews['sentiment'] = pd.cut(df_reviews['polarity'], bins=[-float('inf'), -0.001, 0.0, float('inf')], labels=[0, 1, 2])"
   ]
  },
  {
   "cell_type": "code",
   "execution_count": 23,
   "metadata": {},
   "outputs": [
    {
     "data": {
      "text/html": [
       "<div>\n",
       "<style scoped>\n",
       "    .dataframe tbody tr th:only-of-type {\n",
       "        vertical-align: middle;\n",
       "    }\n",
       "\n",
       "    .dataframe tbody tr th {\n",
       "        vertical-align: top;\n",
       "    }\n",
       "\n",
       "    .dataframe thead th {\n",
       "        text-align: right;\n",
       "    }\n",
       "</style>\n",
       "<table border=\"1\" class=\"dataframe\">\n",
       "  <thead>\n",
       "    <tr style=\"text-align: right;\">\n",
       "      <th></th>\n",
       "      <th>user_id</th>\n",
       "      <th>user_url</th>\n",
       "      <th>funny</th>\n",
       "      <th>posted</th>\n",
       "      <th>last_edited</th>\n",
       "      <th>item_id</th>\n",
       "      <th>helpful</th>\n",
       "      <th>recommend</th>\n",
       "      <th>review</th>\n",
       "      <th>0</th>\n",
       "      <th>posted_date</th>\n",
       "      <th>year_review</th>\n",
       "      <th>polarity</th>\n",
       "      <th>sentiment</th>\n",
       "    </tr>\n",
       "  </thead>\n",
       "  <tbody>\n",
       "    <tr>\n",
       "      <th>9532</th>\n",
       "      <td>Koreanpony</td>\n",
       "      <td>http://steamcommunity.com/id/Koreanpony</td>\n",
       "      <td></td>\n",
       "      <td>Posted July 15.</td>\n",
       "      <td></td>\n",
       "      <td>417990</td>\n",
       "      <td>0 of 3 people (0%) found this review helpful</td>\n",
       "      <td>False</td>\n",
       "      <td>pls god Translation korean  I don`t no fxxk th...</td>\n",
       "      <td>NaN</td>\n",
       "      <td>NaT</td>\n",
       "      <td>0</td>\n",
       "      <td>0.000000</td>\n",
       "      <td>1</td>\n",
       "    </tr>\n",
       "    <tr>\n",
       "      <th>10339</th>\n",
       "      <td>Bobyzola</td>\n",
       "      <td>http://steamcommunity.com/id/Bobyzola</td>\n",
       "      <td>1 person found this review funny</td>\n",
       "      <td>Posted November 9, 2015.</td>\n",
       "      <td></td>\n",
       "      <td>271590</td>\n",
       "      <td>No ratings yet</td>\n",
       "      <td>True</td>\n",
       "      <td>Winning a race on a pink faggio and beating pe...</td>\n",
       "      <td>NaN</td>\n",
       "      <td>2015-11-09</td>\n",
       "      <td>2015</td>\n",
       "      <td>0.200000</td>\n",
       "      <td>2</td>\n",
       "    </tr>\n",
       "    <tr>\n",
       "      <th>8318</th>\n",
       "      <td>Cybs</td>\n",
       "      <td>http://steamcommunity.com/id/Cybs</td>\n",
       "      <td>1 person found this review funny</td>\n",
       "      <td>Posted February 1, 2015.</td>\n",
       "      <td></td>\n",
       "      <td>239140</td>\n",
       "      <td>2 of 3 people (67%) found this review helpful</td>\n",
       "      <td>True</td>\n",
       "      <td>https://www.youtube.com/watch?v=WA77HSGk0FAZom...</td>\n",
       "      <td>NaN</td>\n",
       "      <td>2015-02-01</td>\n",
       "      <td>2015</td>\n",
       "      <td>0.036837</td>\n",
       "      <td>2</td>\n",
       "    </tr>\n",
       "    <tr>\n",
       "      <th>14976</th>\n",
       "      <td>76561198102409708</td>\n",
       "      <td>http://steamcommunity.com/profiles/76561198102...</td>\n",
       "      <td></td>\n",
       "      <td>Posted January 26, 2015.</td>\n",
       "      <td></td>\n",
       "      <td>313120</td>\n",
       "      <td>2 of 2 people (100%) found this review helpful</td>\n",
       "      <td>True</td>\n",
       "      <td>The game sofar has been enjoyable although the...</td>\n",
       "      <td>NaN</td>\n",
       "      <td>2015-01-26</td>\n",
       "      <td>2015</td>\n",
       "      <td>0.122559</td>\n",
       "      <td>2</td>\n",
       "    </tr>\n",
       "    <tr>\n",
       "      <th>23973</th>\n",
       "      <td>awesomepunk39</td>\n",
       "      <td>http://steamcommunity.com/id/awesomepunk39</td>\n",
       "      <td></td>\n",
       "      <td>Posted December 15, 2013.</td>\n",
       "      <td></td>\n",
       "      <td>50130</td>\n",
       "      <td>0 of 1 people (0%) found this review helpful</td>\n",
       "      <td>True</td>\n",
       "      <td>HAAAAAAAAAAAAAAAAAAAAAAAAAAAAAAAAAAAAAAAAAAAAA...</td>\n",
       "      <td>NaN</td>\n",
       "      <td>2013-12-15</td>\n",
       "      <td>2013</td>\n",
       "      <td>0.000000</td>\n",
       "      <td>1</td>\n",
       "    </tr>\n",
       "  </tbody>\n",
       "</table>\n",
       "</div>"
      ],
      "text/plain": [
       "                 user_id                                           user_url  \\\n",
       "9532          Koreanpony            http://steamcommunity.com/id/Koreanpony   \n",
       "10339           Bobyzola              http://steamcommunity.com/id/Bobyzola   \n",
       "8318                Cybs                  http://steamcommunity.com/id/Cybs   \n",
       "14976  76561198102409708  http://steamcommunity.com/profiles/76561198102...   \n",
       "23973      awesomepunk39         http://steamcommunity.com/id/awesomepunk39   \n",
       "\n",
       "                                  funny                     posted  \\\n",
       "9532                                               Posted July 15.   \n",
       "10339  1 person found this review funny   Posted November 9, 2015.   \n",
       "8318   1 person found this review funny   Posted February 1, 2015.   \n",
       "14976                                     Posted January 26, 2015.   \n",
       "23973                                    Posted December 15, 2013.   \n",
       "\n",
       "      last_edited item_id                                         helpful  \\\n",
       "9532               417990    0 of 3 people (0%) found this review helpful   \n",
       "10339              271590                                  No ratings yet   \n",
       "8318               239140   2 of 3 people (67%) found this review helpful   \n",
       "14976              313120  2 of 2 people (100%) found this review helpful   \n",
       "23973               50130    0 of 1 people (0%) found this review helpful   \n",
       "\n",
       "      recommend                                             review   0  \\\n",
       "9532      False  pls god Translation korean  I don`t no fxxk th... NaN   \n",
       "10339      True  Winning a race on a pink faggio and beating pe... NaN   \n",
       "8318       True  https://www.youtube.com/watch?v=WA77HSGk0FAZom... NaN   \n",
       "14976      True  The game sofar has been enjoyable although the... NaN   \n",
       "23973      True  HAAAAAAAAAAAAAAAAAAAAAAAAAAAAAAAAAAAAAAAAAAAAA... NaN   \n",
       "\n",
       "      posted_date  year_review  polarity sentiment  \n",
       "9532          NaT            0  0.000000         1  \n",
       "10339  2015-11-09         2015  0.200000         2  \n",
       "8318   2015-02-01         2015  0.036837         2  \n",
       "14976  2015-01-26         2015  0.122559         2  \n",
       "23973  2013-12-15         2013  0.000000         1  "
      ]
     },
     "execution_count": 23,
     "metadata": {},
     "output_type": "execute_result"
    }
   ],
   "source": [
    "df_reviews.sample(5)"
   ]
  },
  {
   "cell_type": "code",
   "execution_count": 24,
   "metadata": {},
   "outputs": [
    {
     "data": {
      "text/html": [
       "<div>\n",
       "<style scoped>\n",
       "    .dataframe tbody tr th:only-of-type {\n",
       "        vertical-align: middle;\n",
       "    }\n",
       "\n",
       "    .dataframe tbody tr th {\n",
       "        vertical-align: top;\n",
       "    }\n",
       "\n",
       "    .dataframe thead th {\n",
       "        text-align: right;\n",
       "    }\n",
       "</style>\n",
       "<table border=\"1\" class=\"dataframe\">\n",
       "  <thead>\n",
       "    <tr style=\"text-align: right;\">\n",
       "      <th></th>\n",
       "      <th>item_id</th>\n",
       "      <th>user_id</th>\n",
       "      <th>recommend</th>\n",
       "      <th>year_review</th>\n",
       "      <th>polarity</th>\n",
       "      <th>sentiment</th>\n",
       "    </tr>\n",
       "  </thead>\n",
       "  <tbody>\n",
       "    <tr>\n",
       "      <th>1196</th>\n",
       "      <td>440</td>\n",
       "      <td>ias19112000</td>\n",
       "      <td>False</td>\n",
       "      <td>2013</td>\n",
       "      <td>-0.750</td>\n",
       "      <td>0</td>\n",
       "    </tr>\n",
       "    <tr>\n",
       "      <th>18574</th>\n",
       "      <td>218620</td>\n",
       "      <td>76561197991329759</td>\n",
       "      <td>True</td>\n",
       "      <td>2013</td>\n",
       "      <td>-0.040</td>\n",
       "      <td>0</td>\n",
       "    </tr>\n",
       "    <tr>\n",
       "      <th>15038</th>\n",
       "      <td>65980</td>\n",
       "      <td>76561198069214448</td>\n",
       "      <td>True</td>\n",
       "      <td>2014</td>\n",
       "      <td>0.275</td>\n",
       "      <td>2</td>\n",
       "    </tr>\n",
       "    <tr>\n",
       "      <th>9547</th>\n",
       "      <td>570</td>\n",
       "      <td>cumtasteslikejelley</td>\n",
       "      <td>True</td>\n",
       "      <td>2014</td>\n",
       "      <td>-0.120</td>\n",
       "      <td>0</td>\n",
       "    </tr>\n",
       "    <tr>\n",
       "      <th>14652</th>\n",
       "      <td>333600</td>\n",
       "      <td>pouyf</td>\n",
       "      <td>True</td>\n",
       "      <td>2015</td>\n",
       "      <td>-0.400</td>\n",
       "      <td>0</td>\n",
       "    </tr>\n",
       "  </tbody>\n",
       "</table>\n",
       "</div>"
      ],
      "text/plain": [
       "      item_id              user_id recommend  year_review  polarity sentiment\n",
       "1196      440          ias19112000     False         2013    -0.750         0\n",
       "18574  218620    76561197991329759      True         2013    -0.040         0\n",
       "15038   65980    76561198069214448      True         2014     0.275         2\n",
       "9547      570  cumtasteslikejelley      True         2014    -0.120         0\n",
       "14652  333600                pouyf      True         2015    -0.400         0"
      ]
     },
     "execution_count": 24,
     "metadata": {},
     "output_type": "execute_result"
    }
   ],
   "source": [
    "# Filtrado de campos a utilizar\n",
    "df_reviews = df_reviews[['item_id', 'user_id', 'recommend', 'year_review', 'polarity', 'sentiment']]\n",
    "df_reviews.sample(5)"
   ]
  },
  {
   "attachments": {},
   "cell_type": "markdown",
   "metadata": {},
   "source": [
    "### Verificación de tipos de datos - Dataset REVIEWS"
   ]
  },
  {
   "cell_type": "code",
   "execution_count": 25,
   "metadata": {},
   "outputs": [
    {
     "name": "stdout",
     "output_type": "stream",
     "text": [
      "<class 'pandas.core.frame.DataFrame'>\n",
      "Index: 59333 entries, 0 to 25798\n",
      "Data columns (total 6 columns):\n",
      " #   Column       Non-Null Count  Dtype   \n",
      "---  ------       --------------  -----   \n",
      " 0   item_id      59305 non-null  object  \n",
      " 1   user_id      59333 non-null  object  \n",
      " 2   recommend    59305 non-null  object  \n",
      " 3   year_review  59333 non-null  int64   \n",
      " 4   polarity     59333 non-null  float64 \n",
      " 5   sentiment    59333 non-null  category\n",
      "dtypes: category(1), float64(1), int64(1), object(3)\n",
      "memory usage: 2.8+ MB\n"
     ]
    }
   ],
   "source": [
    "df_reviews.info()"
   ]
  },
  {
   "cell_type": "code",
   "execution_count": 26,
   "metadata": {},
   "outputs": [
    {
     "name": "stdout",
     "output_type": "stream",
     "text": [
      "<class 'pandas.core.frame.DataFrame'>\n",
      "Index: 59333 entries, 0 to 25798\n",
      "Data columns (total 6 columns):\n",
      " #   Column       Non-Null Count  Dtype  \n",
      "---  ------       --------------  -----  \n",
      " 0   item_id      59305 non-null  float64\n",
      " 1   user_id      59333 non-null  object \n",
      " 2   recommend    59333 non-null  bool   \n",
      " 3   year_review  59333 non-null  int64  \n",
      " 4   polarity     59333 non-null  float64\n",
      " 5   sentiment    59333 non-null  int64  \n",
      "dtypes: bool(1), float64(2), int64(2), object(1)\n",
      "memory usage: 2.8+ MB\n"
     ]
    }
   ],
   "source": [
    "# Conversión de tipos de datos\n",
    "df_reviews['item_id'] = pd.to_numeric(df_reviews['item_id'], errors='coerce')\n",
    "df_reviews['recommend'] = df_reviews['recommend'].astype(bool)\n",
    "df_reviews['sentiment'] = pd.to_numeric(df_reviews['sentiment'], errors='coerce')\n",
    "df_reviews.info()"
   ]
  },
  {
   "attachments": {},
   "cell_type": "markdown",
   "metadata": {},
   "source": [
    "### Verificación de valores duplicados - Dataset REVIEWS"
   ]
  },
  {
   "cell_type": "code",
   "execution_count": 27,
   "metadata": {},
   "outputs": [
    {
     "data": {
      "text/plain": [
       "874"
      ]
     },
     "execution_count": 27,
     "metadata": {},
     "output_type": "execute_result"
    }
   ],
   "source": [
    "df_reviews.duplicated().sum()"
   ]
  },
  {
   "cell_type": "code",
   "execution_count": 28,
   "metadata": {},
   "outputs": [
    {
     "data": {
      "text/plain": [
       "0"
      ]
     },
     "execution_count": 28,
     "metadata": {},
     "output_type": "execute_result"
    }
   ],
   "source": [
    "# Eliminación de duplicados\n",
    "df_reviews = df_reviews.drop_duplicates().reset_index(drop=True)\n",
    "df_reviews.duplicated().sum()"
   ]
  },
  {
   "attachments": {},
   "cell_type": "markdown",
   "metadata": {},
   "source": [
    "### Verificación de valores nulos - Dataset REVIEWS"
   ]
  },
  {
   "cell_type": "code",
   "execution_count": 29,
   "metadata": {},
   "outputs": [
    {
     "data": {
      "text/plain": [
       "item_id        28\n",
       "user_id         0\n",
       "recommend       0\n",
       "year_review     0\n",
       "polarity        0\n",
       "sentiment       0\n",
       "dtype: int64"
      ]
     },
     "execution_count": 29,
     "metadata": {},
     "output_type": "execute_result"
    }
   ],
   "source": [
    "df_reviews.isnull().sum()"
   ]
  },
  {
   "cell_type": "code",
   "execution_count": 30,
   "metadata": {},
   "outputs": [
    {
     "data": {
      "text/plain": [
       "item_id        0\n",
       "user_id        0\n",
       "recommend      0\n",
       "year_review    0\n",
       "polarity       0\n",
       "sentiment      0\n",
       "dtype: int64"
      ]
     },
     "execution_count": 30,
     "metadata": {},
     "output_type": "execute_result"
    }
   ],
   "source": [
    "df_reviews = df_reviews.dropna(subset=['item_id'])\n",
    "df_reviews.isnull().sum()"
   ]
  },
  {
   "attachments": {},
   "cell_type": "markdown",
   "metadata": {},
   "source": [
    "## Dataset USAGE"
   ]
  },
  {
   "attachments": {},
   "cell_type": "markdown",
   "metadata": {},
   "source": [
    "### Ingeniería de características - Dataset USAGE"
   ]
  },
  {
   "cell_type": "code",
   "execution_count": 31,
   "metadata": {},
   "outputs": [
    {
     "data": {
      "text/html": [
       "<div>\n",
       "<style scoped>\n",
       "    .dataframe tbody tr th:only-of-type {\n",
       "        vertical-align: middle;\n",
       "    }\n",
       "\n",
       "    .dataframe tbody tr th {\n",
       "        vertical-align: top;\n",
       "    }\n",
       "\n",
       "    .dataframe thead th {\n",
       "        text-align: right;\n",
       "    }\n",
       "</style>\n",
       "<table border=\"1\" class=\"dataframe\">\n",
       "  <thead>\n",
       "    <tr style=\"text-align: right;\">\n",
       "      <th></th>\n",
       "      <th>user_id</th>\n",
       "      <th>items_count</th>\n",
       "      <th>steam_id</th>\n",
       "      <th>user_url</th>\n",
       "      <th>items</th>\n",
       "    </tr>\n",
       "  </thead>\n",
       "  <tbody>\n",
       "    <tr>\n",
       "      <th>43553</th>\n",
       "      <td>76561197974400211</td>\n",
       "      <td>10</td>\n",
       "      <td>76561197974400211</td>\n",
       "      <td>http://steamcommunity.com/profiles/76561197974...</td>\n",
       "      <td>[{'item_id': '220', 'item_name': 'Half-Life 2'...</td>\n",
       "    </tr>\n",
       "    <tr>\n",
       "      <th>29311</th>\n",
       "      <td>76561198059653682</td>\n",
       "      <td>116</td>\n",
       "      <td>76561198059653682</td>\n",
       "      <td>http://steamcommunity.com/profiles/76561198059...</td>\n",
       "      <td>[{'item_id': '3910', 'item_name': 'Sid Meier's...</td>\n",
       "    </tr>\n",
       "  </tbody>\n",
       "</table>\n",
       "</div>"
      ],
      "text/plain": [
       "                 user_id  items_count           steam_id  \\\n",
       "43553  76561197974400211           10  76561197974400211   \n",
       "29311  76561198059653682          116  76561198059653682   \n",
       "\n",
       "                                                user_url  \\\n",
       "43553  http://steamcommunity.com/profiles/76561197974...   \n",
       "29311  http://steamcommunity.com/profiles/76561198059...   \n",
       "\n",
       "                                                   items  \n",
       "43553  [{'item_id': '220', 'item_name': 'Half-Life 2'...  \n",
       "29311  [{'item_id': '3910', 'item_name': 'Sid Meier's...  "
      ]
     },
     "execution_count": 31,
     "metadata": {},
     "output_type": "execute_result"
    }
   ],
   "source": [
    "df_usage = user_items\n",
    "df_usage.sample(2)"
   ]
  },
  {
   "cell_type": "code",
   "execution_count": 32,
   "metadata": {},
   "outputs": [
    {
     "data": {
      "text/html": [
       "<div>\n",
       "<style scoped>\n",
       "    .dataframe tbody tr th:only-of-type {\n",
       "        vertical-align: middle;\n",
       "    }\n",
       "\n",
       "    .dataframe tbody tr th {\n",
       "        vertical-align: top;\n",
       "    }\n",
       "\n",
       "    .dataframe thead th {\n",
       "        text-align: right;\n",
       "    }\n",
       "</style>\n",
       "<table border=\"1\" class=\"dataframe\">\n",
       "  <thead>\n",
       "    <tr style=\"text-align: right;\">\n",
       "      <th></th>\n",
       "      <th>user_id</th>\n",
       "      <th>items_count</th>\n",
       "      <th>steam_id</th>\n",
       "      <th>user_url</th>\n",
       "      <th>items</th>\n",
       "      <th>item_id</th>\n",
       "      <th>item_name</th>\n",
       "      <th>playtime_forever</th>\n",
       "      <th>playtime_2weeks</th>\n",
       "    </tr>\n",
       "  </thead>\n",
       "  <tbody>\n",
       "    <tr>\n",
       "      <th>1120416</th>\n",
       "      <td>76561198036657265</td>\n",
       "      <td>108</td>\n",
       "      <td>76561198036657265</td>\n",
       "      <td>http://steamcommunity.com/profiles/76561198036...</td>\n",
       "      <td>{'item_id': '468700', 'item_name': 'NVIDIA® VR...</td>\n",
       "      <td>468700</td>\n",
       "      <td>NVIDIA® VR Funhouse</td>\n",
       "      <td>26.0</td>\n",
       "      <td>0.0</td>\n",
       "    </tr>\n",
       "    <tr>\n",
       "      <th>1551236</th>\n",
       "      <td>Sad0Panda</td>\n",
       "      <td>198</td>\n",
       "      <td>76561198062734284</td>\n",
       "      <td>http://steamcommunity.com/id/Sad0Panda</td>\n",
       "      <td>{'item_id': '207400', 'item_name': 'eXceed 3rd...</td>\n",
       "      <td>207400</td>\n",
       "      <td>eXceed 3rd - Jade Penetrate Black Package</td>\n",
       "      <td>755.0</td>\n",
       "      <td>0.0</td>\n",
       "    </tr>\n",
       "  </tbody>\n",
       "</table>\n",
       "</div>"
      ],
      "text/plain": [
       "                   user_id  items_count           steam_id  \\\n",
       "1120416  76561198036657265          108  76561198036657265   \n",
       "1551236          Sad0Panda          198  76561198062734284   \n",
       "\n",
       "                                                  user_url  \\\n",
       "1120416  http://steamcommunity.com/profiles/76561198036...   \n",
       "1551236             http://steamcommunity.com/id/Sad0Panda   \n",
       "\n",
       "                                                     items item_id  \\\n",
       "1120416  {'item_id': '468700', 'item_name': 'NVIDIA® VR...  468700   \n",
       "1551236  {'item_id': '207400', 'item_name': 'eXceed 3rd...  207400   \n",
       "\n",
       "                                         item_name  playtime_forever  \\\n",
       "1120416                        NVIDIA® VR Funhouse              26.0   \n",
       "1551236  eXceed 3rd - Jade Penetrate Black Package             755.0   \n",
       "\n",
       "         playtime_2weeks  \n",
       "1120416              0.0  \n",
       "1551236              0.0  "
      ]
     },
     "execution_count": 32,
     "metadata": {},
     "output_type": "execute_result"
    }
   ],
   "source": [
    "# Desagregación del campo \"items\"\n",
    "\n",
    "df_usage = user_items.explode('items')\n",
    "\n",
    "df_usage = df_usage.reset_index(drop=True)\n",
    "def obtener_elemento(diccionario, clave_busqueda):\n",
    "    if isinstance(diccionario, dict):\n",
    "        return diccionario.get(clave_busqueda)\n",
    "    else:\n",
    "        return diccionario\n",
    "\n",
    "# Desaagregaremos cada campo por separado para evitar tiempos excesivos de procesamiento\n",
    "df_usage['item_id'] = df_usage['items'].apply(lambda x: obtener_elemento(x, 'item_id'))\n",
    "df_usage['item_name'] = df_usage['items'].apply(lambda x: obtener_elemento(x, 'item_name'))\n",
    "df_usage['playtime_forever'] = df_usage['items'].apply(lambda x: obtener_elemento(x, 'playtime_forever'))\n",
    "df_usage['playtime_2weeks'] = df_usage['items'].apply(lambda x: obtener_elemento(x, 'playtime_2weeks'))\n",
    "\n",
    "df_usage.sample(2)"
   ]
  },
  {
   "cell_type": "code",
   "execution_count": 33,
   "metadata": {},
   "outputs": [
    {
     "data": {
      "text/html": [
       "<div>\n",
       "<style scoped>\n",
       "    .dataframe tbody tr th:only-of-type {\n",
       "        vertical-align: middle;\n",
       "    }\n",
       "\n",
       "    .dataframe tbody tr th {\n",
       "        vertical-align: top;\n",
       "    }\n",
       "\n",
       "    .dataframe thead th {\n",
       "        text-align: right;\n",
       "    }\n",
       "</style>\n",
       "<table border=\"1\" class=\"dataframe\">\n",
       "  <thead>\n",
       "    <tr style=\"text-align: right;\">\n",
       "      <th></th>\n",
       "      <th>item_id</th>\n",
       "      <th>user_id</th>\n",
       "      <th>playtime_forever</th>\n",
       "    </tr>\n",
       "  </thead>\n",
       "  <tbody>\n",
       "    <tr>\n",
       "      <th>3440760</th>\n",
       "      <td>202990</td>\n",
       "      <td>76561198009729872</td>\n",
       "      <td>335.0</td>\n",
       "    </tr>\n",
       "    <tr>\n",
       "      <th>556916</th>\n",
       "      <td>463150</td>\n",
       "      <td>CSMisBeast</td>\n",
       "      <td>211.0</td>\n",
       "    </tr>\n",
       "  </tbody>\n",
       "</table>\n",
       "</div>"
      ],
      "text/plain": [
       "        item_id            user_id  playtime_forever\n",
       "3440760  202990  76561198009729872             335.0\n",
       "556916   463150         CSMisBeast             211.0"
      ]
     },
     "execution_count": 33,
     "metadata": {},
     "output_type": "execute_result"
    }
   ],
   "source": [
    "# Filtrar campos a utilizar\n",
    "\n",
    "df_usage = df_usage[['item_id', 'user_id', 'playtime_forever']]\n",
    "df_usage.sample(2)"
   ]
  },
  {
   "attachments": {},
   "cell_type": "markdown",
   "metadata": {},
   "source": [
    "### Verificación de tipos de datos - Dataset USAGE\n"
   ]
  },
  {
   "cell_type": "code",
   "execution_count": 34,
   "metadata": {},
   "outputs": [
    {
     "name": "stdout",
     "output_type": "stream",
     "text": [
      "<class 'pandas.core.frame.DataFrame'>\n",
      "RangeIndex: 5170015 entries, 0 to 5170014\n",
      "Data columns (total 3 columns):\n",
      " #   Column            Dtype  \n",
      "---  ------            -----  \n",
      " 0   item_id           object \n",
      " 1   user_id           object \n",
      " 2   playtime_forever  float64\n",
      "dtypes: float64(1), object(2)\n",
      "memory usage: 118.3+ MB\n"
     ]
    }
   ],
   "source": [
    "df_usage.info()"
   ]
  },
  {
   "cell_type": "code",
   "execution_count": 35,
   "metadata": {},
   "outputs": [
    {
     "name": "stdout",
     "output_type": "stream",
     "text": [
      "<class 'pandas.core.frame.DataFrame'>\n",
      "RangeIndex: 5170015 entries, 0 to 5170014\n",
      "Data columns (total 3 columns):\n",
      " #   Column            Dtype  \n",
      "---  ------            -----  \n",
      " 0   item_id           float64\n",
      " 1   user_id           object \n",
      " 2   playtime_forever  float64\n",
      "dtypes: float64(2), object(1)\n",
      "memory usage: 118.3+ MB\n"
     ]
    }
   ],
   "source": [
    "# Conversión de tipos de datos\n",
    "df_usage['item_id'] = pd.to_numeric(df_usage['item_id'], errors='coerce')\n",
    "df_usage.info()"
   ]
  },
  {
   "attachments": {},
   "cell_type": "markdown",
   "metadata": {},
   "source": [
    "### Verficación de valores duplicados - Dataset USAGE"
   ]
  },
  {
   "cell_type": "code",
   "execution_count": 36,
   "metadata": {},
   "outputs": [
    {
     "data": {
      "text/plain": [
       "59209"
      ]
     },
     "execution_count": 36,
     "metadata": {},
     "output_type": "execute_result"
    }
   ],
   "source": [
    "df_usage.duplicated().sum()"
   ]
  },
  {
   "cell_type": "code",
   "execution_count": 37,
   "metadata": {},
   "outputs": [
    {
     "data": {
      "text/plain": [
       "0"
      ]
     },
     "execution_count": 37,
     "metadata": {},
     "output_type": "execute_result"
    }
   ],
   "source": [
    "# Eliminación de duplicados\n",
    "df_usage = df_usage.drop_duplicates().reset_index(drop=True)\n",
    "df_usage.duplicated().sum()"
   ]
  },
  {
   "attachments": {},
   "cell_type": "markdown",
   "metadata": {},
   "source": [
    "### Verificación de valores nulos - Dataset USAGE"
   ]
  },
  {
   "cell_type": "code",
   "execution_count": 38,
   "metadata": {},
   "outputs": [
    {
     "data": {
      "text/plain": [
       "item_id             16714\n",
       "user_id                 0\n",
       "playtime_forever    16714\n",
       "dtype: int64"
      ]
     },
     "execution_count": 38,
     "metadata": {},
     "output_type": "execute_result"
    }
   ],
   "source": [
    "df_usage.isnull().sum()"
   ]
  },
  {
   "cell_type": "code",
   "execution_count": 39,
   "metadata": {},
   "outputs": [
    {
     "data": {
      "text/plain": [
       "item_id             0\n",
       "user_id             0\n",
       "playtime_forever    0\n",
       "dtype: int64"
      ]
     },
     "execution_count": 39,
     "metadata": {},
     "output_type": "execute_result"
    }
   ],
   "source": [
    "df_usage = df_usage.dropna(subset=['item_id'])\n",
    "df_usage.isnull().sum()"
   ]
  },
  {
   "attachments": {},
   "cell_type": "markdown",
   "metadata": {},
   "source": [
    "# Exportación de datasets limpios"
   ]
  },
  {
   "cell_type": "code",
   "execution_count": 40,
   "metadata": {},
   "outputs": [],
   "source": [
    "df_games.to_csv('df_games.csv', index=False)\n",
    "df_reviews.to_csv('df_reviews.csv', index=False)\n",
    "df_usage.to_csv('df_usage.csv', index=False)"
   ]
  },
  {
   "attachments": {},
   "cell_type": "markdown",
   "metadata": {},
   "source": [
    "# Armado y exportación de dataframes para API"
   ]
  },
  {
   "attachments": {},
   "cell_type": "markdown",
   "metadata": {},
   "source": [
    "## Samples"
   ]
  },
  {
   "cell_type": "code",
   "execution_count": 41,
   "metadata": {},
   "outputs": [
    {
     "data": {
      "text/html": [
       "<div>\n",
       "<style scoped>\n",
       "    .dataframe tbody tr th:only-of-type {\n",
       "        vertical-align: middle;\n",
       "    }\n",
       "\n",
       "    .dataframe tbody tr th {\n",
       "        vertical-align: top;\n",
       "    }\n",
       "\n",
       "    .dataframe thead th {\n",
       "        text-align: right;\n",
       "    }\n",
       "</style>\n",
       "<table border=\"1\" class=\"dataframe\">\n",
       "  <thead>\n",
       "    <tr style=\"text-align: right;\">\n",
       "      <th></th>\n",
       "      <th>item_id</th>\n",
       "      <th>app_name</th>\n",
       "      <th>genres</th>\n",
       "      <th>year</th>\n",
       "      <th>price</th>\n",
       "      <th>developer</th>\n",
       "    </tr>\n",
       "  </thead>\n",
       "  <tbody>\n",
       "    <tr>\n",
       "      <th>47990</th>\n",
       "      <td>529200</td>\n",
       "      <td>Streamline Original Sound Track</td>\n",
       "      <td>Action</td>\n",
       "      <td>2016</td>\n",
       "      <td>8.99</td>\n",
       "      <td>Proletariat Inc.</td>\n",
       "    </tr>\n",
       "    <tr>\n",
       "      <th>28940</th>\n",
       "      <td>767230</td>\n",
       "      <td>Trainz Route: Cornish Mainline &amp; Branches</td>\n",
       "      <td>Simulation</td>\n",
       "      <td>2017</td>\n",
       "      <td>NaN</td>\n",
       "      <td>N3V Games</td>\n",
       "    </tr>\n",
       "  </tbody>\n",
       "</table>\n",
       "</div>"
      ],
      "text/plain": [
       "       item_id                                   app_name      genres  year  \\\n",
       "47990   529200            Streamline Original Sound Track      Action  2016   \n",
       "28940   767230  Trainz Route: Cornish Mainline & Branches  Simulation  2017   \n",
       "\n",
       "       price         developer  \n",
       "47990   8.99  Proletariat Inc.  \n",
       "28940    NaN         N3V Games  "
      ]
     },
     "execution_count": 41,
     "metadata": {},
     "output_type": "execute_result"
    }
   ],
   "source": [
    "df_games.sample(2)"
   ]
  },
  {
   "cell_type": "code",
   "execution_count": 42,
   "metadata": {},
   "outputs": [
    {
     "data": {
      "text/html": [
       "<div>\n",
       "<style scoped>\n",
       "    .dataframe tbody tr th:only-of-type {\n",
       "        vertical-align: middle;\n",
       "    }\n",
       "\n",
       "    .dataframe tbody tr th {\n",
       "        vertical-align: top;\n",
       "    }\n",
       "\n",
       "    .dataframe thead th {\n",
       "        text-align: right;\n",
       "    }\n",
       "</style>\n",
       "<table border=\"1\" class=\"dataframe\">\n",
       "  <thead>\n",
       "    <tr style=\"text-align: right;\">\n",
       "      <th></th>\n",
       "      <th>item_id</th>\n",
       "      <th>user_id</th>\n",
       "      <th>recommend</th>\n",
       "      <th>year_review</th>\n",
       "      <th>polarity</th>\n",
       "      <th>sentiment</th>\n",
       "    </tr>\n",
       "  </thead>\n",
       "  <tbody>\n",
       "    <tr>\n",
       "      <th>53808</th>\n",
       "      <td>440.0</td>\n",
       "      <td>DEATHFLINGER</td>\n",
       "      <td>True</td>\n",
       "      <td>2014</td>\n",
       "      <td>0.000000</td>\n",
       "      <td>1</td>\n",
       "    </tr>\n",
       "    <tr>\n",
       "      <th>3516</th>\n",
       "      <td>311210.0</td>\n",
       "      <td>dietrich1998</td>\n",
       "      <td>False</td>\n",
       "      <td>2015</td>\n",
       "      <td>-0.089792</td>\n",
       "      <td>0</td>\n",
       "    </tr>\n",
       "  </tbody>\n",
       "</table>\n",
       "</div>"
      ],
      "text/plain": [
       "        item_id       user_id  recommend  year_review  polarity  sentiment\n",
       "53808     440.0  DEATHFLINGER       True         2014  0.000000          1\n",
       "3516   311210.0  dietrich1998      False         2015 -0.089792          0"
      ]
     },
     "execution_count": 42,
     "metadata": {},
     "output_type": "execute_result"
    }
   ],
   "source": [
    "df_reviews.sample(2)"
   ]
  },
  {
   "cell_type": "code",
   "execution_count": 43,
   "metadata": {},
   "outputs": [
    {
     "data": {
      "text/html": [
       "<div>\n",
       "<style scoped>\n",
       "    .dataframe tbody tr th:only-of-type {\n",
       "        vertical-align: middle;\n",
       "    }\n",
       "\n",
       "    .dataframe tbody tr th {\n",
       "        vertical-align: top;\n",
       "    }\n",
       "\n",
       "    .dataframe thead th {\n",
       "        text-align: right;\n",
       "    }\n",
       "</style>\n",
       "<table border=\"1\" class=\"dataframe\">\n",
       "  <thead>\n",
       "    <tr style=\"text-align: right;\">\n",
       "      <th></th>\n",
       "      <th>item_id</th>\n",
       "      <th>user_id</th>\n",
       "      <th>playtime_forever</th>\n",
       "    </tr>\n",
       "  </thead>\n",
       "  <tbody>\n",
       "    <tr>\n",
       "      <th>484379</th>\n",
       "      <td>221640.0</td>\n",
       "      <td>76561198050156481</td>\n",
       "      <td>149.0</td>\n",
       "    </tr>\n",
       "    <tr>\n",
       "      <th>958171</th>\n",
       "      <td>333930.0</td>\n",
       "      <td>76561198067903499</td>\n",
       "      <td>1390.0</td>\n",
       "    </tr>\n",
       "  </tbody>\n",
       "</table>\n",
       "</div>"
      ],
      "text/plain": [
       "         item_id            user_id  playtime_forever\n",
       "484379  221640.0  76561198050156481             149.0\n",
       "958171  333930.0  76561198067903499            1390.0"
      ]
     },
     "execution_count": 43,
     "metadata": {},
     "output_type": "execute_result"
    }
   ],
   "source": [
    "df_usage.sample(2)"
   ]
  },
  {
   "attachments": {},
   "cell_type": "markdown",
   "metadata": {},
   "source": [
    "## Endpoint 1"
   ]
  },
  {
   "attachments": {},
   "cell_type": "markdown",
   "metadata": {},
   "source": [
    "def PlayTimeGenre(genre: str): Debe devolver año con mas horas jugadas para dicho género.\n",
    "\n",
    "Ejemplo de retorno: {\"Año de lanzamiento con más horas jugadas para Género X\" : 2013}"
   ]
  },
  {
   "cell_type": "code",
   "execution_count": 44,
   "metadata": {},
   "outputs": [
    {
     "data": {
      "text/html": [
       "<div>\n",
       "<style scoped>\n",
       "    .dataframe tbody tr th:only-of-type {\n",
       "        vertical-align: middle;\n",
       "    }\n",
       "\n",
       "    .dataframe tbody tr th {\n",
       "        vertical-align: top;\n",
       "    }\n",
       "\n",
       "    .dataframe thead th {\n",
       "        text-align: right;\n",
       "    }\n",
       "</style>\n",
       "<table border=\"1\" class=\"dataframe\">\n",
       "  <thead>\n",
       "    <tr style=\"text-align: right;\">\n",
       "      <th></th>\n",
       "      <th>genres</th>\n",
       "      <th>year</th>\n",
       "    </tr>\n",
       "  </thead>\n",
       "  <tbody>\n",
       "    <tr>\n",
       "      <th>847814</th>\n",
       "      <td>Action</td>\n",
       "      <td>2012</td>\n",
       "    </tr>\n",
       "    <tr>\n",
       "      <th>1363800</th>\n",
       "      <td>Adventure</td>\n",
       "      <td>2015</td>\n",
       "    </tr>\n",
       "    <tr>\n",
       "      <th>1346922</th>\n",
       "      <td>Animation &amp;amp; Modeling</td>\n",
       "      <td>2015</td>\n",
       "    </tr>\n",
       "    <tr>\n",
       "      <th>2389134</th>\n",
       "      <td>Audio Production</td>\n",
       "      <td>2014</td>\n",
       "    </tr>\n",
       "    <tr>\n",
       "      <th>3381479</th>\n",
       "      <td>Casual</td>\n",
       "      <td>2011</td>\n",
       "    </tr>\n",
       "    <tr>\n",
       "      <th>2905284</th>\n",
       "      <td>Design &amp;amp; Illustration</td>\n",
       "      <td>2012</td>\n",
       "    </tr>\n",
       "    <tr>\n",
       "      <th>2273948</th>\n",
       "      <td>Early Access</td>\n",
       "      <td>2014</td>\n",
       "    </tr>\n",
       "    <tr>\n",
       "      <th>1054235</th>\n",
       "      <td>Education</td>\n",
       "      <td>2014</td>\n",
       "    </tr>\n",
       "    <tr>\n",
       "      <th>3253181</th>\n",
       "      <td>Free to Play</td>\n",
       "      <td>2012</td>\n",
       "    </tr>\n",
       "    <tr>\n",
       "      <th>27418</th>\n",
       "      <td>Indie</td>\n",
       "      <td>2006</td>\n",
       "    </tr>\n",
       "    <tr>\n",
       "      <th>2473379</th>\n",
       "      <td>Massively Multiplayer</td>\n",
       "      <td>2014</td>\n",
       "    </tr>\n",
       "    <tr>\n",
       "      <th>2906133</th>\n",
       "      <td>Photo Editing</td>\n",
       "      <td>2012</td>\n",
       "    </tr>\n",
       "    <tr>\n",
       "      <th>666470</th>\n",
       "      <td>RPG</td>\n",
       "      <td>2012</td>\n",
       "    </tr>\n",
       "    <tr>\n",
       "      <th>2718633</th>\n",
       "      <td>Racing</td>\n",
       "      <td>2013</td>\n",
       "    </tr>\n",
       "    <tr>\n",
       "      <th>2681740</th>\n",
       "      <td>Simulation</td>\n",
       "      <td>2013</td>\n",
       "    </tr>\n",
       "    <tr>\n",
       "      <th>1971838</th>\n",
       "      <td>Software Training</td>\n",
       "      <td>2015</td>\n",
       "    </tr>\n",
       "    <tr>\n",
       "      <th>3030249</th>\n",
       "      <td>Sports</td>\n",
       "      <td>2012</td>\n",
       "    </tr>\n",
       "    <tr>\n",
       "      <th>411178</th>\n",
       "      <td>Strategy</td>\n",
       "      <td>2010</td>\n",
       "    </tr>\n",
       "    <tr>\n",
       "      <th>1168361</th>\n",
       "      <td>Utilities</td>\n",
       "      <td>2014</td>\n",
       "    </tr>\n",
       "    <tr>\n",
       "      <th>2116710</th>\n",
       "      <td>Video Production</td>\n",
       "      <td>2015</td>\n",
       "    </tr>\n",
       "    <tr>\n",
       "      <th>2517438</th>\n",
       "      <td>Web Publishing</td>\n",
       "      <td>2005</td>\n",
       "    </tr>\n",
       "  </tbody>\n",
       "</table>\n",
       "</div>"
      ],
      "text/plain": [
       "                            genres  year\n",
       "847814                      Action  2012\n",
       "1363800                  Adventure  2015\n",
       "1346922   Animation &amp; Modeling  2015\n",
       "2389134           Audio Production  2014\n",
       "3381479                     Casual  2011\n",
       "2905284  Design &amp; Illustration  2012\n",
       "2273948               Early Access  2014\n",
       "1054235                  Education  2014\n",
       "3253181               Free to Play  2012\n",
       "27418                        Indie  2006\n",
       "2473379      Massively Multiplayer  2014\n",
       "2906133              Photo Editing  2012\n",
       "666470                         RPG  2012\n",
       "2718633                     Racing  2013\n",
       "2681740                 Simulation  2013\n",
       "1971838          Software Training  2015\n",
       "3030249                     Sports  2012\n",
       "411178                    Strategy  2010\n",
       "1168361                  Utilities  2014\n",
       "2116710           Video Production  2015\n",
       "2517438             Web Publishing  2005"
      ]
     },
     "execution_count": 44,
     "metadata": {},
     "output_type": "execute_result"
    }
   ],
   "source": [
    "# Armado de dataframe para la función\n",
    "df_e1 = pd.merge(df_games, df_usage, on=\"item_id\", how=\"inner\")\n",
    "df_e1 = df_e1[['genres', 'year','playtime_forever']]\n",
    "\n",
    "# Serie que contiene el índice de cada fila con el max playtime de cada género\n",
    "df_e1_indmax = df_e1.groupby('genres')['playtime_forever'].idxmax() \n",
    "\n",
    "# Usar los índices para obtener los años correspondientes\n",
    "df_e1 = df_e1.loc[df_e1_indmax, ['genres', 'year', 'playtime_forever']] \n",
    "\n",
    "# Mostrar los años con el máximo playtime_forever por género\n",
    "df_e1 = df_e1[['genres', 'year']]\n",
    "df_e1.to_csv('df_e1.csv', index=False)\n",
    "df_e1"
   ]
  },
  {
   "cell_type": "code",
   "execution_count": 45,
   "metadata": {},
   "outputs": [
    {
     "data": {
      "text/html": [
       "<div>\n",
       "<style scoped>\n",
       "    .dataframe tbody tr th:only-of-type {\n",
       "        vertical-align: middle;\n",
       "    }\n",
       "\n",
       "    .dataframe tbody tr th {\n",
       "        vertical-align: top;\n",
       "    }\n",
       "\n",
       "    .dataframe thead th {\n",
       "        text-align: right;\n",
       "    }\n",
       "</style>\n",
       "<table border=\"1\" class=\"dataframe\">\n",
       "  <thead>\n",
       "    <tr style=\"text-align: right;\">\n",
       "      <th></th>\n",
       "      <th>genres</th>\n",
       "      <th>year</th>\n",
       "    </tr>\n",
       "  </thead>\n",
       "  <tbody>\n",
       "    <tr>\n",
       "      <th>411178</th>\n",
       "      <td>Strategy</td>\n",
       "      <td>2010</td>\n",
       "    </tr>\n",
       "  </tbody>\n",
       "</table>\n",
       "</div>"
      ],
      "text/plain": [
       "          genres  year\n",
       "411178  Strategy  2010"
      ]
     },
     "execution_count": 45,
     "metadata": {},
     "output_type": "execute_result"
    }
   ],
   "source": [
    "# Probamos el dataframe para la función\n",
    "df_func1 = df_e1[df_e1['genres'] == 'Strategy']\n",
    "df_func1"
   ]
  },
  {
   "cell_type": "code",
   "execution_count": 46,
   "metadata": {},
   "outputs": [],
   "source": [
    "# Definir la función\n",
    "def PlayTimeGenre(input_genre: str):\n",
    "    try:\n",
    "        df_e1 = pd.read_csv(\"df_e1.csv\")                # Lectura del df\n",
    "        df_e1 = df_e1[df_e1[\"genres\"] == input_genre]   # Filtrar por input\n",
    "        \n",
    "        output_year = df_e1.loc[df_e1['year'].idxmax(), 'year']\n",
    "    \n",
    "        return {f\"Año de lanzamiento con más horas jugadas para {input_genre}\": output_year}\n",
    "    except Exception as e:\n",
    "        return {\"error\": str(e)}"
   ]
  },
  {
   "cell_type": "code",
   "execution_count": 47,
   "metadata": {},
   "outputs": [
    {
     "name": "stdout",
     "output_type": "stream",
     "text": [
      "{'Año de lanzamiento con más horas jugadas para Strategy': 2010}\n"
     ]
    }
   ],
   "source": [
    "# Probamos la funcion\n",
    "input_genre = \"Strategy\"\n",
    "print(PlayTimeGenre(input_genre))"
   ]
  },
  {
   "attachments": {},
   "cell_type": "markdown",
   "metadata": {},
   "source": [
    "## Endpoint 2"
   ]
  },
  {
   "cell_type": "markdown",
   "metadata": {},
   "source": [
    "def UserForGenre( genero : str ): Debe devolver el usuario que acumula más horas jugadas para el género dado y una lista de la acumulación de horas jugadas por año.\n",
    "\n",
    "Ejemplo de retorno: {\"Usuario con más horas jugadas para Género X\" : us213ndjss09sdf, \"Horas jugadas\":[{Año: 2013, Horas: 203}, {Año: 2012, Horas: 100}, {Año: 2011, Horas: 23}]}"
   ]
  },
  {
   "cell_type": "code",
   "execution_count": 48,
   "metadata": {},
   "outputs": [],
   "source": [
    "df_e2 = pd.merge(df_games, df_usage, on=\"item_id\", how=\"inner\") # Unir datasets\n",
    "df_e2 = df_e2[['genres', 'year', 'user_id','playtime_forever']] # Filtrar campos\n",
    "\n",
    "# Obtener el índice de la fila con el máximo valor de playtime_forever para cada género\n",
    "df_e2_indmax = df_e2.groupby('genres')['playtime_forever'].idxmax()\n",
    "# Usar los índices para obtener los años correspondientes\n",
    "# Utilzaremos el anio de lanzamiento para tomar el playtime\n",
    "df_e2 = df_e2.loc[df_e2_indmax, ['genres', 'year', 'user_id', 'playtime_forever']]"
   ]
  },
  {
   "cell_type": "code",
   "execution_count": 49,
   "metadata": {},
   "outputs": [
    {
     "data": {
      "text/html": [
       "<div>\n",
       "<style scoped>\n",
       "    .dataframe tbody tr th:only-of-type {\n",
       "        vertical-align: middle;\n",
       "    }\n",
       "\n",
       "    .dataframe tbody tr th {\n",
       "        vertical-align: top;\n",
       "    }\n",
       "\n",
       "    .dataframe thead th {\n",
       "        text-align: right;\n",
       "    }\n",
       "</style>\n",
       "<table border=\"1\" class=\"dataframe\">\n",
       "  <thead>\n",
       "    <tr style=\"text-align: right;\">\n",
       "      <th></th>\n",
       "      <th>genres</th>\n",
       "      <th>user_id</th>\n",
       "    </tr>\n",
       "  </thead>\n",
       "  <tbody>\n",
       "    <tr>\n",
       "      <th>847814</th>\n",
       "      <td>Action</td>\n",
       "      <td>Evilutional</td>\n",
       "    </tr>\n",
       "    <tr>\n",
       "      <th>1363800</th>\n",
       "      <td>Adventure</td>\n",
       "      <td>idonothack</td>\n",
       "    </tr>\n",
       "    <tr>\n",
       "      <th>1346922</th>\n",
       "      <td>Animation &amp;amp; Modeling</td>\n",
       "      <td>ScottyG555</td>\n",
       "    </tr>\n",
       "    <tr>\n",
       "      <th>2389134</th>\n",
       "      <td>Audio Production</td>\n",
       "      <td>Lickidactyl</td>\n",
       "    </tr>\n",
       "    <tr>\n",
       "      <th>3381479</th>\n",
       "      <td>Casual</td>\n",
       "      <td>tsunamitad</td>\n",
       "    </tr>\n",
       "    <tr>\n",
       "      <th>2905284</th>\n",
       "      <td>Design &amp;amp; Illustration</td>\n",
       "      <td>76561198035718256</td>\n",
       "    </tr>\n",
       "    <tr>\n",
       "      <th>2273948</th>\n",
       "      <td>Early Access</td>\n",
       "      <td>76561198084846677</td>\n",
       "    </tr>\n",
       "    <tr>\n",
       "      <th>1054235</th>\n",
       "      <td>Education</td>\n",
       "      <td>SeedyDog</td>\n",
       "    </tr>\n",
       "    <tr>\n",
       "      <th>3253181</th>\n",
       "      <td>Free to Play</td>\n",
       "      <td>76561198063368177</td>\n",
       "    </tr>\n",
       "    <tr>\n",
       "      <th>27418</th>\n",
       "      <td>Indie</td>\n",
       "      <td>wolop</td>\n",
       "    </tr>\n",
       "    <tr>\n",
       "      <th>2473379</th>\n",
       "      <td>Massively Multiplayer</td>\n",
       "      <td>KingXRay</td>\n",
       "    </tr>\n",
       "    <tr>\n",
       "      <th>2906133</th>\n",
       "      <td>Photo Editing</td>\n",
       "      <td>robinwalker</td>\n",
       "    </tr>\n",
       "    <tr>\n",
       "      <th>666470</th>\n",
       "      <td>RPG</td>\n",
       "      <td>76561198032459795</td>\n",
       "    </tr>\n",
       "    <tr>\n",
       "      <th>2718633</th>\n",
       "      <td>Racing</td>\n",
       "      <td>76561197995725436</td>\n",
       "    </tr>\n",
       "    <tr>\n",
       "      <th>2681740</th>\n",
       "      <td>Simulation</td>\n",
       "      <td>76561198038513068</td>\n",
       "    </tr>\n",
       "    <tr>\n",
       "      <th>1971838</th>\n",
       "      <td>Software Training</td>\n",
       "      <td>madzit</td>\n",
       "    </tr>\n",
       "    <tr>\n",
       "      <th>3030249</th>\n",
       "      <td>Sports</td>\n",
       "      <td>76561198071238400</td>\n",
       "    </tr>\n",
       "    <tr>\n",
       "      <th>411178</th>\n",
       "      <td>Strategy</td>\n",
       "      <td>streetjimmy</td>\n",
       "    </tr>\n",
       "    <tr>\n",
       "      <th>1168361</th>\n",
       "      <td>Utilities</td>\n",
       "      <td>76561198073642113</td>\n",
       "    </tr>\n",
       "    <tr>\n",
       "      <th>2116710</th>\n",
       "      <td>Video Production</td>\n",
       "      <td>AussieAidan</td>\n",
       "    </tr>\n",
       "    <tr>\n",
       "      <th>2517438</th>\n",
       "      <td>Web Publishing</td>\n",
       "      <td>76561198055339371</td>\n",
       "    </tr>\n",
       "  </tbody>\n",
       "</table>\n",
       "</div>"
      ],
      "text/plain": [
       "                            genres            user_id\n",
       "847814                      Action        Evilutional\n",
       "1363800                  Adventure         idonothack\n",
       "1346922   Animation &amp; Modeling         ScottyG555\n",
       "2389134           Audio Production        Lickidactyl\n",
       "3381479                     Casual         tsunamitad\n",
       "2905284  Design &amp; Illustration  76561198035718256\n",
       "2273948               Early Access  76561198084846677\n",
       "1054235                  Education           SeedyDog\n",
       "3253181               Free to Play  76561198063368177\n",
       "27418                        Indie              wolop\n",
       "2473379      Massively Multiplayer           KingXRay\n",
       "2906133              Photo Editing        robinwalker\n",
       "666470                         RPG  76561198032459795\n",
       "2718633                     Racing  76561197995725436\n",
       "2681740                 Simulation  76561198038513068\n",
       "1971838          Software Training             madzit\n",
       "3030249                     Sports  76561198071238400\n",
       "411178                    Strategy        streetjimmy\n",
       "1168361                  Utilities  76561198073642113\n",
       "2116710           Video Production        AussieAidan\n",
       "2517438             Web Publishing  76561198055339371"
      ]
     },
     "execution_count": 49,
     "metadata": {},
     "output_type": "execute_result"
    }
   ],
   "source": [
    "df_e2_users = df_e2[['genres', 'user_id']]\n",
    "df_e2_users.to_csv('df_e2_users.csv', index=False)\n",
    "df_e2_users"
   ]
  },
  {
   "cell_type": "code",
   "execution_count": 50,
   "metadata": {},
   "outputs": [
    {
     "data": {
      "text/html": [
       "<div>\n",
       "<style scoped>\n",
       "    .dataframe tbody tr th:only-of-type {\n",
       "        vertical-align: middle;\n",
       "    }\n",
       "\n",
       "    .dataframe tbody tr th {\n",
       "        vertical-align: top;\n",
       "    }\n",
       "\n",
       "    .dataframe thead th {\n",
       "        text-align: right;\n",
       "    }\n",
       "</style>\n",
       "<table border=\"1\" class=\"dataframe\">\n",
       "  <thead>\n",
       "    <tr style=\"text-align: right;\">\n",
       "      <th></th>\n",
       "      <th>genres</th>\n",
       "      <th>year</th>\n",
       "      <th>user_id</th>\n",
       "      <th>playtime_forever</th>\n",
       "    </tr>\n",
       "  </thead>\n",
       "  <tbody>\n",
       "    <tr>\n",
       "      <th>847814</th>\n",
       "      <td>Action</td>\n",
       "      <td>2012</td>\n",
       "      <td>Evilutional</td>\n",
       "      <td>635295.0</td>\n",
       "    </tr>\n",
       "    <tr>\n",
       "      <th>1363800</th>\n",
       "      <td>Adventure</td>\n",
       "      <td>2015</td>\n",
       "      <td>idonothack</td>\n",
       "      <td>333482.0</td>\n",
       "    </tr>\n",
       "    <tr>\n",
       "      <th>1346922</th>\n",
       "      <td>Animation &amp;amp; Modeling</td>\n",
       "      <td>2015</td>\n",
       "      <td>ScottyG555</td>\n",
       "      <td>168314.0</td>\n",
       "    </tr>\n",
       "    <tr>\n",
       "      <th>2389134</th>\n",
       "      <td>Audio Production</td>\n",
       "      <td>2014</td>\n",
       "      <td>Lickidactyl</td>\n",
       "      <td>109916.0</td>\n",
       "    </tr>\n",
       "    <tr>\n",
       "      <th>3381479</th>\n",
       "      <td>Casual</td>\n",
       "      <td>2011</td>\n",
       "      <td>tsunamitad</td>\n",
       "      <td>600068.0</td>\n",
       "    </tr>\n",
       "    <tr>\n",
       "      <th>2905284</th>\n",
       "      <td>Design &amp;amp; Illustration</td>\n",
       "      <td>2012</td>\n",
       "      <td>76561198035718256</td>\n",
       "      <td>102554.0</td>\n",
       "    </tr>\n",
       "    <tr>\n",
       "      <th>2273948</th>\n",
       "      <td>Early Access</td>\n",
       "      <td>2014</td>\n",
       "      <td>76561198084846677</td>\n",
       "      <td>1241.0</td>\n",
       "    </tr>\n",
       "    <tr>\n",
       "      <th>1054235</th>\n",
       "      <td>Education</td>\n",
       "      <td>2014</td>\n",
       "      <td>SeedyDog</td>\n",
       "      <td>3082.0</td>\n",
       "    </tr>\n",
       "    <tr>\n",
       "      <th>3253181</th>\n",
       "      <td>Free to Play</td>\n",
       "      <td>2012</td>\n",
       "      <td>76561198063368177</td>\n",
       "      <td>439912.0</td>\n",
       "    </tr>\n",
       "    <tr>\n",
       "      <th>27418</th>\n",
       "      <td>Indie</td>\n",
       "      <td>2006</td>\n",
       "      <td>wolop</td>\n",
       "      <td>642773.0</td>\n",
       "    </tr>\n",
       "    <tr>\n",
       "      <th>2473379</th>\n",
       "      <td>Massively Multiplayer</td>\n",
       "      <td>2014</td>\n",
       "      <td>KingXRay</td>\n",
       "      <td>338572.0</td>\n",
       "    </tr>\n",
       "    <tr>\n",
       "      <th>2906133</th>\n",
       "      <td>Photo Editing</td>\n",
       "      <td>2012</td>\n",
       "      <td>robinwalker</td>\n",
       "      <td>1554.0</td>\n",
       "    </tr>\n",
       "    <tr>\n",
       "      <th>666470</th>\n",
       "      <td>RPG</td>\n",
       "      <td>2012</td>\n",
       "      <td>76561198032459795</td>\n",
       "      <td>274817.0</td>\n",
       "    </tr>\n",
       "    <tr>\n",
       "      <th>2718633</th>\n",
       "      <td>Racing</td>\n",
       "      <td>2013</td>\n",
       "      <td>76561197995725436</td>\n",
       "      <td>79186.0</td>\n",
       "    </tr>\n",
       "    <tr>\n",
       "      <th>2681740</th>\n",
       "      <td>Simulation</td>\n",
       "      <td>2013</td>\n",
       "      <td>76561198038513068</td>\n",
       "      <td>308612.0</td>\n",
       "    </tr>\n",
       "    <tr>\n",
       "      <th>1971838</th>\n",
       "      <td>Software Training</td>\n",
       "      <td>2015</td>\n",
       "      <td>madzit</td>\n",
       "      <td>464.0</td>\n",
       "    </tr>\n",
       "    <tr>\n",
       "      <th>3030249</th>\n",
       "      <td>Sports</td>\n",
       "      <td>2012</td>\n",
       "      <td>76561198071238400</td>\n",
       "      <td>108052.0</td>\n",
       "    </tr>\n",
       "    <tr>\n",
       "      <th>411178</th>\n",
       "      <td>Strategy</td>\n",
       "      <td>2010</td>\n",
       "      <td>streetjimmy</td>\n",
       "      <td>425437.0</td>\n",
       "    </tr>\n",
       "    <tr>\n",
       "      <th>1168361</th>\n",
       "      <td>Utilities</td>\n",
       "      <td>2014</td>\n",
       "      <td>76561198073642113</td>\n",
       "      <td>207651.0</td>\n",
       "    </tr>\n",
       "    <tr>\n",
       "      <th>2116710</th>\n",
       "      <td>Video Production</td>\n",
       "      <td>2015</td>\n",
       "      <td>AussieAidan</td>\n",
       "      <td>68163.0</td>\n",
       "    </tr>\n",
       "    <tr>\n",
       "      <th>2517438</th>\n",
       "      <td>Web Publishing</td>\n",
       "      <td>2005</td>\n",
       "      <td>76561198055339371</td>\n",
       "      <td>11711.0</td>\n",
       "    </tr>\n",
       "  </tbody>\n",
       "</table>\n",
       "</div>"
      ],
      "text/plain": [
       "                            genres  year            user_id  playtime_forever\n",
       "847814                      Action  2012        Evilutional          635295.0\n",
       "1363800                  Adventure  2015         idonothack          333482.0\n",
       "1346922   Animation &amp; Modeling  2015         ScottyG555          168314.0\n",
       "2389134           Audio Production  2014        Lickidactyl          109916.0\n",
       "3381479                     Casual  2011         tsunamitad          600068.0\n",
       "2905284  Design &amp; Illustration  2012  76561198035718256          102554.0\n",
       "2273948               Early Access  2014  76561198084846677            1241.0\n",
       "1054235                  Education  2014           SeedyDog            3082.0\n",
       "3253181               Free to Play  2012  76561198063368177          439912.0\n",
       "27418                        Indie  2006              wolop          642773.0\n",
       "2473379      Massively Multiplayer  2014           KingXRay          338572.0\n",
       "2906133              Photo Editing  2012        robinwalker            1554.0\n",
       "666470                         RPG  2012  76561198032459795          274817.0\n",
       "2718633                     Racing  2013  76561197995725436           79186.0\n",
       "2681740                 Simulation  2013  76561198038513068          308612.0\n",
       "1971838          Software Training  2015             madzit             464.0\n",
       "3030249                     Sports  2012  76561198071238400          108052.0\n",
       "411178                    Strategy  2010        streetjimmy          425437.0\n",
       "1168361                  Utilities  2014  76561198073642113          207651.0\n",
       "2116710           Video Production  2015        AussieAidan           68163.0\n",
       "2517438             Web Publishing  2005  76561198055339371           11711.0"
      ]
     },
     "execution_count": 50,
     "metadata": {},
     "output_type": "execute_result"
    }
   ],
   "source": [
    "df_e2_playtime = df_e2[['genres', 'year', 'user_id', 'playtime_forever']]\n",
    "df_e2_playtime.to_csv('df_e2_playtime.csv', index=False)\n",
    "df_e2_playtime"
   ]
  },
  {
   "attachments": {},
   "cell_type": "markdown",
   "metadata": {},
   "source": [
    "## Endpoint 3"
   ]
  },
  {
   "attachments": {},
   "cell_type": "markdown",
   "metadata": {},
   "source": [
    "def UsersRecommend( año : int ): Devuelve el top 3 de juegos MÁS recomendados por usuarios para el año dado. (reviews.recommend = True y comentarios positivos/neutrales)\n",
    "\n",
    "Ejemplo de retorno: [{\"Puesto 1\" : X}, {\"Puesto 2\" : Y},{\"Puesto 3\" : Z}]"
   ]
  },
  {
   "cell_type": "code",
   "execution_count": 51,
   "metadata": {},
   "outputs": [
    {
     "data": {
      "text/html": [
       "<div>\n",
       "<style scoped>\n",
       "    .dataframe tbody tr th:only-of-type {\n",
       "        vertical-align: middle;\n",
       "    }\n",
       "\n",
       "    .dataframe tbody tr th {\n",
       "        vertical-align: top;\n",
       "    }\n",
       "\n",
       "    .dataframe thead th {\n",
       "        text-align: right;\n",
       "    }\n",
       "</style>\n",
       "<table border=\"1\" class=\"dataframe\">\n",
       "  <thead>\n",
       "    <tr style=\"text-align: right;\">\n",
       "      <th></th>\n",
       "      <th>year_review</th>\n",
       "      <th>app_name</th>\n",
       "      <th>recommend_count</th>\n",
       "    </tr>\n",
       "  </thead>\n",
       "  <tbody>\n",
       "    <tr>\n",
       "      <th>2847</th>\n",
       "      <td>2014</td>\n",
       "      <td>Team Fortress 2</td>\n",
       "      <td>1547</td>\n",
       "    </tr>\n",
       "    <tr>\n",
       "      <th>4320</th>\n",
       "      <td>2015</td>\n",
       "      <td>Counter-Strike: Global Offensive</td>\n",
       "      <td>1527</td>\n",
       "    </tr>\n",
       "    <tr>\n",
       "      <th>2853</th>\n",
       "      <td>2014</td>\n",
       "      <td>Counter-Strike: Global Offensive</td>\n",
       "      <td>1068</td>\n",
       "    </tr>\n",
       "    <tr>\n",
       "      <th>2159</th>\n",
       "      <td>2013</td>\n",
       "      <td>Team Fortress 2</td>\n",
       "      <td>790</td>\n",
       "    </tr>\n",
       "    <tr>\n",
       "      <th>2887</th>\n",
       "      <td>2014</td>\n",
       "      <td>Garry's Mod</td>\n",
       "      <td>757</td>\n",
       "    </tr>\n",
       "    <tr>\n",
       "      <th>...</th>\n",
       "      <td>...</td>\n",
       "      <td>...</td>\n",
       "      <td>...</td>\n",
       "    </tr>\n",
       "    <tr>\n",
       "      <th>2434</th>\n",
       "      <td>2013</td>\n",
       "      <td>Post Apocalyptic Mayhem</td>\n",
       "      <td>1</td>\n",
       "    </tr>\n",
       "    <tr>\n",
       "      <th>2436</th>\n",
       "      <td>2013</td>\n",
       "      <td>SpaceChem</td>\n",
       "      <td>1</td>\n",
       "    </tr>\n",
       "    <tr>\n",
       "      <th>2437</th>\n",
       "      <td>2013</td>\n",
       "      <td>Dinner Date</td>\n",
       "      <td>1</td>\n",
       "    </tr>\n",
       "    <tr>\n",
       "      <th>2438</th>\n",
       "      <td>2013</td>\n",
       "      <td>Jamestown</td>\n",
       "      <td>1</td>\n",
       "    </tr>\n",
       "    <tr>\n",
       "      <th>6133</th>\n",
       "      <td>2015</td>\n",
       "      <td>The Quest</td>\n",
       "      <td>1</td>\n",
       "    </tr>\n",
       "  </tbody>\n",
       "</table>\n",
       "<p>5254 rows × 3 columns</p>\n",
       "</div>"
      ],
      "text/plain": [
       "      year_review                          app_name  recommend_count\n",
       "2847         2014                   Team Fortress 2             1547\n",
       "4320         2015  Counter-Strike: Global Offensive             1527\n",
       "2853         2014  Counter-Strike: Global Offensive             1068\n",
       "2159         2013                   Team Fortress 2              790\n",
       "2887         2014                       Garry's Mod              757\n",
       "...           ...                               ...              ...\n",
       "2434         2013           Post Apocalyptic Mayhem                1\n",
       "2436         2013                         SpaceChem                1\n",
       "2437         2013                       Dinner Date                1\n",
       "2438         2013                         Jamestown                1\n",
       "6133         2015                         The Quest                1\n",
       "\n",
       "[5254 rows x 3 columns]"
      ]
     },
     "execution_count": 51,
     "metadata": {},
     "output_type": "execute_result"
    }
   ],
   "source": [
    "# Armado de dataframe para la fucnión\n",
    "df_e3 = df_reviews[(df_reviews['recommend'] == True) & (df_reviews['sentiment'] >= 0)]\n",
    "df_e3.loc[:, 'year_review'] = pd.to_numeric(df_e3['year_review'], errors='coerce')\n",
    "df_3 = df_e3[df_e3['year_review'] != 0]\n",
    "df_e3 = df_e3.groupby(['year_review', 'item_id'])['recommend'].count().reset_index()\n",
    "df_e3.rename(columns={'recommend': 'recommend_count'}, inplace=True)\n",
    "df_e3 = pd.merge(df_e3, df_games, on=\"item_id\", how=\"left\").sort_values(by='recommend_count', ascending=False)\n",
    "df_e3 = df_e3.dropna(subset=['app_name'])\n",
    "df_e3 = df_e3[['year_review','app_name', 'recommend_count']]\n",
    "\n",
    "df_e3.to_csv('df_e3.csv', index=False)\n",
    "df_e3"
   ]
  },
  {
   "cell_type": "code",
   "execution_count": 52,
   "metadata": {},
   "outputs": [
    {
     "data": {
      "text/html": [
       "<div>\n",
       "<style scoped>\n",
       "    .dataframe tbody tr th:only-of-type {\n",
       "        vertical-align: middle;\n",
       "    }\n",
       "\n",
       "    .dataframe tbody tr th {\n",
       "        vertical-align: top;\n",
       "    }\n",
       "\n",
       "    .dataframe thead th {\n",
       "        text-align: right;\n",
       "    }\n",
       "</style>\n",
       "<table border=\"1\" class=\"dataframe\">\n",
       "  <thead>\n",
       "    <tr style=\"text-align: right;\">\n",
       "      <th></th>\n",
       "      <th>year_review</th>\n",
       "      <th>app_name</th>\n",
       "      <th>recommend_count</th>\n",
       "    </tr>\n",
       "  </thead>\n",
       "  <tbody>\n",
       "    <tr>\n",
       "      <th>4320</th>\n",
       "      <td>2015</td>\n",
       "      <td>Counter-Strike: Global Offensive</td>\n",
       "      <td>1527</td>\n",
       "    </tr>\n",
       "    <tr>\n",
       "      <th>4314</th>\n",
       "      <td>2015</td>\n",
       "      <td>Team Fortress 2</td>\n",
       "      <td>634</td>\n",
       "    </tr>\n",
       "    <tr>\n",
       "      <th>4353</th>\n",
       "      <td>2015</td>\n",
       "      <td>Garry's Mod</td>\n",
       "      <td>357</td>\n",
       "    </tr>\n",
       "  </tbody>\n",
       "</table>\n",
       "</div>"
      ],
      "text/plain": [
       "      year_review                          app_name  recommend_count\n",
       "4320         2015  Counter-Strike: Global Offensive             1527\n",
       "4314         2015                   Team Fortress 2              634\n",
       "4353         2015                       Garry's Mod              357"
      ]
     },
     "execution_count": 52,
     "metadata": {},
     "output_type": "execute_result"
    }
   ],
   "source": [
    "# Probamos el dataframe para la funcion\n",
    "df_func3 = df_e3[df_e3['year_review'] == 2015].head(3)\n",
    "df_func3"
   ]
  },
  {
   "cell_type": "code",
   "execution_count": 53,
   "metadata": {},
   "outputs": [],
   "source": [
    "# Definir la función\n",
    "def UsersRecommend(input_year: int):\n",
    "    try:\n",
    "        df_e3 = pd.read_csv(\"df_e3.csv\")\n",
    "        output_top3 = df_e3[df_e3['year_review'] == input_year].head(3)\n",
    "        output_top3_list = [{\"Puesto {}: {}\".format(i+1, game)} for i, game in enumerate(output_top3['app_name'])]\n",
    "        return output_top3_list\n",
    "    except Exception as e:\n",
    "        return {\"error\": str(e)}"
   ]
  },
  {
   "cell_type": "code",
   "execution_count": 54,
   "metadata": {},
   "outputs": [
    {
     "name": "stdout",
     "output_type": "stream",
     "text": [
      "[{'Puesto 1: Counter-Strike: Global Offensive'}, {'Puesto 2: Team Fortress 2'}, {\"Puesto 3: Garry's Mod\"}]\n"
     ]
    }
   ],
   "source": [
    "# Probamos la funcion\n",
    "input_year = 2015\n",
    "print(UsersRecommend(input_year))"
   ]
  },
  {
   "attachments": {},
   "cell_type": "markdown",
   "metadata": {},
   "source": [
    "## Endpoint 4"
   ]
  },
  {
   "attachments": {},
   "cell_type": "markdown",
   "metadata": {},
   "source": [
    "def UsersNotRecommend( año : int ): Devuelve el top 3 de juegos MENOS recomendados por usuarios para el año dado. (reviews.recommend = False y comentarios negativos)\n",
    "\n",
    "Ejemplo de retorno: [{\"Puesto 1\" : X}, {\"Puesto 2\" : Y},{\"Puesto 3\" : Z}]"
   ]
  },
  {
   "cell_type": "code",
   "execution_count": 55,
   "metadata": {},
   "outputs": [
    {
     "data": {
      "text/html": [
       "<div>\n",
       "<style scoped>\n",
       "    .dataframe tbody tr th:only-of-type {\n",
       "        vertical-align: middle;\n",
       "    }\n",
       "\n",
       "    .dataframe tbody tr th {\n",
       "        vertical-align: top;\n",
       "    }\n",
       "\n",
       "    .dataframe thead th {\n",
       "        text-align: right;\n",
       "    }\n",
       "</style>\n",
       "<table border=\"1\" class=\"dataframe\">\n",
       "  <thead>\n",
       "    <tr style=\"text-align: right;\">\n",
       "      <th></th>\n",
       "      <th>year_review</th>\n",
       "      <th>app_name</th>\n",
       "      <th>recommend_count</th>\n",
       "    </tr>\n",
       "  </thead>\n",
       "  <tbody>\n",
       "    <tr>\n",
       "      <th>2847</th>\n",
       "      <td>2014</td>\n",
       "      <td>Team Fortress 2</td>\n",
       "      <td>1547</td>\n",
       "    </tr>\n",
       "    <tr>\n",
       "      <th>4320</th>\n",
       "      <td>2015</td>\n",
       "      <td>Counter-Strike: Global Offensive</td>\n",
       "      <td>1527</td>\n",
       "    </tr>\n",
       "    <tr>\n",
       "      <th>2853</th>\n",
       "      <td>2014</td>\n",
       "      <td>Counter-Strike: Global Offensive</td>\n",
       "      <td>1068</td>\n",
       "    </tr>\n",
       "    <tr>\n",
       "      <th>2159</th>\n",
       "      <td>2013</td>\n",
       "      <td>Team Fortress 2</td>\n",
       "      <td>790</td>\n",
       "    </tr>\n",
       "    <tr>\n",
       "      <th>2887</th>\n",
       "      <td>2014</td>\n",
       "      <td>Garry's Mod</td>\n",
       "      <td>757</td>\n",
       "    </tr>\n",
       "    <tr>\n",
       "      <th>...</th>\n",
       "      <td>...</td>\n",
       "      <td>...</td>\n",
       "      <td>...</td>\n",
       "    </tr>\n",
       "    <tr>\n",
       "      <th>2434</th>\n",
       "      <td>2013</td>\n",
       "      <td>Post Apocalyptic Mayhem</td>\n",
       "      <td>1</td>\n",
       "    </tr>\n",
       "    <tr>\n",
       "      <th>2436</th>\n",
       "      <td>2013</td>\n",
       "      <td>SpaceChem</td>\n",
       "      <td>1</td>\n",
       "    </tr>\n",
       "    <tr>\n",
       "      <th>2437</th>\n",
       "      <td>2013</td>\n",
       "      <td>Dinner Date</td>\n",
       "      <td>1</td>\n",
       "    </tr>\n",
       "    <tr>\n",
       "      <th>2438</th>\n",
       "      <td>2013</td>\n",
       "      <td>Jamestown</td>\n",
       "      <td>1</td>\n",
       "    </tr>\n",
       "    <tr>\n",
       "      <th>6133</th>\n",
       "      <td>2015</td>\n",
       "      <td>The Quest</td>\n",
       "      <td>1</td>\n",
       "    </tr>\n",
       "  </tbody>\n",
       "</table>\n",
       "<p>5254 rows × 3 columns</p>\n",
       "</div>"
      ],
      "text/plain": [
       "      year_review                          app_name  recommend_count\n",
       "2847         2014                   Team Fortress 2             1547\n",
       "4320         2015  Counter-Strike: Global Offensive             1527\n",
       "2853         2014  Counter-Strike: Global Offensive             1068\n",
       "2159         2013                   Team Fortress 2              790\n",
       "2887         2014                       Garry's Mod              757\n",
       "...           ...                               ...              ...\n",
       "2434         2013           Post Apocalyptic Mayhem                1\n",
       "2436         2013                         SpaceChem                1\n",
       "2437         2013                       Dinner Date                1\n",
       "2438         2013                         Jamestown                1\n",
       "6133         2015                         The Quest                1\n",
       "\n",
       "[5254 rows x 3 columns]"
      ]
     },
     "execution_count": 55,
     "metadata": {},
     "output_type": "execute_result"
    }
   ],
   "source": [
    "# Armado de dataframe para la fucnión\n",
    "df_e4 = df_e3 # Obswrve que es el mismo dataframe que para la función anterior\n",
    "df_e4.to_csv('df_e4.csv', index=False)\n",
    "df_e4"
   ]
  },
  {
   "cell_type": "code",
   "execution_count": 56,
   "metadata": {},
   "outputs": [
    {
     "data": {
      "text/html": [
       "<div>\n",
       "<style scoped>\n",
       "    .dataframe tbody tr th:only-of-type {\n",
       "        vertical-align: middle;\n",
       "    }\n",
       "\n",
       "    .dataframe tbody tr th {\n",
       "        vertical-align: top;\n",
       "    }\n",
       "\n",
       "    .dataframe thead th {\n",
       "        text-align: right;\n",
       "    }\n",
       "</style>\n",
       "<table border=\"1\" class=\"dataframe\">\n",
       "  <thead>\n",
       "    <tr style=\"text-align: right;\">\n",
       "      <th></th>\n",
       "      <th>year_review</th>\n",
       "      <th>app_name</th>\n",
       "      <th>recommend_count</th>\n",
       "    </tr>\n",
       "  </thead>\n",
       "  <tbody>\n",
       "    <tr>\n",
       "      <th>5894</th>\n",
       "      <td>2015</td>\n",
       "      <td>Cards and Castles</td>\n",
       "      <td>1</td>\n",
       "    </tr>\n",
       "    <tr>\n",
       "      <th>5358</th>\n",
       "      <td>2015</td>\n",
       "      <td>Colin McRae Rally</td>\n",
       "      <td>1</td>\n",
       "    </tr>\n",
       "    <tr>\n",
       "      <th>6133</th>\n",
       "      <td>2015</td>\n",
       "      <td>The Quest</td>\n",
       "      <td>1</td>\n",
       "    </tr>\n",
       "  </tbody>\n",
       "</table>\n",
       "</div>"
      ],
      "text/plain": [
       "      year_review           app_name  recommend_count\n",
       "5894         2015  Cards and Castles                1\n",
       "5358         2015  Colin McRae Rally                1\n",
       "6133         2015          The Quest                1"
      ]
     },
     "execution_count": 56,
     "metadata": {},
     "output_type": "execute_result"
    }
   ],
   "source": [
    "# Probamos el dataframe para la funcion\n",
    "df_func4 = df_e3[df_e3['year_review'] == 2015].tail(3)\n",
    "df_func4"
   ]
  },
  {
   "cell_type": "code",
   "execution_count": 57,
   "metadata": {},
   "outputs": [],
   "source": [
    "# Definir la función\n",
    "def UsersNotRecommend(input_year: int):\n",
    "    try:\n",
    "        df_e4 = pd.read_csv(\"df_e4.csv\")\n",
    "        output_last3 = df_e4[df_e4['year_review'] == input_year].tail(3)\n",
    "        output_last3_list = [{\"Puesto {}: {}\".format(i+1, game)} for i, game in enumerate(output_last3['app_name'])]\n",
    "        return output_last3_list\n",
    "    except Exception as e:\n",
    "        return {\"error\": str(e)}"
   ]
  },
  {
   "cell_type": "code",
   "execution_count": 58,
   "metadata": {},
   "outputs": [
    {
     "name": "stdout",
     "output_type": "stream",
     "text": [
      "[{'Puesto 1: Cards and Castles'}, {'Puesto 2: Colin McRae Rally'}, {'Puesto 3: The Quest'}]\n"
     ]
    }
   ],
   "source": [
    "# Probamos la funcion\n",
    "input_year = 2015\n",
    "print(UsersNotRecommend(input_year))"
   ]
  },
  {
   "attachments": {},
   "cell_type": "markdown",
   "metadata": {},
   "source": [
    "## Endpoint 5"
   ]
  },
  {
   "attachments": {},
   "cell_type": "markdown",
   "metadata": {},
   "source": [
    "def sentiment_analysis( año : int ): Según el año de lanzamiento, se devuelve una lista con la cantidad de registros de reseñas de usuarios que se encuentren categorizados con un análisis de sentimiento.\n",
    "\n",
    "Ejemplo de retorno: {Negative = 182, Neutral = 120, Positive = 278}"
   ]
  },
  {
   "cell_type": "code",
   "execution_count": 59,
   "metadata": {},
   "outputs": [
    {
     "data": {
      "text/html": [
       "<div>\n",
       "<style scoped>\n",
       "    .dataframe tbody tr th:only-of-type {\n",
       "        vertical-align: middle;\n",
       "    }\n",
       "\n",
       "    .dataframe tbody tr th {\n",
       "        vertical-align: top;\n",
       "    }\n",
       "\n",
       "    .dataframe thead th {\n",
       "        text-align: right;\n",
       "    }\n",
       "</style>\n",
       "<table border=\"1\" class=\"dataframe\">\n",
       "  <thead>\n",
       "    <tr style=\"text-align: right;\">\n",
       "      <th></th>\n",
       "      <th>year</th>\n",
       "      <th>negative</th>\n",
       "      <th>neutral</th>\n",
       "      <th>positive</th>\n",
       "    </tr>\n",
       "  </thead>\n",
       "  <tbody>\n",
       "    <tr>\n",
       "      <th>0</th>\n",
       "      <td>2010</td>\n",
       "      <td>8</td>\n",
       "      <td>11</td>\n",
       "      <td>47</td>\n",
       "    </tr>\n",
       "    <tr>\n",
       "      <th>1</th>\n",
       "      <td>2011</td>\n",
       "      <td>70</td>\n",
       "      <td>94</td>\n",
       "      <td>366</td>\n",
       "    </tr>\n",
       "    <tr>\n",
       "      <th>2</th>\n",
       "      <td>2012</td>\n",
       "      <td>215</td>\n",
       "      <td>206</td>\n",
       "      <td>780</td>\n",
       "    </tr>\n",
       "    <tr>\n",
       "      <th>3</th>\n",
       "      <td>2013</td>\n",
       "      <td>1362</td>\n",
       "      <td>1230</td>\n",
       "      <td>4121</td>\n",
       "    </tr>\n",
       "    <tr>\n",
       "      <th>4</th>\n",
       "      <td>2014</td>\n",
       "      <td>4736</td>\n",
       "      <td>4389</td>\n",
       "      <td>12709</td>\n",
       "    </tr>\n",
       "    <tr>\n",
       "      <th>5</th>\n",
       "      <td>2015</td>\n",
       "      <td>4257</td>\n",
       "      <td>4149</td>\n",
       "      <td>9748</td>\n",
       "    </tr>\n",
       "  </tbody>\n",
       "</table>\n",
       "</div>"
      ],
      "text/plain": [
       "   year  negative  neutral  positive\n",
       "0  2010         8       11        47\n",
       "1  2011        70       94       366\n",
       "2  2012       215      206       780\n",
       "3  2013      1362     1230      4121\n",
       "4  2014      4736     4389     12709\n",
       "5  2015      4257     4149      9748"
      ]
     },
     "execution_count": 59,
     "metadata": {},
     "output_type": "execute_result"
    }
   ],
   "source": [
    "# Armado de dataframe para la función\n",
    "df_e5 = df_reviews[df_reviews['year_review'] != 0].copy()\n",
    "# Crear columnas 'negative', 'neutral' y 'positive'\n",
    "df_e5['negative'] = (df_e5['sentiment'] == 1).astype(int)\n",
    "df_e5['neutral'] = (df_e5['sentiment'] == 0).astype(int)\n",
    "df_e5['positive'] = (df_e5['sentiment'] == 2).astype(int)\n",
    "\n",
    "# Dado que no se solicitan resultados por item_id, tomaremos como anio de lanzamiento el year_review ya que lo que se solicita es la suma de los sentiments\n",
    "# Agrupar y pivotar para contar los valores según year_review\n",
    "df_e5 = df_e5.groupby('year_review')[['negative', 'neutral', 'positive']].sum()\n",
    "df_e5 = df_e5.rename_axis('year').reset_index()\n",
    "\n",
    "df_e5.to_csv('df_e5.csv', index=False)\n",
    "df_e5"
   ]
  },
  {
   "cell_type": "code",
   "execution_count": 60,
   "metadata": {},
   "outputs": [
    {
     "data": {
      "text/html": [
       "<div>\n",
       "<style scoped>\n",
       "    .dataframe tbody tr th:only-of-type {\n",
       "        vertical-align: middle;\n",
       "    }\n",
       "\n",
       "    .dataframe tbody tr th {\n",
       "        vertical-align: top;\n",
       "    }\n",
       "\n",
       "    .dataframe thead th {\n",
       "        text-align: right;\n",
       "    }\n",
       "</style>\n",
       "<table border=\"1\" class=\"dataframe\">\n",
       "  <thead>\n",
       "    <tr style=\"text-align: right;\">\n",
       "      <th></th>\n",
       "      <th>year</th>\n",
       "      <th>negative</th>\n",
       "      <th>neutral</th>\n",
       "      <th>positive</th>\n",
       "    </tr>\n",
       "  </thead>\n",
       "  <tbody>\n",
       "    <tr>\n",
       "      <th>5</th>\n",
       "      <td>2015</td>\n",
       "      <td>4257</td>\n",
       "      <td>4149</td>\n",
       "      <td>9748</td>\n",
       "    </tr>\n",
       "  </tbody>\n",
       "</table>\n",
       "</div>"
      ],
      "text/plain": [
       "   year  negative  neutral  positive\n",
       "5  2015      4257     4149      9748"
      ]
     },
     "execution_count": 60,
     "metadata": {},
     "output_type": "execute_result"
    }
   ],
   "source": [
    "# Probamos el dataframe para la funcion\n",
    "year = 2015\n",
    "df_func5 = df_e5[df_e5['year'] == year]\n",
    "df_func5"
   ]
  },
  {
   "cell_type": "code",
   "execution_count": 61,
   "metadata": {},
   "outputs": [],
   "source": [
    "# Definir la función\n",
    "def SentimentAnalysis(input_year: int):\n",
    "    try:\n",
    "        df_e5 = pd.read_csv(\"df_e5.csv\")\n",
    "\n",
    "        value_negative = df_func5['negative'].values[0]\n",
    "        value_neutral = df_func5['neutral'].values[0]\n",
    "        value_positive = df_func5['positive'].values[0]\n",
    "\n",
    "        output_sentiment_list = f\"Para el año {input_year} se registran los siguientes valores: negative: {value_negative}, neutral: {value_neutral}, neutral: {value_positive}\"       \n",
    "        return output_sentiment_list\n",
    "    except Exception as e:\n",
    "        return {\"error\": str(e)}"
   ]
  },
  {
   "cell_type": "code",
   "execution_count": 62,
   "metadata": {},
   "outputs": [
    {
     "name": "stdout",
     "output_type": "stream",
     "text": [
      "Para el año 2015 se registran los siguientes valores: negative: 4257, neutral: 4149, neutral: 9748\n"
     ]
    }
   ],
   "source": [
    "# Probamos la funcion\n",
    "input_year = 2015\n",
    "print(SentimentAnalysis(input_year))"
   ]
  }
 ],
 "metadata": {
  "kernelspec": {
   "display_name": "Python 3",
   "language": "python",
   "name": "python3"
  },
  "language_info": {
   "codemirror_mode": {
    "name": "ipython",
    "version": 3
   },
   "file_extension": ".py",
   "mimetype": "text/x-python",
   "name": "python",
   "nbconvert_exporter": "python",
   "pygments_lexer": "ipython3",
   "version": "3.12.0"
  },
  "orig_nbformat": 4
 },
 "nbformat": 4,
 "nbformat_minor": 2
}
