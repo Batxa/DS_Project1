{
 "cells": [
  {
   "attachments": {},
   "cell_type": "markdown",
   "metadata": {},
   "source": [
    "# Introducción, objetivos y contenido"
   ]
  },
  {
   "attachments": {},
   "cell_type": "markdown",
   "metadata": {},
   "source": [
    "Este trabajo corresponde a la fase de ETL (Extraction, Transformation and Loading). El objetivo de esta fase es obtener datasets limpios y listos para ser utilizado en fases posteriores del proyecto. \n",
    "\n",
    "Contenidos:\n",
    "* Importación de librerías\n",
    "* Carga de datos\n",
    "* Preparación de datos para cada dataset \n",
    "    * Ingeniería de características\n",
    "    * Verificación de tipos de datos\n",
    "    * Valores duplicados\n",
    "    * Valores nulos\n",
    "* Exportación de los datasets limpios\n",
    "* Armado y exportación de dataframes para endpoints de API"
   ]
  },
  {
   "attachments": {},
   "cell_type": "markdown",
   "metadata": {},
   "source": [
    "# Importación de librerías"
   ]
  },
  {
   "cell_type": "code",
   "execution_count": 1,
   "metadata": {},
   "outputs": [],
   "source": [
    "import pandas as pd\n",
    "import numpy as np\n",
    "import seaborn as sns\n",
    "import matplotlib as mpl\n",
    "from matplotlib import pyplot as plt\n",
    "from math import factorial\n",
    "from scipy import stats as st\n",
    "import json\n",
    "import gzip\n",
    "import ast\n",
    "from pandas import json_normalize\n",
    "from textblob import TextBlob\n",
    "import re"
   ]
  },
  {
   "attachments": {},
   "cell_type": "markdown",
   "metadata": {},
   "source": [
    "# Carga de datos"
   ]
  },
  {
   "attachments": {},
   "cell_type": "markdown",
   "metadata": {},
   "source": [
    "Tenemos un total de 3 datasets en formato json comprimido, debido a ello haremos la carga de datos en forma separada para tomar los recaudos correspondientes."
   ]
  },
  {
   "attachments": {},
   "cell_type": "markdown",
   "metadata": {},
   "source": [
    "Dataset GAMES: Este archivo ha sido posible cargarlo en formato jason descomprimido, por lo cual su código resulta simple."
   ]
  },
  {
   "cell_type": "code",
   "execution_count": 2,
   "metadata": {},
   "outputs": [],
   "source": [
    "steam_games = pd.read_json('steam_games.json', lines=True)"
   ]
  },
  {
   "attachments": {},
   "cell_type": "markdown",
   "metadata": {},
   "source": [
    "Dataset REVIEWS: Dado que este dataset tiene una estructura menos estandarizada, ha sido necesario cargarlo aplicando un código que estandarice cada línea del archivo. Luego esas líneas se incorporan como lista a una variable archivo que recopila los datos originales transformados."
   ]
  },
  {
   "cell_type": "code",
   "execution_count": 3,
   "metadata": {},
   "outputs": [],
   "source": [
    "dataset_list_reviews = []\n",
    "with gzip.open('user_reviews.json.gz', 'rb') as file:\n",
    "    for line in file:\n",
    "        dataset_list_reviews.append(ast.literal_eval(line.decode('utf-8')))\n",
    "user_reviews = pd.DataFrame(dataset_list_reviews)\n",
    "file.close()"
   ]
  },
  {
   "attachments": {},
   "cell_type": "markdown",
   "metadata": {},
   "source": [
    "Dataset ITEMS: Dado que este dataset tiene una estructura menos estandarizada, ha sido necesario cargarlo aplicando un código que estandarice cada línea del archivo. Luego esas líneas se incorporan como lista a una variable archivo que recopila los datos originales transformados."
   ]
  },
  {
   "cell_type": "code",
   "execution_count": 4,
   "metadata": {},
   "outputs": [],
   "source": [
    "dataset_list_items = []\n",
    "with gzip.open('users_items.json.gz', 'rb') as file:\n",
    "    for line in file:\n",
    "        dataset_list_items.append(ast.literal_eval(line.decode('utf-8')))\n",
    "user_items = pd.DataFrame(dataset_list_items)\n",
    "file.close()"
   ]
  },
  {
   "attachments": {},
   "cell_type": "markdown",
   "metadata": {},
   "source": [
    "# Preparación de datos"
   ]
  },
  {
   "attachments": {},
   "cell_type": "markdown",
   "metadata": {},
   "source": [
    "## Dataset GAMES"
   ]
  },
  {
   "attachments": {},
   "cell_type": "markdown",
   "metadata": {},
   "source": [
    "### Ingeniería de características - Dataset GAMES"
   ]
  },
  {
   "cell_type": "code",
   "execution_count": 5,
   "metadata": {},
   "outputs": [
    {
     "data": {
      "text/html": [
       "<div>\n",
       "<style scoped>\n",
       "    .dataframe tbody tr th:only-of-type {\n",
       "        vertical-align: middle;\n",
       "    }\n",
       "\n",
       "    .dataframe tbody tr th {\n",
       "        vertical-align: top;\n",
       "    }\n",
       "\n",
       "    .dataframe thead th {\n",
       "        text-align: right;\n",
       "    }\n",
       "</style>\n",
       "<table border=\"1\" class=\"dataframe\">\n",
       "  <thead>\n",
       "    <tr style=\"text-align: right;\">\n",
       "      <th></th>\n",
       "      <th>publisher</th>\n",
       "      <th>genres</th>\n",
       "      <th>app_name</th>\n",
       "      <th>title</th>\n",
       "      <th>url</th>\n",
       "      <th>release_date</th>\n",
       "      <th>tags</th>\n",
       "      <th>reviews_url</th>\n",
       "      <th>specs</th>\n",
       "      <th>price</th>\n",
       "      <th>early_access</th>\n",
       "      <th>id</th>\n",
       "      <th>developer</th>\n",
       "    </tr>\n",
       "  </thead>\n",
       "  <tbody>\n",
       "    <tr>\n",
       "      <th>95201</th>\n",
       "      <td>Flox Studios Ltd.</td>\n",
       "      <td>[Action, Indie, RPG]</td>\n",
       "      <td>Frozen State</td>\n",
       "      <td>Frozen State</td>\n",
       "      <td>http://store.steampowered.com/app/270270/Froze...</td>\n",
       "      <td>2016-08-05</td>\n",
       "      <td>[Survival, RPG, Horror, Zombies, Action, Craft...</td>\n",
       "      <td>http://steamcommunity.com/app/270270/reviews/?...</td>\n",
       "      <td>[Single-player, Steam Achievements, Full contr...</td>\n",
       "      <td>11.99</td>\n",
       "      <td>0.0</td>\n",
       "      <td>270270.0</td>\n",
       "      <td>Flox Studios Ltd.</td>\n",
       "    </tr>\n",
       "    <tr>\n",
       "      <th>38369</th>\n",
       "      <td>None</td>\n",
       "      <td>None</td>\n",
       "      <td>None</td>\n",
       "      <td>None</td>\n",
       "      <td>None</td>\n",
       "      <td>None</td>\n",
       "      <td>None</td>\n",
       "      <td>None</td>\n",
       "      <td>None</td>\n",
       "      <td>None</td>\n",
       "      <td>NaN</td>\n",
       "      <td>NaN</td>\n",
       "      <td>None</td>\n",
       "    </tr>\n",
       "  </tbody>\n",
       "</table>\n",
       "</div>"
      ],
      "text/plain": [
       "               publisher                genres      app_name         title  \\\n",
       "95201  Flox Studios Ltd.  [Action, Indie, RPG]  Frozen State  Frozen State   \n",
       "38369               None                  None          None          None   \n",
       "\n",
       "                                                     url release_date  \\\n",
       "95201  http://store.steampowered.com/app/270270/Froze...   2016-08-05   \n",
       "38369                                               None         None   \n",
       "\n",
       "                                                    tags  \\\n",
       "95201  [Survival, RPG, Horror, Zombies, Action, Craft...   \n",
       "38369                                               None   \n",
       "\n",
       "                                             reviews_url  \\\n",
       "95201  http://steamcommunity.com/app/270270/reviews/?...   \n",
       "38369                                               None   \n",
       "\n",
       "                                                   specs  price  early_access  \\\n",
       "95201  [Single-player, Steam Achievements, Full contr...  11.99           0.0   \n",
       "38369                                               None   None           NaN   \n",
       "\n",
       "             id          developer  \n",
       "95201  270270.0  Flox Studios Ltd.  \n",
       "38369       NaN               None  "
      ]
     },
     "execution_count": 5,
     "metadata": {},
     "output_type": "execute_result"
    }
   ],
   "source": [
    "df_games = steam_games\n",
    "df_games.sample(2)"
   ]
  },
  {
   "cell_type": "code",
   "execution_count": 6,
   "metadata": {},
   "outputs": [],
   "source": [
    "# Renombramiento del campo \"id\"\n",
    "df_games.rename(columns={'id': 'item_id'}, inplace=True)"
   ]
  },
  {
   "cell_type": "code",
   "execution_count": 7,
   "metadata": {},
   "outputs": [
    {
     "data": {
      "text/html": [
       "<div>\n",
       "<style scoped>\n",
       "    .dataframe tbody tr th:only-of-type {\n",
       "        vertical-align: middle;\n",
       "    }\n",
       "\n",
       "    .dataframe tbody tr th {\n",
       "        vertical-align: top;\n",
       "    }\n",
       "\n",
       "    .dataframe thead th {\n",
       "        text-align: right;\n",
       "    }\n",
       "</style>\n",
       "<table border=\"1\" class=\"dataframe\">\n",
       "  <thead>\n",
       "    <tr style=\"text-align: right;\">\n",
       "      <th></th>\n",
       "      <th>publisher</th>\n",
       "      <th>genres</th>\n",
       "      <th>app_name</th>\n",
       "      <th>title</th>\n",
       "      <th>url</th>\n",
       "      <th>release_date</th>\n",
       "      <th>tags</th>\n",
       "      <th>reviews_url</th>\n",
       "      <th>specs</th>\n",
       "      <th>price</th>\n",
       "      <th>early_access</th>\n",
       "      <th>item_id</th>\n",
       "      <th>developer</th>\n",
       "    </tr>\n",
       "  </thead>\n",
       "  <tbody>\n",
       "    <tr>\n",
       "      <th>116383</th>\n",
       "      <td>None</td>\n",
       "      <td>RPG</td>\n",
       "      <td>Fantasy Grounds - C&amp;C: A5 The Shattered Horn</td>\n",
       "      <td>Fantasy Grounds - C&amp;amp;C: A5 The Shattered Horn</td>\n",
       "      <td>http://store.steampowered.com/app/332020/Fanta...</td>\n",
       "      <td>2014-11-04</td>\n",
       "      <td>Strategy</td>\n",
       "      <td>http://steamcommunity.com/app/332020/reviews/?...</td>\n",
       "      <td>Downloadable Content</td>\n",
       "      <td>3.99</td>\n",
       "      <td>0.0</td>\n",
       "      <td>332020.0</td>\n",
       "      <td>SmiteWorks USA, LLC</td>\n",
       "    </tr>\n",
       "    <tr>\n",
       "      <th>90737</th>\n",
       "      <td>Winter Wolves</td>\n",
       "      <td>Indie</td>\n",
       "      <td>Heileen 3: New Horizons</td>\n",
       "      <td>Heileen 3: New Horizons</td>\n",
       "      <td>http://store.steampowered.com/app/305490/Heile...</td>\n",
       "      <td>2012-12-12</td>\n",
       "      <td>Casual</td>\n",
       "      <td>http://steamcommunity.com/app/305490/reviews/?...</td>\n",
       "      <td>Single-player</td>\n",
       "      <td>24.99</td>\n",
       "      <td>0.0</td>\n",
       "      <td>305490.0</td>\n",
       "      <td>Winter Wolves</td>\n",
       "    </tr>\n",
       "    <tr>\n",
       "      <th>105719</th>\n",
       "      <td>Crayder Studios</td>\n",
       "      <td>Indie</td>\n",
       "      <td>Wishmere</td>\n",
       "      <td>Wishmere</td>\n",
       "      <td>http://store.steampowered.com/app/419020/Wishm...</td>\n",
       "      <td>2017-09-26</td>\n",
       "      <td>Pixel Graphics</td>\n",
       "      <td>http://steamcommunity.com/app/419020/reviews/?...</td>\n",
       "      <td>Steam Trading Cards</td>\n",
       "      <td>11.99</td>\n",
       "      <td>0.0</td>\n",
       "      <td>419020.0</td>\n",
       "      <td>Crayder Studios</td>\n",
       "    </tr>\n",
       "    <tr>\n",
       "      <th>103494</th>\n",
       "      <td>GamersHype Productions</td>\n",
       "      <td>Indie</td>\n",
       "      <td>Box Maze 2 - Unlock All Levels</td>\n",
       "      <td>Box Maze 2 - Unlock All Levels</td>\n",
       "      <td>http://store.steampowered.com/app/714320/Box_M...</td>\n",
       "      <td>2017-10-03</td>\n",
       "      <td>Adventure</td>\n",
       "      <td>http://steamcommunity.com/app/714320/reviews/?...</td>\n",
       "      <td>Steam Cloud</td>\n",
       "      <td>0.99</td>\n",
       "      <td>0.0</td>\n",
       "      <td>714320.0</td>\n",
       "      <td>GamersHype Productions</td>\n",
       "    </tr>\n",
       "    <tr>\n",
       "      <th>113036</th>\n",
       "      <td>Quandary Solutions LTD</td>\n",
       "      <td>Action</td>\n",
       "      <td>Dexterity Ball 3D™</td>\n",
       "      <td>Dexterity Ball 3D™</td>\n",
       "      <td>http://store.steampowered.com/app/403680/Dexte...</td>\n",
       "      <td>2015-12-07</td>\n",
       "      <td>Multiplayer</td>\n",
       "      <td>http://steamcommunity.com/app/403680/reviews/?...</td>\n",
       "      <td>Multi-player</td>\n",
       "      <td>6.99</td>\n",
       "      <td>0.0</td>\n",
       "      <td>403680.0</td>\n",
       "      <td>Quandary Solutions LTD</td>\n",
       "    </tr>\n",
       "  </tbody>\n",
       "</table>\n",
       "</div>"
      ],
      "text/plain": [
       "                     publisher  genres  \\\n",
       "116383                    None     RPG   \n",
       "90737            Winter Wolves   Indie   \n",
       "105719         Crayder Studios   Indie   \n",
       "103494  GamersHype Productions   Indie   \n",
       "113036  Quandary Solutions LTD  Action   \n",
       "\n",
       "                                            app_name  \\\n",
       "116383  Fantasy Grounds - C&C: A5 The Shattered Horn   \n",
       "90737                        Heileen 3: New Horizons   \n",
       "105719                                      Wishmere   \n",
       "103494                Box Maze 2 - Unlock All Levels   \n",
       "113036                            Dexterity Ball 3D™   \n",
       "\n",
       "                                                   title  \\\n",
       "116383  Fantasy Grounds - C&amp;C: A5 The Shattered Horn   \n",
       "90737                            Heileen 3: New Horizons   \n",
       "105719                                          Wishmere   \n",
       "103494                    Box Maze 2 - Unlock All Levels   \n",
       "113036                                Dexterity Ball 3D™   \n",
       "\n",
       "                                                      url release_date  \\\n",
       "116383  http://store.steampowered.com/app/332020/Fanta...   2014-11-04   \n",
       "90737   http://store.steampowered.com/app/305490/Heile...   2012-12-12   \n",
       "105719  http://store.steampowered.com/app/419020/Wishm...   2017-09-26   \n",
       "103494  http://store.steampowered.com/app/714320/Box_M...   2017-10-03   \n",
       "113036  http://store.steampowered.com/app/403680/Dexte...   2015-12-07   \n",
       "\n",
       "                  tags                                        reviews_url  \\\n",
       "116383        Strategy  http://steamcommunity.com/app/332020/reviews/?...   \n",
       "90737           Casual  http://steamcommunity.com/app/305490/reviews/?...   \n",
       "105719  Pixel Graphics  http://steamcommunity.com/app/419020/reviews/?...   \n",
       "103494       Adventure  http://steamcommunity.com/app/714320/reviews/?...   \n",
       "113036     Multiplayer  http://steamcommunity.com/app/403680/reviews/?...   \n",
       "\n",
       "                       specs  price  early_access   item_id  \\\n",
       "116383  Downloadable Content   3.99           0.0  332020.0   \n",
       "90737          Single-player  24.99           0.0  305490.0   \n",
       "105719   Steam Trading Cards  11.99           0.0  419020.0   \n",
       "103494           Steam Cloud   0.99           0.0  714320.0   \n",
       "113036          Multi-player   6.99           0.0  403680.0   \n",
       "\n",
       "                     developer  \n",
       "116383     SmiteWorks USA, LLC  \n",
       "90737            Winter Wolves  \n",
       "105719         Crayder Studios  \n",
       "103494  GamersHype Productions  \n",
       "113036  Quandary Solutions LTD  "
      ]
     },
     "execution_count": 7,
     "metadata": {},
     "output_type": "execute_result"
    }
   ],
   "source": [
    "# Desagregación de campos cuyos valores son listas\n",
    "df_games = df_games.explode('genres')\n",
    "df_games = df_games.explode('tags')\n",
    "df_games = df_games.explode('specs')\n",
    "df_games.sample(5)"
   ]
  },
  {
   "cell_type": "code",
   "execution_count": 8,
   "metadata": {},
   "outputs": [
    {
     "data": {
      "text/html": [
       "<div>\n",
       "<style scoped>\n",
       "    .dataframe tbody tr th:only-of-type {\n",
       "        vertical-align: middle;\n",
       "    }\n",
       "\n",
       "    .dataframe tbody tr th {\n",
       "        vertical-align: top;\n",
       "    }\n",
       "\n",
       "    .dataframe thead th {\n",
       "        text-align: right;\n",
       "    }\n",
       "</style>\n",
       "<table border=\"1\" class=\"dataframe\">\n",
       "  <thead>\n",
       "    <tr style=\"text-align: right;\">\n",
       "      <th></th>\n",
       "      <th>publisher</th>\n",
       "      <th>genres</th>\n",
       "      <th>app_name</th>\n",
       "      <th>title</th>\n",
       "      <th>url</th>\n",
       "      <th>release_date</th>\n",
       "      <th>tags</th>\n",
       "      <th>reviews_url</th>\n",
       "      <th>specs</th>\n",
       "      <th>price</th>\n",
       "      <th>early_access</th>\n",
       "      <th>item_id</th>\n",
       "      <th>developer</th>\n",
       "      <th>year</th>\n",
       "    </tr>\n",
       "  </thead>\n",
       "  <tbody>\n",
       "    <tr>\n",
       "      <th>119459</th>\n",
       "      <td>Devolver Digital, Croteam</td>\n",
       "      <td>Indie</td>\n",
       "      <td>Serious Sam Double D XXL</td>\n",
       "      <td>Serious Sam Double D XXL</td>\n",
       "      <td>http://store.steampowered.com/app/111600/Serio...</td>\n",
       "      <td>2011-08-30</td>\n",
       "      <td>Gore</td>\n",
       "      <td>http://steamcommunity.com/app/111600/reviews/?...</td>\n",
       "      <td>Local Co-op</td>\n",
       "      <td>9.99</td>\n",
       "      <td>0.0</td>\n",
       "      <td>111600.0</td>\n",
       "      <td>Mommy's Best Games</td>\n",
       "      <td>2011</td>\n",
       "    </tr>\n",
       "    <tr>\n",
       "      <th>107756</th>\n",
       "      <td>Salmi Games</td>\n",
       "      <td>Indie</td>\n",
       "      <td>Ellipsis</td>\n",
       "      <td>Ellipsis</td>\n",
       "      <td>http://store.steampowered.com/app/514620/Ellip...</td>\n",
       "      <td>2017-01-25</td>\n",
       "      <td>Bullet Hell</td>\n",
       "      <td>http://steamcommunity.com/app/514620/reviews/?...</td>\n",
       "      <td>Full controller support</td>\n",
       "      <td>9.99</td>\n",
       "      <td>0.0</td>\n",
       "      <td>514620.0</td>\n",
       "      <td>Salmi Games</td>\n",
       "      <td>2017</td>\n",
       "    </tr>\n",
       "    <tr>\n",
       "      <th>100990</th>\n",
       "      <td>Nezon Production</td>\n",
       "      <td>Action</td>\n",
       "      <td>Formata</td>\n",
       "      <td>Formata</td>\n",
       "      <td>http://store.steampowered.com/app/580040/Formata/</td>\n",
       "      <td>2017-12-07</td>\n",
       "      <td>War</td>\n",
       "      <td>http://steamcommunity.com/app/580040/reviews/?...</td>\n",
       "      <td>Steam Achievements</td>\n",
       "      <td>14.99</td>\n",
       "      <td>0.0</td>\n",
       "      <td>580040.0</td>\n",
       "      <td>Nezon Production</td>\n",
       "      <td>2017</td>\n",
       "    </tr>\n",
       "    <tr>\n",
       "      <th>118606</th>\n",
       "      <td>The Men Who Wear Many Hats</td>\n",
       "      <td>Strategy</td>\n",
       "      <td>Organ Trail: Director's Cut</td>\n",
       "      <td>Organ Trail: Director's Cut</td>\n",
       "      <td>http://store.steampowered.com/app/233740/Organ...</td>\n",
       "      <td>2013-03-19</td>\n",
       "      <td>Horror</td>\n",
       "      <td>http://steamcommunity.com/app/233740/reviews/?...</td>\n",
       "      <td>Steam Achievements</td>\n",
       "      <td>4.99</td>\n",
       "      <td>0.0</td>\n",
       "      <td>233740.0</td>\n",
       "      <td>The Men Who Wear Many Hats</td>\n",
       "      <td>2013</td>\n",
       "    </tr>\n",
       "    <tr>\n",
       "      <th>90484</th>\n",
       "      <td>The Behemoth</td>\n",
       "      <td>Action</td>\n",
       "      <td>BattleBlock Theater®</td>\n",
       "      <td>BattleBlock Theater®</td>\n",
       "      <td>http://store.steampowered.com/app/238460/Battl...</td>\n",
       "      <td>2014-05-15</td>\n",
       "      <td>Singleplayer</td>\n",
       "      <td>http://steamcommunity.com/app/238460/reviews/?...</td>\n",
       "      <td>Full controller support</td>\n",
       "      <td>14.99</td>\n",
       "      <td>0.0</td>\n",
       "      <td>238460.0</td>\n",
       "      <td>The Behemoth</td>\n",
       "      <td>2014</td>\n",
       "    </tr>\n",
       "  </tbody>\n",
       "</table>\n",
       "</div>"
      ],
      "text/plain": [
       "                         publisher    genres                     app_name  \\\n",
       "119459   Devolver Digital, Croteam     Indie     Serious Sam Double D XXL   \n",
       "107756                 Salmi Games     Indie                     Ellipsis   \n",
       "100990            Nezon Production    Action                      Formata   \n",
       "118606  The Men Who Wear Many Hats  Strategy  Organ Trail: Director's Cut   \n",
       "90484                 The Behemoth    Action         BattleBlock Theater®   \n",
       "\n",
       "                              title  \\\n",
       "119459     Serious Sam Double D XXL   \n",
       "107756                     Ellipsis   \n",
       "100990                      Formata   \n",
       "118606  Organ Trail: Director's Cut   \n",
       "90484          BattleBlock Theater®   \n",
       "\n",
       "                                                      url release_date  \\\n",
       "119459  http://store.steampowered.com/app/111600/Serio...   2011-08-30   \n",
       "107756  http://store.steampowered.com/app/514620/Ellip...   2017-01-25   \n",
       "100990  http://store.steampowered.com/app/580040/Formata/   2017-12-07   \n",
       "118606  http://store.steampowered.com/app/233740/Organ...   2013-03-19   \n",
       "90484   http://store.steampowered.com/app/238460/Battl...   2014-05-15   \n",
       "\n",
       "                tags                                        reviews_url  \\\n",
       "119459          Gore  http://steamcommunity.com/app/111600/reviews/?...   \n",
       "107756   Bullet Hell  http://steamcommunity.com/app/514620/reviews/?...   \n",
       "100990           War  http://steamcommunity.com/app/580040/reviews/?...   \n",
       "118606        Horror  http://steamcommunity.com/app/233740/reviews/?...   \n",
       "90484   Singleplayer  http://steamcommunity.com/app/238460/reviews/?...   \n",
       "\n",
       "                          specs  price  early_access   item_id  \\\n",
       "119459              Local Co-op   9.99           0.0  111600.0   \n",
       "107756  Full controller support   9.99           0.0  514620.0   \n",
       "100990       Steam Achievements  14.99           0.0  580040.0   \n",
       "118606       Steam Achievements   4.99           0.0  233740.0   \n",
       "90484   Full controller support  14.99           0.0  238460.0   \n",
       "\n",
       "                         developer  year  \n",
       "119459          Mommy's Best Games  2011  \n",
       "107756                 Salmi Games  2017  \n",
       "100990            Nezon Production  2017  \n",
       "118606  The Men Who Wear Many Hats  2013  \n",
       "90484                 The Behemoth  2014  "
      ]
     },
     "execution_count": 8,
     "metadata": {},
     "output_type": "execute_result"
    }
   ],
   "source": [
    "# Agregación del campo \"year\"\n",
    "default_date = pd.to_datetime('1900-01-01')  # Imputar un valor predeterminado en lugar de los valores no válidos en 'release_date'\n",
    "df_games['release_date'] = pd.to_datetime(df_games['release_date'], errors='coerce').fillna(default_date)\n",
    "\n",
    "df_games['release_date'] = pd.to_datetime(df_games['release_date'])     # Convertir la columna 'release_date' a objetos de fecha y hora\n",
    "df_games['year'] = df_games['release_date'].dt.year\n",
    "df_games = df_games[df_games['year'] != 1900]\n",
    "df_games.sample(5)"
   ]
  },
  {
   "cell_type": "code",
   "execution_count": 9,
   "metadata": {},
   "outputs": [],
   "source": [
    "# Eliminación de campos que no serán utilizados\n",
    "#df_games_eliminarcampos = ['url', 'title','release_date', 'reviews_url', 'specs', ]\n",
    "# df_games = df_games.drop(df_games_eliminarcampos, axis=1)"
   ]
  },
  {
   "cell_type": "code",
   "execution_count": 10,
   "metadata": {},
   "outputs": [
    {
     "data": {
      "text/html": [
       "<div>\n",
       "<style scoped>\n",
       "    .dataframe tbody tr th:only-of-type {\n",
       "        vertical-align: middle;\n",
       "    }\n",
       "\n",
       "    .dataframe tbody tr th {\n",
       "        vertical-align: top;\n",
       "    }\n",
       "\n",
       "    .dataframe thead th {\n",
       "        text-align: right;\n",
       "    }\n",
       "</style>\n",
       "<table border=\"1\" class=\"dataframe\">\n",
       "  <thead>\n",
       "    <tr style=\"text-align: right;\">\n",
       "      <th></th>\n",
       "      <th>item_id</th>\n",
       "      <th>app_name</th>\n",
       "      <th>genres</th>\n",
       "      <th>year</th>\n",
       "      <th>price</th>\n",
       "      <th>developer</th>\n",
       "    </tr>\n",
       "  </thead>\n",
       "  <tbody>\n",
       "    <tr>\n",
       "      <th>115137</th>\n",
       "      <td>367380.0</td>\n",
       "      <td>One Manga Day - Bonus Content</td>\n",
       "      <td>Indie</td>\n",
       "      <td>2015</td>\n",
       "      <td>3.99</td>\n",
       "      <td>DeXP</td>\n",
       "    </tr>\n",
       "    <tr>\n",
       "      <th>113483</th>\n",
       "      <td>390920.0</td>\n",
       "      <td>Army of Pixels</td>\n",
       "      <td>Strategy</td>\n",
       "      <td>2015</td>\n",
       "      <td>4.99</td>\n",
       "      <td>Gergely Zsolnay,Richard Markos</td>\n",
       "    </tr>\n",
       "    <tr>\n",
       "      <th>108658</th>\n",
       "      <td>559340.0</td>\n",
       "      <td>Sunset Rangers</td>\n",
       "      <td>Early Access</td>\n",
       "      <td>2016</td>\n",
       "      <td>14.99</td>\n",
       "      <td>www.fishermangamedev.com</td>\n",
       "    </tr>\n",
       "    <tr>\n",
       "      <th>103648</th>\n",
       "      <td>717030.0</td>\n",
       "      <td>Kritika Online: Free Elite Player's Pack</td>\n",
       "      <td>RPG</td>\n",
       "      <td>2017</td>\n",
       "      <td>Free</td>\n",
       "      <td>ALLM</td>\n",
       "    </tr>\n",
       "    <tr>\n",
       "      <th>117615</th>\n",
       "      <td>265930.0</td>\n",
       "      <td>Goat Simulator</td>\n",
       "      <td>Simulation</td>\n",
       "      <td>2014</td>\n",
       "      <td>9.99</td>\n",
       "      <td>Coffee Stain Studios</td>\n",
       "    </tr>\n",
       "  </tbody>\n",
       "</table>\n",
       "</div>"
      ],
      "text/plain": [
       "         item_id                                  app_name        genres  \\\n",
       "115137  367380.0             One Manga Day - Bonus Content         Indie   \n",
       "113483  390920.0                            Army of Pixels      Strategy   \n",
       "108658  559340.0                            Sunset Rangers  Early Access   \n",
       "103648  717030.0  Kritika Online: Free Elite Player's Pack           RPG   \n",
       "117615  265930.0                            Goat Simulator    Simulation   \n",
       "\n",
       "        year  price                       developer  \n",
       "115137  2015   3.99                            DeXP  \n",
       "113483  2015   4.99  Gergely Zsolnay,Richard Markos  \n",
       "108658  2016  14.99        www.fishermangamedev.com  \n",
       "103648  2017   Free                            ALLM  \n",
       "117615  2014   9.99            Coffee Stain Studios  "
      ]
     },
     "execution_count": 10,
     "metadata": {},
     "output_type": "execute_result"
    }
   ],
   "source": [
    "# Filtrado de campos a utilizar\n",
    "df_games = df_games[['item_id', 'app_name', 'genres', 'year', 'price', 'developer']]\n",
    "df_games.sample(5)"
   ]
  },
  {
   "attachments": {},
   "cell_type": "markdown",
   "metadata": {},
   "source": [
    "### Verificación de tipos de datos - Dataset GAMES"
   ]
  },
  {
   "cell_type": "code",
   "execution_count": 11,
   "metadata": {},
   "outputs": [
    {
     "name": "stdout",
     "output_type": "stream",
     "text": [
      "<class 'pandas.core.frame.DataFrame'>\n",
      "Index: 1983295 entries, 88310 to 120443\n",
      "Data columns (total 6 columns):\n",
      " #   Column     Dtype  \n",
      "---  ------     -----  \n",
      " 0   item_id    float64\n",
      " 1   app_name   object \n",
      " 2   genres     object \n",
      " 3   year       int32  \n",
      " 4   price      object \n",
      " 5   developer  object \n",
      "dtypes: float64(1), int32(1), object(4)\n",
      "memory usage: 98.4+ MB\n"
     ]
    }
   ],
   "source": [
    "df_games.info()"
   ]
  },
  {
   "cell_type": "code",
   "execution_count": 12,
   "metadata": {},
   "outputs": [
    {
     "name": "stdout",
     "output_type": "stream",
     "text": [
      "<class 'pandas.core.frame.DataFrame'>\n",
      "Index: 1983295 entries, 88310 to 120443\n",
      "Data columns (total 6 columns):\n",
      " #   Column     Dtype  \n",
      "---  ------     -----  \n",
      " 0   item_id    int64  \n",
      " 1   app_name   object \n",
      " 2   genres     object \n",
      " 3   year       int32  \n",
      " 4   price      float64\n",
      " 5   developer  object \n",
      "dtypes: float64(1), int32(1), int64(1), object(3)\n",
      "memory usage: 98.4+ MB\n"
     ]
    }
   ],
   "source": [
    "# Conversión de tipos de datos\n",
    "\n",
    "df_games['price'] = pd.to_numeric(df_games['price'], errors='coerce')  # Conversión a tipo numérico, forzando los errores a NaN\n",
    "#df_games['early_access'] = df_games['early_access'].astype(bool)       # Conversión a tipo booleano\n",
    "df_games['item_id'] = pd.to_numeric(df_games['item_id'], errors='coerce')        # Conversión a tipo entero, forzando los errores a NaN\n",
    "df_games['item_id'].fillna(0, inplace=True)\n",
    "df_games['item_id'] = df_games['item_id'].astype(int)\n",
    "df_games.info()"
   ]
  },
  {
   "cell_type": "code",
   "execution_count": 13,
   "metadata": {},
   "outputs": [
    {
     "data": {
      "text/html": [
       "<div>\n",
       "<style scoped>\n",
       "    .dataframe tbody tr th:only-of-type {\n",
       "        vertical-align: middle;\n",
       "    }\n",
       "\n",
       "    .dataframe tbody tr th {\n",
       "        vertical-align: top;\n",
       "    }\n",
       "\n",
       "    .dataframe thead th {\n",
       "        text-align: right;\n",
       "    }\n",
       "</style>\n",
       "<table border=\"1\" class=\"dataframe\">\n",
       "  <thead>\n",
       "    <tr style=\"text-align: right;\">\n",
       "      <th></th>\n",
       "      <th>item_id</th>\n",
       "      <th>app_name</th>\n",
       "      <th>genres</th>\n",
       "      <th>year</th>\n",
       "      <th>price</th>\n",
       "      <th>developer</th>\n",
       "    </tr>\n",
       "  </thead>\n",
       "  <tbody>\n",
       "    <tr>\n",
       "      <th>114686</th>\n",
       "      <td>369560</td>\n",
       "      <td>The Story Goes On</td>\n",
       "      <td>Action</td>\n",
       "      <td>2015</td>\n",
       "      <td>4.99</td>\n",
       "      <td>Scarecrow Arts</td>\n",
       "    </tr>\n",
       "    <tr>\n",
       "      <th>117928</th>\n",
       "      <td>261400</td>\n",
       "      <td>Episode 11 - King Midas</td>\n",
       "      <td>Casual</td>\n",
       "      <td>2014</td>\n",
       "      <td>0.99</td>\n",
       "      <td>Spicyhorse</td>\n",
       "    </tr>\n",
       "    <tr>\n",
       "      <th>108518</th>\n",
       "      <td>540330</td>\n",
       "      <td>Hunger Dungeon Deluxe Edition + Sound Track</td>\n",
       "      <td>Action</td>\n",
       "      <td>2016</td>\n",
       "      <td>11.99</td>\n",
       "      <td>Buka Game Studio</td>\n",
       "    </tr>\n",
       "    <tr>\n",
       "      <th>118532</th>\n",
       "      <td>227400</td>\n",
       "      <td>Darkfall Unholy Wars</td>\n",
       "      <td>Indie</td>\n",
       "      <td>2013</td>\n",
       "      <td>NaN</td>\n",
       "      <td>Aventurine SA</td>\n",
       "    </tr>\n",
       "    <tr>\n",
       "      <th>95860</th>\n",
       "      <td>507010</td>\n",
       "      <td>Mr.President!</td>\n",
       "      <td>Adventure</td>\n",
       "      <td>2016</td>\n",
       "      <td>4.99</td>\n",
       "      <td>Game Developer X</td>\n",
       "    </tr>\n",
       "  </tbody>\n",
       "</table>\n",
       "</div>"
      ],
      "text/plain": [
       "        item_id                                     app_name     genres  year  \\\n",
       "114686   369560                            The Story Goes On     Action  2015   \n",
       "117928   261400                      Episode 11 - King Midas     Casual  2014   \n",
       "108518   540330  Hunger Dungeon Deluxe Edition + Sound Track     Action  2016   \n",
       "118532   227400                         Darkfall Unholy Wars      Indie  2013   \n",
       "95860    507010                                Mr.President!  Adventure  2016   \n",
       "\n",
       "        price         developer  \n",
       "114686   4.99    Scarecrow Arts  \n",
       "117928   0.99        Spicyhorse  \n",
       "108518  11.99  Buka Game Studio  \n",
       "118532    NaN     Aventurine SA  \n",
       "95860    4.99  Game Developer X  "
      ]
     },
     "execution_count": 13,
     "metadata": {},
     "output_type": "execute_result"
    }
   ],
   "source": [
    "df_games.sample(5)"
   ]
  },
  {
   "attachments": {},
   "cell_type": "markdown",
   "metadata": {},
   "source": [
    "### Verficación de valores duplicados - Dataset GAMES"
   ]
  },
  {
   "cell_type": "code",
   "execution_count": 14,
   "metadata": {},
   "outputs": [
    {
     "data": {
      "text/plain": [
       "1911358"
      ]
     },
     "execution_count": 14,
     "metadata": {},
     "output_type": "execute_result"
    }
   ],
   "source": [
    "df_games.duplicated().sum()"
   ]
  },
  {
   "cell_type": "code",
   "execution_count": 15,
   "metadata": {},
   "outputs": [
    {
     "name": "stdout",
     "output_type": "stream",
     "text": [
      "<class 'pandas.core.frame.DataFrame'>\n",
      "Index: 29782 entries, 0 to 71935\n",
      "Data columns (total 6 columns):\n",
      " #   Column     Non-Null Count  Dtype  \n",
      "---  ------     --------------  -----  \n",
      " 0   item_id    29782 non-null  int64  \n",
      " 1   app_name   29781 non-null  object \n",
      " 2   genres     28548 non-null  object \n",
      " 3   year       29782 non-null  int32  \n",
      " 4   price      27210 non-null  float64\n",
      " 5   developer  28532 non-null  object \n",
      "dtypes: float64(1), int32(1), int64(1), object(3)\n",
      "memory usage: 1.5+ MB\n"
     ]
    }
   ],
   "source": [
    "df_games = df_games.drop_duplicates().reset_index(drop=True)\n",
    "df_games = df_games.drop_duplicates(subset=['item_id'])     # Eliminar filas cuyo campo \"item_id\" tiene duplicados\n",
    "df_games.info()"
   ]
  },
  {
   "attachments": {},
   "cell_type": "markdown",
   "metadata": {},
   "source": [
    "### Verificación de valores nulos - Dataset GAMES"
   ]
  },
  {
   "cell_type": "code",
   "execution_count": 16,
   "metadata": {},
   "outputs": [
    {
     "data": {
      "text/plain": [
       "item_id         0\n",
       "app_name        1\n",
       "genres       1234\n",
       "year            0\n",
       "price        2572\n",
       "developer    1250\n",
       "dtype: int64"
      ]
     },
     "execution_count": 16,
     "metadata": {},
     "output_type": "execute_result"
    }
   ],
   "source": [
    "df_games.isnull().sum()"
   ]
  },
  {
   "attachments": {},
   "cell_type": "markdown",
   "metadata": {},
   "source": [
    "En este marco es difícil establecer un patrón de valores nulos que nos permita comprender la razón de su existencia. Considerando los efectos para los que es necesario este dataset, optaremos por eliminar los registros cuyos campos prinicipales del dataset presenten valores nulos."
   ]
  },
  {
   "cell_type": "code",
   "execution_count": 17,
   "metadata": {},
   "outputs": [],
   "source": [
    "df_games = df_games.dropna(subset=['genres', 'app_name'])"
   ]
  },
  {
   "cell_type": "code",
   "execution_count": 18,
   "metadata": {},
   "outputs": [
    {
     "data": {
      "text/plain": [
       "item_id         0\n",
       "app_name        0\n",
       "genres          0\n",
       "year            0\n",
       "price        2502\n",
       "developer     169\n",
       "dtype: int64"
      ]
     },
     "execution_count": 18,
     "metadata": {},
     "output_type": "execute_result"
    }
   ],
   "source": [
    "df_games.isnull().sum()"
   ]
  },
  {
   "attachments": {},
   "cell_type": "markdown",
   "metadata": {},
   "source": [
    "## Dataset REVIEWS"
   ]
  },
  {
   "attachments": {},
   "cell_type": "markdown",
   "metadata": {},
   "source": [
    "### Ingeniería de características - Dataset REVIEWS"
   ]
  },
  {
   "cell_type": "code",
   "execution_count": 19,
   "metadata": {},
   "outputs": [
    {
     "data": {
      "text/html": [
       "<div>\n",
       "<style scoped>\n",
       "    .dataframe tbody tr th:only-of-type {\n",
       "        vertical-align: middle;\n",
       "    }\n",
       "\n",
       "    .dataframe tbody tr th {\n",
       "        vertical-align: top;\n",
       "    }\n",
       "\n",
       "    .dataframe thead th {\n",
       "        text-align: right;\n",
       "    }\n",
       "</style>\n",
       "<table border=\"1\" class=\"dataframe\">\n",
       "  <thead>\n",
       "    <tr style=\"text-align: right;\">\n",
       "      <th></th>\n",
       "      <th>user_id</th>\n",
       "      <th>user_url</th>\n",
       "      <th>reviews</th>\n",
       "    </tr>\n",
       "  </thead>\n",
       "  <tbody>\n",
       "    <tr>\n",
       "      <th>10839</th>\n",
       "      <td>76561198052516588</td>\n",
       "      <td>http://steamcommunity.com/profiles/76561198052...</td>\n",
       "      <td>[{'funny': '1 person found this review funny',...</td>\n",
       "    </tr>\n",
       "    <tr>\n",
       "      <th>24569</th>\n",
       "      <td>76561198094722660</td>\n",
       "      <td>http://steamcommunity.com/profiles/76561198094...</td>\n",
       "      <td>[{'funny': '', 'posted': 'Posted June 14, 2014...</td>\n",
       "    </tr>\n",
       "  </tbody>\n",
       "</table>\n",
       "</div>"
      ],
      "text/plain": [
       "                 user_id                                           user_url  \\\n",
       "10839  76561198052516588  http://steamcommunity.com/profiles/76561198052...   \n",
       "24569  76561198094722660  http://steamcommunity.com/profiles/76561198094...   \n",
       "\n",
       "                                                 reviews  \n",
       "10839  [{'funny': '1 person found this review funny',...  \n",
       "24569  [{'funny': '', 'posted': 'Posted June 14, 2014...  "
      ]
     },
     "execution_count": 19,
     "metadata": {},
     "output_type": "execute_result"
    }
   ],
   "source": [
    "df_reviews = user_reviews\n",
    "df_reviews.sample(2)"
   ]
  },
  {
   "cell_type": "code",
   "execution_count": 20,
   "metadata": {},
   "outputs": [
    {
     "data": {
      "text/html": [
       "<div>\n",
       "<style scoped>\n",
       "    .dataframe tbody tr th:only-of-type {\n",
       "        vertical-align: middle;\n",
       "    }\n",
       "\n",
       "    .dataframe tbody tr th {\n",
       "        vertical-align: top;\n",
       "    }\n",
       "\n",
       "    .dataframe thead th {\n",
       "        text-align: right;\n",
       "    }\n",
       "</style>\n",
       "<table border=\"1\" class=\"dataframe\">\n",
       "  <thead>\n",
       "    <tr style=\"text-align: right;\">\n",
       "      <th></th>\n",
       "      <th>user_id</th>\n",
       "      <th>user_url</th>\n",
       "      <th>funny</th>\n",
       "      <th>posted</th>\n",
       "      <th>last_edited</th>\n",
       "      <th>item_id</th>\n",
       "      <th>helpful</th>\n",
       "      <th>recommend</th>\n",
       "      <th>review</th>\n",
       "      <th>0</th>\n",
       "    </tr>\n",
       "  </thead>\n",
       "  <tbody>\n",
       "    <tr>\n",
       "      <th>772</th>\n",
       "      <td>76561198038374904</td>\n",
       "      <td>http://steamcommunity.com/profiles/76561198038...</td>\n",
       "      <td>32 people found this review funny</td>\n",
       "      <td>Posted June 18.</td>\n",
       "      <td></td>\n",
       "      <td>450660</td>\n",
       "      <td>83 of 106 people (78%) found this review helpful</td>\n",
       "      <td>True</td>\n",
       "      <td>You get to play as Ron Pearlman.What more do y...</td>\n",
       "      <td>NaN</td>\n",
       "    </tr>\n",
       "    <tr>\n",
       "      <th>7203</th>\n",
       "      <td>76561198049796309</td>\n",
       "      <td>http://steamcommunity.com/profiles/76561198049...</td>\n",
       "      <td></td>\n",
       "      <td>Posted November 29, 2014.</td>\n",
       "      <td></td>\n",
       "      <td>298630</td>\n",
       "      <td>No ratings yet</td>\n",
       "      <td>True</td>\n",
       "      <td>Bloody Brilliant little game and has already t...</td>\n",
       "      <td>NaN</td>\n",
       "    </tr>\n",
       "    <tr>\n",
       "      <th>19538</th>\n",
       "      <td>dearcatherine</td>\n",
       "      <td>http://steamcommunity.com/id/dearcatherine</td>\n",
       "      <td></td>\n",
       "      <td>Posted June 20, 2015.</td>\n",
       "      <td></td>\n",
       "      <td>293680</td>\n",
       "      <td>2 of 2 people (100%) found this review helpful</td>\n",
       "      <td>True</td>\n",
       "      <td>95% dialogue, would like to see more animation...</td>\n",
       "      <td>NaN</td>\n",
       "    </tr>\n",
       "    <tr>\n",
       "      <th>1375</th>\n",
       "      <td>lazrknight</td>\n",
       "      <td>http://steamcommunity.com/id/lazrknight</td>\n",
       "      <td></td>\n",
       "      <td>Posted May 3, 2014.</td>\n",
       "      <td></td>\n",
       "      <td>72850</td>\n",
       "      <td>2 of 3 people (67%) found this review helpful</td>\n",
       "      <td>True</td>\n",
       "      <td>A game of pure epicness. Check it out if u hav...</td>\n",
       "      <td>NaN</td>\n",
       "    </tr>\n",
       "    <tr>\n",
       "      <th>17629</th>\n",
       "      <td>STEAM0082987612</td>\n",
       "      <td>http://steamcommunity.com/id/STEAM0082987612</td>\n",
       "      <td></td>\n",
       "      <td>Posted May 26, 2014.</td>\n",
       "      <td></td>\n",
       "      <td>4000</td>\n",
       "      <td>0 of 2 people (0%) found this review helpful</td>\n",
       "      <td>True</td>\n",
       "      <td>If you don't own this game, I feel sorry for you</td>\n",
       "      <td>NaN</td>\n",
       "    </tr>\n",
       "  </tbody>\n",
       "</table>\n",
       "</div>"
      ],
      "text/plain": [
       "                 user_id                                           user_url  \\\n",
       "772    76561198038374904  http://steamcommunity.com/profiles/76561198038...   \n",
       "7203   76561198049796309  http://steamcommunity.com/profiles/76561198049...   \n",
       "19538      dearcatherine         http://steamcommunity.com/id/dearcatherine   \n",
       "1375          lazrknight            http://steamcommunity.com/id/lazrknight   \n",
       "17629    STEAM0082987612       http://steamcommunity.com/id/STEAM0082987612   \n",
       "\n",
       "                                   funny                     posted  \\\n",
       "772    32 people found this review funny            Posted June 18.   \n",
       "7203                                      Posted November 29, 2014.   \n",
       "19538                                         Posted June 20, 2015.   \n",
       "1375                                            Posted May 3, 2014.   \n",
       "17629                                          Posted May 26, 2014.   \n",
       "\n",
       "      last_edited item_id                                           helpful  \\\n",
       "772                450660  83 of 106 people (78%) found this review helpful   \n",
       "7203               298630                                    No ratings yet   \n",
       "19538              293680    2 of 2 people (100%) found this review helpful   \n",
       "1375                72850     2 of 3 people (67%) found this review helpful   \n",
       "17629                4000      0 of 2 people (0%) found this review helpful   \n",
       "\n",
       "      recommend                                             review   0  \n",
       "772        True  You get to play as Ron Pearlman.What more do y... NaN  \n",
       "7203       True  Bloody Brilliant little game and has already t... NaN  \n",
       "19538      True  95% dialogue, would like to see more animation... NaN  \n",
       "1375       True  A game of pure epicness. Check it out if u hav... NaN  \n",
       "17629      True   If you don't own this game, I feel sorry for you NaN  "
      ]
     },
     "execution_count": 20,
     "metadata": {},
     "output_type": "execute_result"
    }
   ],
   "source": [
    "# Desagregación del campo \"reviews\"\n",
    "\n",
    "df_reviews = user_reviews.explode('reviews')\n",
    "df_reviews = pd.concat([df_reviews.drop(['reviews'], axis=1), df_reviews['reviews'].apply(pd.Series)], axis=1)\n",
    "df_reviews.sample(5)"
   ]
  },
  {
   "cell_type": "code",
   "execution_count": 21,
   "metadata": {},
   "outputs": [
    {
     "data": {
      "text/html": [
       "<div>\n",
       "<style scoped>\n",
       "    .dataframe tbody tr th:only-of-type {\n",
       "        vertical-align: middle;\n",
       "    }\n",
       "\n",
       "    .dataframe tbody tr th {\n",
       "        vertical-align: top;\n",
       "    }\n",
       "\n",
       "    .dataframe thead th {\n",
       "        text-align: right;\n",
       "    }\n",
       "</style>\n",
       "<table border=\"1\" class=\"dataframe\">\n",
       "  <thead>\n",
       "    <tr style=\"text-align: right;\">\n",
       "      <th></th>\n",
       "      <th>user_id</th>\n",
       "      <th>user_url</th>\n",
       "      <th>funny</th>\n",
       "      <th>posted</th>\n",
       "      <th>last_edited</th>\n",
       "      <th>item_id</th>\n",
       "      <th>helpful</th>\n",
       "      <th>recommend</th>\n",
       "      <th>review</th>\n",
       "      <th>0</th>\n",
       "      <th>posted_date</th>\n",
       "      <th>year</th>\n",
       "    </tr>\n",
       "  </thead>\n",
       "  <tbody>\n",
       "    <tr>\n",
       "      <th>21012</th>\n",
       "      <td>maarkthe</td>\n",
       "      <td>http://steamcommunity.com/id/maarkthe</td>\n",
       "      <td></td>\n",
       "      <td>Posted June 26, 2014.</td>\n",
       "      <td></td>\n",
       "      <td>8930</td>\n",
       "      <td>No ratings yet</td>\n",
       "      <td>True</td>\n",
       "      <td>Esse é um jogo de estratégia nota 10 para se j...</td>\n",
       "      <td>NaN</td>\n",
       "      <td>2014-06-26</td>\n",
       "      <td>2014</td>\n",
       "    </tr>\n",
       "    <tr>\n",
       "      <th>2119</th>\n",
       "      <td>fgtkms</td>\n",
       "      <td>http://steamcommunity.com/id/fgtkms</td>\n",
       "      <td>1 person found this review funny</td>\n",
       "      <td>Posted January 22, 2015.</td>\n",
       "      <td></td>\n",
       "      <td>222880</td>\n",
       "      <td>1 of 1 people (100%) found this review helpful</td>\n",
       "      <td>True</td>\n",
       "      <td>Good Game. 11/10 IGN</td>\n",
       "      <td>NaN</td>\n",
       "      <td>2015-01-22</td>\n",
       "      <td>2015</td>\n",
       "    </tr>\n",
       "  </tbody>\n",
       "</table>\n",
       "</div>"
      ],
      "text/plain": [
       "        user_id                               user_url  \\\n",
       "21012  maarkthe  http://steamcommunity.com/id/maarkthe   \n",
       "2119     fgtkms    http://steamcommunity.com/id/fgtkms   \n",
       "\n",
       "                                  funny                    posted last_edited  \\\n",
       "21012                                       Posted June 26, 2014.               \n",
       "2119   1 person found this review funny  Posted January 22, 2015.               \n",
       "\n",
       "      item_id                                         helpful recommend  \\\n",
       "21012    8930                                  No ratings yet      True   \n",
       "2119   222880  1 of 1 people (100%) found this review helpful      True   \n",
       "\n",
       "                                                  review   0 posted_date  year  \n",
       "21012  Esse é um jogo de estratégia nota 10 para se j... NaN  2014-06-26  2014  \n",
       "2119                                Good Game. 11/10 IGN NaN  2015-01-22  2015  "
      ]
     },
     "execution_count": 21,
     "metadata": {},
     "output_type": "execute_result"
    }
   ],
   "source": [
    "# Agregación de los campos \"date\" y \"year\"\n",
    "\n",
    "def extract_posted_date(posted_str):         # Función para extraer la fecha del campo \"posted\"\n",
    "    pattern = r'Posted (\\w+ \\d{1,2}, \\d{4})' # Definición del patrón observado\n",
    "    match = re.search(pattern, posted_str)\n",
    "    if match:\n",
    "        return match.group(1)\n",
    "    else:\n",
    "        return None\n",
    "\n",
    "# Aplicar la función para extraer la fecha del campo \"posted\"\n",
    "df_reviews['posted_date'] = df_reviews['posted'].apply(lambda x: np.nan if pd.isna(x) else extract_posted_date(x))\n",
    "\n",
    "df_reviews['posted_date'] = pd.to_datetime(df_reviews['posted_date'])\n",
    "df_reviews['year'] = df_reviews['posted_date'].dt.year\n",
    "df_reviews['year'] = df_reviews['year'].fillna(0)\n",
    "df_reviews['year'] = df_reviews['year'].astype(int)\n",
    "\n",
    "df_reviews.sample(2)"
   ]
  },
  {
   "cell_type": "code",
   "execution_count": 22,
   "metadata": {},
   "outputs": [],
   "source": [
    "# Análisis de sentimientos a partir del campo \"review\"\n",
    "\n",
    "df_reviews['review'] = df_reviews['review'].astype(str)\n",
    "df_reviews['polarity'] = df_reviews['review'].apply(lambda text: TextBlob(text).sentiment.polarity)\n",
    "df_reviews['sentiment'] = pd.cut(df_reviews['polarity'], bins=[-float('inf'), -0.001, 0.0, float('inf')], labels=[0, 1, 2])"
   ]
  },
  {
   "cell_type": "code",
   "execution_count": 23,
   "metadata": {},
   "outputs": [
    {
     "data": {
      "text/html": [
       "<div>\n",
       "<style scoped>\n",
       "    .dataframe tbody tr th:only-of-type {\n",
       "        vertical-align: middle;\n",
       "    }\n",
       "\n",
       "    .dataframe tbody tr th {\n",
       "        vertical-align: top;\n",
       "    }\n",
       "\n",
       "    .dataframe thead th {\n",
       "        text-align: right;\n",
       "    }\n",
       "</style>\n",
       "<table border=\"1\" class=\"dataframe\">\n",
       "  <thead>\n",
       "    <tr style=\"text-align: right;\">\n",
       "      <th></th>\n",
       "      <th>user_id</th>\n",
       "      <th>user_url</th>\n",
       "      <th>funny</th>\n",
       "      <th>posted</th>\n",
       "      <th>last_edited</th>\n",
       "      <th>item_id</th>\n",
       "      <th>helpful</th>\n",
       "      <th>recommend</th>\n",
       "      <th>review</th>\n",
       "      <th>0</th>\n",
       "      <th>posted_date</th>\n",
       "      <th>year</th>\n",
       "      <th>polarity</th>\n",
       "      <th>sentiment</th>\n",
       "    </tr>\n",
       "  </thead>\n",
       "  <tbody>\n",
       "    <tr>\n",
       "      <th>17818</th>\n",
       "      <td>qwertysmosh</td>\n",
       "      <td>http://steamcommunity.com/id/qwertysmosh</td>\n",
       "      <td></td>\n",
       "      <td>Posted July 26.</td>\n",
       "      <td></td>\n",
       "      <td>730</td>\n",
       "      <td>No ratings yet</td>\n",
       "      <td>True</td>\n",
       "      <td>Great game of my late great great grand dad.Pl...</td>\n",
       "      <td>NaN</td>\n",
       "      <td>NaT</td>\n",
       "      <td>0</td>\n",
       "      <td>0.255579</td>\n",
       "      <td>2</td>\n",
       "    </tr>\n",
       "    <tr>\n",
       "      <th>8097</th>\n",
       "      <td>76561198084406709</td>\n",
       "      <td>http://steamcommunity.com/profiles/76561198084...</td>\n",
       "      <td></td>\n",
       "      <td>Posted August 29.</td>\n",
       "      <td></td>\n",
       "      <td>264710</td>\n",
       "      <td>No ratings yet</td>\n",
       "      <td>True</td>\n",
       "      <td>Really like the game, could have a lower level...</td>\n",
       "      <td>NaN</td>\n",
       "      <td>NaT</td>\n",
       "      <td>0</td>\n",
       "      <td>-0.100000</td>\n",
       "      <td>0</td>\n",
       "    </tr>\n",
       "    <tr>\n",
       "      <th>7244</th>\n",
       "      <td>23745736</td>\n",
       "      <td>http://steamcommunity.com/id/23745736</td>\n",
       "      <td></td>\n",
       "      <td>Posted June 15, 2015.</td>\n",
       "      <td></td>\n",
       "      <td>252490</td>\n",
       "      <td>No ratings yet</td>\n",
       "      <td>True</td>\n",
       "      <td>just one thing. LAGGGGGGGGGGGGGGGGGGGGGGGGGGGG...</td>\n",
       "      <td>NaN</td>\n",
       "      <td>2015-06-15</td>\n",
       "      <td>2015</td>\n",
       "      <td>0.000000</td>\n",
       "      <td>1</td>\n",
       "    </tr>\n",
       "    <tr>\n",
       "      <th>6452</th>\n",
       "      <td>nova_prime</td>\n",
       "      <td>http://steamcommunity.com/id/nova_prime</td>\n",
       "      <td></td>\n",
       "      <td>Posted December 21, 2014.</td>\n",
       "      <td>Last edited January 13.</td>\n",
       "      <td>230410</td>\n",
       "      <td>2 of 4 people (50%) found this review helpful</td>\n",
       "      <td>True</td>\n",
       "      <td>Good gunplay, good frames, fun abilities, tons...</td>\n",
       "      <td>NaN</td>\n",
       "      <td>2014-12-21</td>\n",
       "      <td>2014</td>\n",
       "      <td>0.204040</td>\n",
       "      <td>2</td>\n",
       "    </tr>\n",
       "    <tr>\n",
       "      <th>21662</th>\n",
       "      <td>coil71</td>\n",
       "      <td>http://steamcommunity.com/id/coil71</td>\n",
       "      <td>1 person found this review funny</td>\n",
       "      <td>Posted December 4, 2013.</td>\n",
       "      <td></td>\n",
       "      <td>230410</td>\n",
       "      <td>2 of 4 people (50%) found this review helpful</td>\n",
       "      <td>True</td>\n",
       "      <td>I like Cats</td>\n",
       "      <td>NaN</td>\n",
       "      <td>2013-12-04</td>\n",
       "      <td>2013</td>\n",
       "      <td>0.000000</td>\n",
       "      <td>1</td>\n",
       "    </tr>\n",
       "  </tbody>\n",
       "</table>\n",
       "</div>"
      ],
      "text/plain": [
       "                 user_id                                           user_url  \\\n",
       "17818        qwertysmosh           http://steamcommunity.com/id/qwertysmosh   \n",
       "8097   76561198084406709  http://steamcommunity.com/profiles/76561198084...   \n",
       "7244            23745736              http://steamcommunity.com/id/23745736   \n",
       "6452          nova_prime            http://steamcommunity.com/id/nova_prime   \n",
       "21662             coil71                http://steamcommunity.com/id/coil71   \n",
       "\n",
       "                                  funny                     posted  \\\n",
       "17818                                              Posted July 26.   \n",
       "8097                                             Posted August 29.   \n",
       "7244                                         Posted June 15, 2015.   \n",
       "6452                                     Posted December 21, 2014.   \n",
       "21662  1 person found this review funny   Posted December 4, 2013.   \n",
       "\n",
       "                   last_edited item_id  \\\n",
       "17818                              730   \n",
       "8097                            264710   \n",
       "7244                            252490   \n",
       "6452   Last edited January 13.  230410   \n",
       "21662                           230410   \n",
       "\n",
       "                                             helpful recommend  \\\n",
       "17818                                 No ratings yet      True   \n",
       "8097                                  No ratings yet      True   \n",
       "7244                                  No ratings yet      True   \n",
       "6452   2 of 4 people (50%) found this review helpful      True   \n",
       "21662  2 of 4 people (50%) found this review helpful      True   \n",
       "\n",
       "                                                  review   0 posted_date  \\\n",
       "17818  Great game of my late great great grand dad.Pl... NaN         NaT   \n",
       "8097   Really like the game, could have a lower level... NaN         NaT   \n",
       "7244   just one thing. LAGGGGGGGGGGGGGGGGGGGGGGGGGGGG... NaN  2015-06-15   \n",
       "6452   Good gunplay, good frames, fun abilities, tons... NaN  2014-12-21   \n",
       "21662                                        I like Cats NaN  2013-12-04   \n",
       "\n",
       "       year  polarity sentiment  \n",
       "17818     0  0.255579         2  \n",
       "8097      0 -0.100000         0  \n",
       "7244   2015  0.000000         1  \n",
       "6452   2014  0.204040         2  \n",
       "21662  2013  0.000000         1  "
      ]
     },
     "execution_count": 23,
     "metadata": {},
     "output_type": "execute_result"
    }
   ],
   "source": [
    "df_reviews.sample(5)"
   ]
  },
  {
   "cell_type": "code",
   "execution_count": 24,
   "metadata": {},
   "outputs": [
    {
     "data": {
      "text/html": [
       "<div>\n",
       "<style scoped>\n",
       "    .dataframe tbody tr th:only-of-type {\n",
       "        vertical-align: middle;\n",
       "    }\n",
       "\n",
       "    .dataframe tbody tr th {\n",
       "        vertical-align: top;\n",
       "    }\n",
       "\n",
       "    .dataframe thead th {\n",
       "        text-align: right;\n",
       "    }\n",
       "</style>\n",
       "<table border=\"1\" class=\"dataframe\">\n",
       "  <thead>\n",
       "    <tr style=\"text-align: right;\">\n",
       "      <th></th>\n",
       "      <th>item_id</th>\n",
       "      <th>user_id</th>\n",
       "      <th>recommend</th>\n",
       "      <th>year</th>\n",
       "      <th>polarity</th>\n",
       "      <th>sentiment</th>\n",
       "    </tr>\n",
       "  </thead>\n",
       "  <tbody>\n",
       "    <tr>\n",
       "      <th>6096</th>\n",
       "      <td>230410</td>\n",
       "      <td>76561198094782691</td>\n",
       "      <td>True</td>\n",
       "      <td>2014</td>\n",
       "      <td>0.15</td>\n",
       "      <td>2</td>\n",
       "    </tr>\n",
       "    <tr>\n",
       "      <th>16391</th>\n",
       "      <td>313120</td>\n",
       "      <td>76561198020061745</td>\n",
       "      <td>True</td>\n",
       "      <td>2015</td>\n",
       "      <td>-0.40</td>\n",
       "      <td>0</td>\n",
       "    </tr>\n",
       "    <tr>\n",
       "      <th>4310</th>\n",
       "      <td>401920</td>\n",
       "      <td>MattBowles</td>\n",
       "      <td>True</td>\n",
       "      <td>2015</td>\n",
       "      <td>0.00</td>\n",
       "      <td>1</td>\n",
       "    </tr>\n",
       "    <tr>\n",
       "      <th>24062</th>\n",
       "      <td>4000</td>\n",
       "      <td>mog1</td>\n",
       "      <td>True</td>\n",
       "      <td>2014</td>\n",
       "      <td>0.35</td>\n",
       "      <td>2</td>\n",
       "    </tr>\n",
       "    <tr>\n",
       "      <th>18492</th>\n",
       "      <td>220</td>\n",
       "      <td>76561197977981554</td>\n",
       "      <td>True</td>\n",
       "      <td>0</td>\n",
       "      <td>0.00</td>\n",
       "      <td>1</td>\n",
       "    </tr>\n",
       "  </tbody>\n",
       "</table>\n",
       "</div>"
      ],
      "text/plain": [
       "      item_id            user_id recommend  year  polarity sentiment\n",
       "6096   230410  76561198094782691      True  2014      0.15         2\n",
       "16391  313120  76561198020061745      True  2015     -0.40         0\n",
       "4310   401920         MattBowles      True  2015      0.00         1\n",
       "24062    4000               mog1      True  2014      0.35         2\n",
       "18492     220  76561197977981554      True     0      0.00         1"
      ]
     },
     "execution_count": 24,
     "metadata": {},
     "output_type": "execute_result"
    }
   ],
   "source": [
    "# Filtrado de campos a utilizar\n",
    "df_reviews = df_reviews[['item_id', 'user_id', 'recommend', 'year', 'polarity', 'sentiment']]\n",
    "df_reviews.sample(5)"
   ]
  },
  {
   "attachments": {},
   "cell_type": "markdown",
   "metadata": {},
   "source": [
    "### Verificación de tipos de datos - Dataset REVIEWS"
   ]
  },
  {
   "cell_type": "code",
   "execution_count": 25,
   "metadata": {},
   "outputs": [
    {
     "name": "stdout",
     "output_type": "stream",
     "text": [
      "<class 'pandas.core.frame.DataFrame'>\n",
      "Index: 59333 entries, 0 to 25798\n",
      "Data columns (total 6 columns):\n",
      " #   Column     Non-Null Count  Dtype   \n",
      "---  ------     --------------  -----   \n",
      " 0   item_id    59305 non-null  object  \n",
      " 1   user_id    59333 non-null  object  \n",
      " 2   recommend  59305 non-null  object  \n",
      " 3   year       59333 non-null  int64   \n",
      " 4   polarity   59333 non-null  float64 \n",
      " 5   sentiment  59333 non-null  category\n",
      "dtypes: category(1), float64(1), int64(1), object(3)\n",
      "memory usage: 2.8+ MB\n"
     ]
    }
   ],
   "source": [
    "df_reviews.info()"
   ]
  },
  {
   "cell_type": "code",
   "execution_count": 26,
   "metadata": {},
   "outputs": [
    {
     "name": "stdout",
     "output_type": "stream",
     "text": [
      "<class 'pandas.core.frame.DataFrame'>\n",
      "Index: 59333 entries, 0 to 25798\n",
      "Data columns (total 6 columns):\n",
      " #   Column     Non-Null Count  Dtype  \n",
      "---  ------     --------------  -----  \n",
      " 0   item_id    59305 non-null  float64\n",
      " 1   user_id    59333 non-null  object \n",
      " 2   recommend  59333 non-null  bool   \n",
      " 3   year       59333 non-null  int64  \n",
      " 4   polarity   59333 non-null  float64\n",
      " 5   sentiment  59333 non-null  int64  \n",
      "dtypes: bool(1), float64(2), int64(2), object(1)\n",
      "memory usage: 2.8+ MB\n"
     ]
    }
   ],
   "source": [
    "# Conversión de tipos de datos\n",
    "df_reviews['item_id'] = pd.to_numeric(df_reviews['item_id'], errors='coerce')\n",
    "df_reviews['recommend'] = df_reviews['recommend'].astype(bool)\n",
    "df_reviews['sentiment'] = pd.to_numeric(df_reviews['sentiment'], errors='coerce')\n",
    "df_reviews.info()"
   ]
  },
  {
   "attachments": {},
   "cell_type": "markdown",
   "metadata": {},
   "source": [
    "### Verificación de valores duplicados - Dataset REVIEWS"
   ]
  },
  {
   "cell_type": "code",
   "execution_count": 27,
   "metadata": {},
   "outputs": [
    {
     "data": {
      "text/plain": [
       "874"
      ]
     },
     "execution_count": 27,
     "metadata": {},
     "output_type": "execute_result"
    }
   ],
   "source": [
    "df_reviews.duplicated().sum()"
   ]
  },
  {
   "cell_type": "code",
   "execution_count": 28,
   "metadata": {},
   "outputs": [
    {
     "data": {
      "text/plain": [
       "0"
      ]
     },
     "execution_count": 28,
     "metadata": {},
     "output_type": "execute_result"
    }
   ],
   "source": [
    "# Eliminación de duplicados\n",
    "df_reviews = df_reviews.drop_duplicates().reset_index(drop=True)\n",
    "df_reviews.duplicated().sum()"
   ]
  },
  {
   "attachments": {},
   "cell_type": "markdown",
   "metadata": {},
   "source": [
    "### Verificación de valores nulos - Dataset REVIEWS"
   ]
  },
  {
   "cell_type": "code",
   "execution_count": 29,
   "metadata": {},
   "outputs": [
    {
     "data": {
      "text/plain": [
       "item_id      28\n",
       "user_id       0\n",
       "recommend     0\n",
       "year          0\n",
       "polarity      0\n",
       "sentiment     0\n",
       "dtype: int64"
      ]
     },
     "execution_count": 29,
     "metadata": {},
     "output_type": "execute_result"
    }
   ],
   "source": [
    "df_reviews.isnull().sum()"
   ]
  },
  {
   "cell_type": "code",
   "execution_count": 30,
   "metadata": {},
   "outputs": [
    {
     "data": {
      "text/plain": [
       "item_id      0\n",
       "user_id      0\n",
       "recommend    0\n",
       "year         0\n",
       "polarity     0\n",
       "sentiment    0\n",
       "dtype: int64"
      ]
     },
     "execution_count": 30,
     "metadata": {},
     "output_type": "execute_result"
    }
   ],
   "source": [
    "df_reviews = df_reviews.dropna(subset=['item_id'])\n",
    "df_reviews.isnull().sum()"
   ]
  },
  {
   "attachments": {},
   "cell_type": "markdown",
   "metadata": {},
   "source": [
    "## Dataset USAGE"
   ]
  },
  {
   "attachments": {},
   "cell_type": "markdown",
   "metadata": {},
   "source": [
    "### Ingeniería de características - Dataset USAGE"
   ]
  },
  {
   "cell_type": "code",
   "execution_count": 31,
   "metadata": {},
   "outputs": [
    {
     "data": {
      "text/html": [
       "<div>\n",
       "<style scoped>\n",
       "    .dataframe tbody tr th:only-of-type {\n",
       "        vertical-align: middle;\n",
       "    }\n",
       "\n",
       "    .dataframe tbody tr th {\n",
       "        vertical-align: top;\n",
       "    }\n",
       "\n",
       "    .dataframe thead th {\n",
       "        text-align: right;\n",
       "    }\n",
       "</style>\n",
       "<table border=\"1\" class=\"dataframe\">\n",
       "  <thead>\n",
       "    <tr style=\"text-align: right;\">\n",
       "      <th></th>\n",
       "      <th>user_id</th>\n",
       "      <th>items_count</th>\n",
       "      <th>steam_id</th>\n",
       "      <th>user_url</th>\n",
       "      <th>items</th>\n",
       "    </tr>\n",
       "  </thead>\n",
       "  <tbody>\n",
       "    <tr>\n",
       "      <th>71679</th>\n",
       "      <td>76561198077073196</td>\n",
       "      <td>4</td>\n",
       "      <td>76561198077073196</td>\n",
       "      <td>http://steamcommunity.com/profiles/76561198077...</td>\n",
       "      <td>[{'item_id': '4000', 'item_name': 'Garry's Mod...</td>\n",
       "    </tr>\n",
       "    <tr>\n",
       "      <th>56116</th>\n",
       "      <td>76561198055786959</td>\n",
       "      <td>19</td>\n",
       "      <td>76561198055786959</td>\n",
       "      <td>http://steamcommunity.com/profiles/76561198055...</td>\n",
       "      <td>[{'item_id': '6060', 'item_name': 'STAR WARS™ ...</td>\n",
       "    </tr>\n",
       "  </tbody>\n",
       "</table>\n",
       "</div>"
      ],
      "text/plain": [
       "                 user_id  items_count           steam_id  \\\n",
       "71679  76561198077073196            4  76561198077073196   \n",
       "56116  76561198055786959           19  76561198055786959   \n",
       "\n",
       "                                                user_url  \\\n",
       "71679  http://steamcommunity.com/profiles/76561198077...   \n",
       "56116  http://steamcommunity.com/profiles/76561198055...   \n",
       "\n",
       "                                                   items  \n",
       "71679  [{'item_id': '4000', 'item_name': 'Garry's Mod...  \n",
       "56116  [{'item_id': '6060', 'item_name': 'STAR WARS™ ...  "
      ]
     },
     "execution_count": 31,
     "metadata": {},
     "output_type": "execute_result"
    }
   ],
   "source": [
    "df_usage = user_items\n",
    "df_usage.sample(2)"
   ]
  },
  {
   "cell_type": "code",
   "execution_count": 32,
   "metadata": {},
   "outputs": [
    {
     "data": {
      "text/html": [
       "<div>\n",
       "<style scoped>\n",
       "    .dataframe tbody tr th:only-of-type {\n",
       "        vertical-align: middle;\n",
       "    }\n",
       "\n",
       "    .dataframe tbody tr th {\n",
       "        vertical-align: top;\n",
       "    }\n",
       "\n",
       "    .dataframe thead th {\n",
       "        text-align: right;\n",
       "    }\n",
       "</style>\n",
       "<table border=\"1\" class=\"dataframe\">\n",
       "  <thead>\n",
       "    <tr style=\"text-align: right;\">\n",
       "      <th></th>\n",
       "      <th>user_id</th>\n",
       "      <th>items_count</th>\n",
       "      <th>steam_id</th>\n",
       "      <th>user_url</th>\n",
       "      <th>items</th>\n",
       "      <th>item_id</th>\n",
       "      <th>item_name</th>\n",
       "      <th>playtime_forever</th>\n",
       "      <th>playtime_2weeks</th>\n",
       "    </tr>\n",
       "  </thead>\n",
       "  <tbody>\n",
       "    <tr>\n",
       "      <th>3573797</th>\n",
       "      <td>76561197971402201</td>\n",
       "      <td>50</td>\n",
       "      <td>76561197971402201</td>\n",
       "      <td>http://steamcommunity.com/profiles/76561197971...</td>\n",
       "      <td>{'item_id': '265930', 'item_name': 'Goat Simul...</td>\n",
       "      <td>265930</td>\n",
       "      <td>Goat Simulator</td>\n",
       "      <td>290.0</td>\n",
       "      <td>0.0</td>\n",
       "    </tr>\n",
       "    <tr>\n",
       "      <th>922600</th>\n",
       "      <td>76561198041784567</td>\n",
       "      <td>133</td>\n",
       "      <td>76561198041784567</td>\n",
       "      <td>http://steamcommunity.com/profiles/76561198041...</td>\n",
       "      <td>{'item_id': '47810', 'item_name': 'Dragon Age:...</td>\n",
       "      <td>47810</td>\n",
       "      <td>Dragon Age: Origins - Ultimate Edition</td>\n",
       "      <td>71.0</td>\n",
       "      <td>0.0</td>\n",
       "    </tr>\n",
       "  </tbody>\n",
       "</table>\n",
       "</div>"
      ],
      "text/plain": [
       "                   user_id  items_count           steam_id  \\\n",
       "3573797  76561197971402201           50  76561197971402201   \n",
       "922600   76561198041784567          133  76561198041784567   \n",
       "\n",
       "                                                  user_url  \\\n",
       "3573797  http://steamcommunity.com/profiles/76561197971...   \n",
       "922600   http://steamcommunity.com/profiles/76561198041...   \n",
       "\n",
       "                                                     items item_id  \\\n",
       "3573797  {'item_id': '265930', 'item_name': 'Goat Simul...  265930   \n",
       "922600   {'item_id': '47810', 'item_name': 'Dragon Age:...   47810   \n",
       "\n",
       "                                      item_name  playtime_forever  \\\n",
       "3573797                          Goat Simulator             290.0   \n",
       "922600   Dragon Age: Origins - Ultimate Edition              71.0   \n",
       "\n",
       "         playtime_2weeks  \n",
       "3573797              0.0  \n",
       "922600               0.0  "
      ]
     },
     "execution_count": 32,
     "metadata": {},
     "output_type": "execute_result"
    }
   ],
   "source": [
    "# Desagregación del campo \"items\"\n",
    "\n",
    "df_usage = user_items.explode('items')\n",
    "\n",
    "df_usage = df_usage.reset_index(drop=True)\n",
    "def obtener_elemento(diccionario, clave_busqueda):\n",
    "    if isinstance(diccionario, dict):\n",
    "        return diccionario.get(clave_busqueda)\n",
    "    else:\n",
    "        return diccionario\n",
    "\n",
    "# Desaagregaremos cada campo por separado para evitar tiempos excesivos de procesamiento\n",
    "df_usage['item_id'] = df_usage['items'].apply(lambda x: obtener_elemento(x, 'item_id'))\n",
    "df_usage['item_name'] = df_usage['items'].apply(lambda x: obtener_elemento(x, 'item_name'))\n",
    "df_usage['playtime_forever'] = df_usage['items'].apply(lambda x: obtener_elemento(x, 'playtime_forever'))\n",
    "df_usage['playtime_2weeks'] = df_usage['items'].apply(lambda x: obtener_elemento(x, 'playtime_2weeks'))\n",
    "\n",
    "df_usage.sample(2)"
   ]
  },
  {
   "cell_type": "code",
   "execution_count": 33,
   "metadata": {},
   "outputs": [
    {
     "data": {
      "text/html": [
       "<div>\n",
       "<style scoped>\n",
       "    .dataframe tbody tr th:only-of-type {\n",
       "        vertical-align: middle;\n",
       "    }\n",
       "\n",
       "    .dataframe tbody tr th {\n",
       "        vertical-align: top;\n",
       "    }\n",
       "\n",
       "    .dataframe thead th {\n",
       "        text-align: right;\n",
       "    }\n",
       "</style>\n",
       "<table border=\"1\" class=\"dataframe\">\n",
       "  <thead>\n",
       "    <tr style=\"text-align: right;\">\n",
       "      <th></th>\n",
       "      <th>item_id</th>\n",
       "      <th>user_id</th>\n",
       "      <th>playtime_forever</th>\n",
       "    </tr>\n",
       "  </thead>\n",
       "  <tbody>\n",
       "    <tr>\n",
       "      <th>378357</th>\n",
       "      <td>440950</td>\n",
       "      <td>rawrvixen</td>\n",
       "      <td>0.0</td>\n",
       "    </tr>\n",
       "    <tr>\n",
       "      <th>4538272</th>\n",
       "      <td>253980</td>\n",
       "      <td>Aleatorias</td>\n",
       "      <td>0.0</td>\n",
       "    </tr>\n",
       "  </tbody>\n",
       "</table>\n",
       "</div>"
      ],
      "text/plain": [
       "        item_id     user_id  playtime_forever\n",
       "378357   440950   rawrvixen               0.0\n",
       "4538272  253980  Aleatorias               0.0"
      ]
     },
     "execution_count": 33,
     "metadata": {},
     "output_type": "execute_result"
    }
   ],
   "source": [
    "# Filtrar campos a utilizar\n",
    "\n",
    "df_usage = df_usage[['item_id', 'user_id', 'playtime_forever']]\n",
    "df_usage.sample(2)"
   ]
  },
  {
   "attachments": {},
   "cell_type": "markdown",
   "metadata": {},
   "source": [
    "### Verificación de tipos de datos - Dataset USAGE\n"
   ]
  },
  {
   "cell_type": "code",
   "execution_count": 34,
   "metadata": {},
   "outputs": [
    {
     "name": "stdout",
     "output_type": "stream",
     "text": [
      "<class 'pandas.core.frame.DataFrame'>\n",
      "RangeIndex: 5170015 entries, 0 to 5170014\n",
      "Data columns (total 3 columns):\n",
      " #   Column            Dtype  \n",
      "---  ------            -----  \n",
      " 0   item_id           object \n",
      " 1   user_id           object \n",
      " 2   playtime_forever  float64\n",
      "dtypes: float64(1), object(2)\n",
      "memory usage: 118.3+ MB\n"
     ]
    }
   ],
   "source": [
    "df_usage.info()"
   ]
  },
  {
   "cell_type": "code",
   "execution_count": 35,
   "metadata": {},
   "outputs": [
    {
     "name": "stdout",
     "output_type": "stream",
     "text": [
      "<class 'pandas.core.frame.DataFrame'>\n",
      "RangeIndex: 5170015 entries, 0 to 5170014\n",
      "Data columns (total 3 columns):\n",
      " #   Column            Dtype  \n",
      "---  ------            -----  \n",
      " 0   item_id           float64\n",
      " 1   user_id           object \n",
      " 2   playtime_forever  float64\n",
      "dtypes: float64(2), object(1)\n",
      "memory usage: 118.3+ MB\n"
     ]
    }
   ],
   "source": [
    "# Conversión de tipos de datos\n",
    "df_usage['item_id'] = pd.to_numeric(df_usage['item_id'], errors='coerce')\n",
    "df_usage.info()"
   ]
  },
  {
   "attachments": {},
   "cell_type": "markdown",
   "metadata": {},
   "source": [
    "### Verficación de valores duplicados - Dataset USAGE"
   ]
  },
  {
   "cell_type": "code",
   "execution_count": 36,
   "metadata": {},
   "outputs": [
    {
     "data": {
      "text/plain": [
       "59209"
      ]
     },
     "execution_count": 36,
     "metadata": {},
     "output_type": "execute_result"
    }
   ],
   "source": [
    "df_usage.duplicated().sum()"
   ]
  },
  {
   "cell_type": "code",
   "execution_count": 37,
   "metadata": {},
   "outputs": [
    {
     "data": {
      "text/plain": [
       "0"
      ]
     },
     "execution_count": 37,
     "metadata": {},
     "output_type": "execute_result"
    }
   ],
   "source": [
    "# Eliminación de duplicados\n",
    "df_usage = df_usage.drop_duplicates().reset_index(drop=True)\n",
    "df_usage.duplicated().sum()"
   ]
  },
  {
   "attachments": {},
   "cell_type": "markdown",
   "metadata": {},
   "source": [
    "### Verificación de valores nulos - Dataset USAGE"
   ]
  },
  {
   "cell_type": "code",
   "execution_count": 38,
   "metadata": {},
   "outputs": [
    {
     "data": {
      "text/plain": [
       "item_id             16714\n",
       "user_id                 0\n",
       "playtime_forever    16714\n",
       "dtype: int64"
      ]
     },
     "execution_count": 38,
     "metadata": {},
     "output_type": "execute_result"
    }
   ],
   "source": [
    "df_usage.isnull().sum()"
   ]
  },
  {
   "cell_type": "code",
   "execution_count": 39,
   "metadata": {},
   "outputs": [
    {
     "data": {
      "text/plain": [
       "item_id             0\n",
       "user_id             0\n",
       "playtime_forever    0\n",
       "dtype: int64"
      ]
     },
     "execution_count": 39,
     "metadata": {},
     "output_type": "execute_result"
    }
   ],
   "source": [
    "df_usage = df_usage.dropna(subset=['item_id'])\n",
    "df_usage.isnull().sum()"
   ]
  },
  {
   "attachments": {},
   "cell_type": "markdown",
   "metadata": {},
   "source": [
    "# Exportación de datasets limpios"
   ]
  },
  {
   "cell_type": "code",
   "execution_count": 40,
   "metadata": {},
   "outputs": [],
   "source": [
    "df_games.to_csv('df_games.csv', index=False)\n",
    "df_reviews.to_csv('df_reviews.csv', index=False)\n",
    "df_usage.to_csv('df_usage.csv', index=False)"
   ]
  },
  {
   "attachments": {},
   "cell_type": "markdown",
   "metadata": {},
   "source": [
    "# Armado y exportación de dataframes para endpoints"
   ]
  },
  {
   "attachments": {},
   "cell_type": "markdown",
   "metadata": {},
   "source": [
    "## Samples"
   ]
  },
  {
   "cell_type": "code",
   "execution_count": 41,
   "metadata": {},
   "outputs": [
    {
     "data": {
      "text/html": [
       "<div>\n",
       "<style scoped>\n",
       "    .dataframe tbody tr th:only-of-type {\n",
       "        vertical-align: middle;\n",
       "    }\n",
       "\n",
       "    .dataframe tbody tr th {\n",
       "        vertical-align: top;\n",
       "    }\n",
       "\n",
       "    .dataframe thead th {\n",
       "        text-align: right;\n",
       "    }\n",
       "</style>\n",
       "<table border=\"1\" class=\"dataframe\">\n",
       "  <thead>\n",
       "    <tr style=\"text-align: right;\">\n",
       "      <th></th>\n",
       "      <th>item_id</th>\n",
       "      <th>app_name</th>\n",
       "      <th>genres</th>\n",
       "      <th>year</th>\n",
       "      <th>price</th>\n",
       "      <th>developer</th>\n",
       "    </tr>\n",
       "  </thead>\n",
       "  <tbody>\n",
       "    <tr>\n",
       "      <th>49937</th>\n",
       "      <td>510050</td>\n",
       "      <td>You Have 10 Seconds</td>\n",
       "      <td>Free to Play</td>\n",
       "      <td>2016</td>\n",
       "      <td>NaN</td>\n",
       "      <td>tamationgames</td>\n",
       "    </tr>\n",
       "    <tr>\n",
       "      <th>48706</th>\n",
       "      <td>529190</td>\n",
       "      <td>On A Roll 3D - Soundtrack</td>\n",
       "      <td>Action</td>\n",
       "      <td>2016</td>\n",
       "      <td>NaN</td>\n",
       "      <td>Battenberg Software</td>\n",
       "    </tr>\n",
       "  </tbody>\n",
       "</table>\n",
       "</div>"
      ],
      "text/plain": [
       "       item_id                   app_name        genres  year  price  \\\n",
       "49937   510050        You Have 10 Seconds  Free to Play  2016    NaN   \n",
       "48706   529190  On A Roll 3D - Soundtrack        Action  2016    NaN   \n",
       "\n",
       "                 developer  \n",
       "49937        tamationgames  \n",
       "48706  Battenberg Software  "
      ]
     },
     "execution_count": 41,
     "metadata": {},
     "output_type": "execute_result"
    }
   ],
   "source": [
    "df_games.sample(2)"
   ]
  },
  {
   "cell_type": "code",
   "execution_count": 42,
   "metadata": {},
   "outputs": [
    {
     "data": {
      "text/html": [
       "<div>\n",
       "<style scoped>\n",
       "    .dataframe tbody tr th:only-of-type {\n",
       "        vertical-align: middle;\n",
       "    }\n",
       "\n",
       "    .dataframe tbody tr th {\n",
       "        vertical-align: top;\n",
       "    }\n",
       "\n",
       "    .dataframe thead th {\n",
       "        text-align: right;\n",
       "    }\n",
       "</style>\n",
       "<table border=\"1\" class=\"dataframe\">\n",
       "  <thead>\n",
       "    <tr style=\"text-align: right;\">\n",
       "      <th></th>\n",
       "      <th>item_id</th>\n",
       "      <th>user_id</th>\n",
       "      <th>recommend</th>\n",
       "      <th>year</th>\n",
       "      <th>polarity</th>\n",
       "      <th>sentiment</th>\n",
       "    </tr>\n",
       "  </thead>\n",
       "  <tbody>\n",
       "    <tr>\n",
       "      <th>44141</th>\n",
       "      <td>93200.0</td>\n",
       "      <td>burningfeetman</td>\n",
       "      <td>True</td>\n",
       "      <td>2011</td>\n",
       "      <td>0.23</td>\n",
       "      <td>2</td>\n",
       "    </tr>\n",
       "    <tr>\n",
       "      <th>10838</th>\n",
       "      <td>440.0</td>\n",
       "      <td>YumiHayashibiara</td>\n",
       "      <td>True</td>\n",
       "      <td>2014</td>\n",
       "      <td>-0.40</td>\n",
       "      <td>0</td>\n",
       "    </tr>\n",
       "  </tbody>\n",
       "</table>\n",
       "</div>"
      ],
      "text/plain": [
       "       item_id           user_id  recommend  year  polarity  sentiment\n",
       "44141  93200.0    burningfeetman       True  2011      0.23          2\n",
       "10838    440.0  YumiHayashibiara       True  2014     -0.40          0"
      ]
     },
     "execution_count": 42,
     "metadata": {},
     "output_type": "execute_result"
    }
   ],
   "source": [
    "df_reviews.sample(2)"
   ]
  },
  {
   "cell_type": "code",
   "execution_count": 43,
   "metadata": {},
   "outputs": [
    {
     "data": {
      "text/html": [
       "<div>\n",
       "<style scoped>\n",
       "    .dataframe tbody tr th:only-of-type {\n",
       "        vertical-align: middle;\n",
       "    }\n",
       "\n",
       "    .dataframe tbody tr th {\n",
       "        vertical-align: top;\n",
       "    }\n",
       "\n",
       "    .dataframe thead th {\n",
       "        text-align: right;\n",
       "    }\n",
       "</style>\n",
       "<table border=\"1\" class=\"dataframe\">\n",
       "  <thead>\n",
       "    <tr style=\"text-align: right;\">\n",
       "      <th></th>\n",
       "      <th>item_id</th>\n",
       "      <th>user_id</th>\n",
       "      <th>playtime_forever</th>\n",
       "    </tr>\n",
       "  </thead>\n",
       "  <tbody>\n",
       "    <tr>\n",
       "      <th>2985623</th>\n",
       "      <td>281370.0</td>\n",
       "      <td>mixadance</td>\n",
       "      <td>31.0</td>\n",
       "    </tr>\n",
       "    <tr>\n",
       "      <th>1788295</th>\n",
       "      <td>220260.0</td>\n",
       "      <td>purplecubefruit</td>\n",
       "      <td>0.0</td>\n",
       "    </tr>\n",
       "  </tbody>\n",
       "</table>\n",
       "</div>"
      ],
      "text/plain": [
       "          item_id          user_id  playtime_forever\n",
       "2985623  281370.0        mixadance              31.0\n",
       "1788295  220260.0  purplecubefruit               0.0"
      ]
     },
     "execution_count": 43,
     "metadata": {},
     "output_type": "execute_result"
    }
   ],
   "source": [
    "df_usage.sample(2)"
   ]
  },
  {
   "attachments": {},
   "cell_type": "markdown",
   "metadata": {},
   "source": [
    "## Endpoint 1"
   ]
  },
  {
   "cell_type": "markdown",
   "metadata": {},
   "source": [
    "\n",
    "def PlayTimeGenre(genre: str): Debe devolver año con mas horas jugadas para dicho género.\n",
    "\n",
    "Ejemplo de retorno: {\"Año de lanzamiento con más horas jugadas para Género X\" : 2013}"
   ]
  },
  {
   "cell_type": "code",
   "execution_count": 44,
   "metadata": {},
   "outputs": [
    {
     "data": {
      "text/html": [
       "<div>\n",
       "<style scoped>\n",
       "    .dataframe tbody tr th:only-of-type {\n",
       "        vertical-align: middle;\n",
       "    }\n",
       "\n",
       "    .dataframe tbody tr th {\n",
       "        vertical-align: top;\n",
       "    }\n",
       "\n",
       "    .dataframe thead th {\n",
       "        text-align: right;\n",
       "    }\n",
       "</style>\n",
       "<table border=\"1\" class=\"dataframe\">\n",
       "  <thead>\n",
       "    <tr style=\"text-align: right;\">\n",
       "      <th></th>\n",
       "      <th>genres</th>\n",
       "      <th>year</th>\n",
       "    </tr>\n",
       "  </thead>\n",
       "  <tbody>\n",
       "    <tr>\n",
       "      <th>847814</th>\n",
       "      <td>Action</td>\n",
       "      <td>2012</td>\n",
       "    </tr>\n",
       "    <tr>\n",
       "      <th>1363800</th>\n",
       "      <td>Adventure</td>\n",
       "      <td>2015</td>\n",
       "    </tr>\n",
       "    <tr>\n",
       "      <th>1346922</th>\n",
       "      <td>Animation &amp;amp; Modeling</td>\n",
       "      <td>2015</td>\n",
       "    </tr>\n",
       "    <tr>\n",
       "      <th>2389134</th>\n",
       "      <td>Audio Production</td>\n",
       "      <td>2014</td>\n",
       "    </tr>\n",
       "    <tr>\n",
       "      <th>3381479</th>\n",
       "      <td>Casual</td>\n",
       "      <td>2011</td>\n",
       "    </tr>\n",
       "    <tr>\n",
       "      <th>2905284</th>\n",
       "      <td>Design &amp;amp; Illustration</td>\n",
       "      <td>2012</td>\n",
       "    </tr>\n",
       "    <tr>\n",
       "      <th>2273948</th>\n",
       "      <td>Early Access</td>\n",
       "      <td>2014</td>\n",
       "    </tr>\n",
       "    <tr>\n",
       "      <th>1054235</th>\n",
       "      <td>Education</td>\n",
       "      <td>2014</td>\n",
       "    </tr>\n",
       "    <tr>\n",
       "      <th>3253181</th>\n",
       "      <td>Free to Play</td>\n",
       "      <td>2012</td>\n",
       "    </tr>\n",
       "    <tr>\n",
       "      <th>27418</th>\n",
       "      <td>Indie</td>\n",
       "      <td>2006</td>\n",
       "    </tr>\n",
       "    <tr>\n",
       "      <th>2473379</th>\n",
       "      <td>Massively Multiplayer</td>\n",
       "      <td>2014</td>\n",
       "    </tr>\n",
       "    <tr>\n",
       "      <th>2906133</th>\n",
       "      <td>Photo Editing</td>\n",
       "      <td>2012</td>\n",
       "    </tr>\n",
       "    <tr>\n",
       "      <th>666470</th>\n",
       "      <td>RPG</td>\n",
       "      <td>2012</td>\n",
       "    </tr>\n",
       "    <tr>\n",
       "      <th>2718633</th>\n",
       "      <td>Racing</td>\n",
       "      <td>2013</td>\n",
       "    </tr>\n",
       "    <tr>\n",
       "      <th>2681740</th>\n",
       "      <td>Simulation</td>\n",
       "      <td>2013</td>\n",
       "    </tr>\n",
       "    <tr>\n",
       "      <th>1971838</th>\n",
       "      <td>Software Training</td>\n",
       "      <td>2015</td>\n",
       "    </tr>\n",
       "    <tr>\n",
       "      <th>3030249</th>\n",
       "      <td>Sports</td>\n",
       "      <td>2012</td>\n",
       "    </tr>\n",
       "    <tr>\n",
       "      <th>411178</th>\n",
       "      <td>Strategy</td>\n",
       "      <td>2010</td>\n",
       "    </tr>\n",
       "    <tr>\n",
       "      <th>1168361</th>\n",
       "      <td>Utilities</td>\n",
       "      <td>2014</td>\n",
       "    </tr>\n",
       "    <tr>\n",
       "      <th>2116710</th>\n",
       "      <td>Video Production</td>\n",
       "      <td>2015</td>\n",
       "    </tr>\n",
       "    <tr>\n",
       "      <th>2517438</th>\n",
       "      <td>Web Publishing</td>\n",
       "      <td>2005</td>\n",
       "    </tr>\n",
       "  </tbody>\n",
       "</table>\n",
       "</div>"
      ],
      "text/plain": [
       "                            genres  year\n",
       "847814                      Action  2012\n",
       "1363800                  Adventure  2015\n",
       "1346922   Animation &amp; Modeling  2015\n",
       "2389134           Audio Production  2014\n",
       "3381479                     Casual  2011\n",
       "2905284  Design &amp; Illustration  2012\n",
       "2273948               Early Access  2014\n",
       "1054235                  Education  2014\n",
       "3253181               Free to Play  2012\n",
       "27418                        Indie  2006\n",
       "2473379      Massively Multiplayer  2014\n",
       "2906133              Photo Editing  2012\n",
       "666470                         RPG  2012\n",
       "2718633                     Racing  2013\n",
       "2681740                 Simulation  2013\n",
       "1971838          Software Training  2015\n",
       "3030249                     Sports  2012\n",
       "411178                    Strategy  2010\n",
       "1168361                  Utilities  2014\n",
       "2116710           Video Production  2015\n",
       "2517438             Web Publishing  2005"
      ]
     },
     "execution_count": 44,
     "metadata": {},
     "output_type": "execute_result"
    }
   ],
   "source": [
    "df_e1 = pd.merge(df_games, df_usage, on=\"item_id\", how=\"inner\")\n",
    "df_e1 = df_e1[['genres', 'year','playtime_forever']]\n",
    "\n",
    "# Obtener el índice de la fila con el máximo valor de playtime_forever para cada género\n",
    "df_e1_indmax = df_e1.groupby('genres')['playtime_forever'].idxmax()\n",
    "# Usar los índices para obtener los años correspondientes\n",
    "df_e1 = df_e1.loc[df_e1_indmax, ['genres', 'year', 'playtime_forever']]\n",
    "# Mostrar los años con el máximo playtime_forever por género\n",
    "\n",
    "df_e1 = df_e1[['genres', 'year']]\n",
    "df_e1.to_csv('df_e1.csv', index=False)\n",
    "df_e1"
   ]
  },
  {
   "attachments": {},
   "cell_type": "markdown",
   "metadata": {},
   "source": [
    "## Endpoint 2"
   ]
  },
  {
   "cell_type": "markdown",
   "metadata": {},
   "source": [
    "def UserForGenre( genero : str ): Debe devolver el usuario que acumula más horas jugadas para el género dado y una lista de la acumulación de horas jugadas por año.\n",
    "\n",
    "Ejemplo de retorno: {\"Usuario con más horas jugadas para Género X\" : us213ndjss09sdf, \"Horas jugadas\":[{Año: 2013, Horas: 203}, {Año: 2012, Horas: 100}, {Año: 2011, Horas: 23}]}"
   ]
  },
  {
   "cell_type": "code",
   "execution_count": 45,
   "metadata": {},
   "outputs": [],
   "source": [
    "df_e2 = pd.merge(df_games, df_usage, on=\"item_id\", how=\"inner\")\n",
    "df_e2 = df_e2[['genres', 'year', 'user_id','playtime_forever']]\n",
    "\n",
    "# Obtener el índice de la fila con el máximo valor de playtime_forever para cada género\n",
    "df_e2_indmax = df_e2.groupby('genres')['playtime_forever'].idxmax()\n",
    "# Usar los índices para obtener los años correspondientes\n",
    "df_e2 = df_e2.loc[df_e2_indmax, ['genres', 'year', 'user_id', 'playtime_forever']]\n",
    "\n"
   ]
  },
  {
   "cell_type": "code",
   "execution_count": 46,
   "metadata": {},
   "outputs": [
    {
     "data": {
      "text/html": [
       "<div>\n",
       "<style scoped>\n",
       "    .dataframe tbody tr th:only-of-type {\n",
       "        vertical-align: middle;\n",
       "    }\n",
       "\n",
       "    .dataframe tbody tr th {\n",
       "        vertical-align: top;\n",
       "    }\n",
       "\n",
       "    .dataframe thead th {\n",
       "        text-align: right;\n",
       "    }\n",
       "</style>\n",
       "<table border=\"1\" class=\"dataframe\">\n",
       "  <thead>\n",
       "    <tr style=\"text-align: right;\">\n",
       "      <th></th>\n",
       "      <th>genres</th>\n",
       "      <th>user_id</th>\n",
       "    </tr>\n",
       "  </thead>\n",
       "  <tbody>\n",
       "    <tr>\n",
       "      <th>847814</th>\n",
       "      <td>Action</td>\n",
       "      <td>Evilutional</td>\n",
       "    </tr>\n",
       "    <tr>\n",
       "      <th>1363800</th>\n",
       "      <td>Adventure</td>\n",
       "      <td>idonothack</td>\n",
       "    </tr>\n",
       "    <tr>\n",
       "      <th>1346922</th>\n",
       "      <td>Animation &amp;amp; Modeling</td>\n",
       "      <td>ScottyG555</td>\n",
       "    </tr>\n",
       "    <tr>\n",
       "      <th>2389134</th>\n",
       "      <td>Audio Production</td>\n",
       "      <td>Lickidactyl</td>\n",
       "    </tr>\n",
       "    <tr>\n",
       "      <th>3381479</th>\n",
       "      <td>Casual</td>\n",
       "      <td>tsunamitad</td>\n",
       "    </tr>\n",
       "    <tr>\n",
       "      <th>2905284</th>\n",
       "      <td>Design &amp;amp; Illustration</td>\n",
       "      <td>76561198035718256</td>\n",
       "    </tr>\n",
       "    <tr>\n",
       "      <th>2273948</th>\n",
       "      <td>Early Access</td>\n",
       "      <td>76561198084846677</td>\n",
       "    </tr>\n",
       "    <tr>\n",
       "      <th>1054235</th>\n",
       "      <td>Education</td>\n",
       "      <td>SeedyDog</td>\n",
       "    </tr>\n",
       "    <tr>\n",
       "      <th>3253181</th>\n",
       "      <td>Free to Play</td>\n",
       "      <td>76561198063368177</td>\n",
       "    </tr>\n",
       "    <tr>\n",
       "      <th>27418</th>\n",
       "      <td>Indie</td>\n",
       "      <td>wolop</td>\n",
       "    </tr>\n",
       "    <tr>\n",
       "      <th>2473379</th>\n",
       "      <td>Massively Multiplayer</td>\n",
       "      <td>KingXRay</td>\n",
       "    </tr>\n",
       "    <tr>\n",
       "      <th>2906133</th>\n",
       "      <td>Photo Editing</td>\n",
       "      <td>robinwalker</td>\n",
       "    </tr>\n",
       "    <tr>\n",
       "      <th>666470</th>\n",
       "      <td>RPG</td>\n",
       "      <td>76561198032459795</td>\n",
       "    </tr>\n",
       "    <tr>\n",
       "      <th>2718633</th>\n",
       "      <td>Racing</td>\n",
       "      <td>76561197995725436</td>\n",
       "    </tr>\n",
       "    <tr>\n",
       "      <th>2681740</th>\n",
       "      <td>Simulation</td>\n",
       "      <td>76561198038513068</td>\n",
       "    </tr>\n",
       "    <tr>\n",
       "      <th>1971838</th>\n",
       "      <td>Software Training</td>\n",
       "      <td>madzit</td>\n",
       "    </tr>\n",
       "    <tr>\n",
       "      <th>3030249</th>\n",
       "      <td>Sports</td>\n",
       "      <td>76561198071238400</td>\n",
       "    </tr>\n",
       "    <tr>\n",
       "      <th>411178</th>\n",
       "      <td>Strategy</td>\n",
       "      <td>streetjimmy</td>\n",
       "    </tr>\n",
       "    <tr>\n",
       "      <th>1168361</th>\n",
       "      <td>Utilities</td>\n",
       "      <td>76561198073642113</td>\n",
       "    </tr>\n",
       "    <tr>\n",
       "      <th>2116710</th>\n",
       "      <td>Video Production</td>\n",
       "      <td>AussieAidan</td>\n",
       "    </tr>\n",
       "    <tr>\n",
       "      <th>2517438</th>\n",
       "      <td>Web Publishing</td>\n",
       "      <td>76561198055339371</td>\n",
       "    </tr>\n",
       "  </tbody>\n",
       "</table>\n",
       "</div>"
      ],
      "text/plain": [
       "                            genres            user_id\n",
       "847814                      Action        Evilutional\n",
       "1363800                  Adventure         idonothack\n",
       "1346922   Animation &amp; Modeling         ScottyG555\n",
       "2389134           Audio Production        Lickidactyl\n",
       "3381479                     Casual         tsunamitad\n",
       "2905284  Design &amp; Illustration  76561198035718256\n",
       "2273948               Early Access  76561198084846677\n",
       "1054235                  Education           SeedyDog\n",
       "3253181               Free to Play  76561198063368177\n",
       "27418                        Indie              wolop\n",
       "2473379      Massively Multiplayer           KingXRay\n",
       "2906133              Photo Editing        robinwalker\n",
       "666470                         RPG  76561198032459795\n",
       "2718633                     Racing  76561197995725436\n",
       "2681740                 Simulation  76561198038513068\n",
       "1971838          Software Training             madzit\n",
       "3030249                     Sports  76561198071238400\n",
       "411178                    Strategy        streetjimmy\n",
       "1168361                  Utilities  76561198073642113\n",
       "2116710           Video Production        AussieAidan\n",
       "2517438             Web Publishing  76561198055339371"
      ]
     },
     "execution_count": 46,
     "metadata": {},
     "output_type": "execute_result"
    }
   ],
   "source": [
    "df_e2_users = df_e2[['genres', 'user_id']]\n",
    "df_e2_users.to_csv('df_e2_users.csv', index=False)\n",
    "df_e2_users"
   ]
  },
  {
   "cell_type": "code",
   "execution_count": 47,
   "metadata": {},
   "outputs": [
    {
     "data": {
      "text/html": [
       "<div>\n",
       "<style scoped>\n",
       "    .dataframe tbody tr th:only-of-type {\n",
       "        vertical-align: middle;\n",
       "    }\n",
       "\n",
       "    .dataframe tbody tr th {\n",
       "        vertical-align: top;\n",
       "    }\n",
       "\n",
       "    .dataframe thead th {\n",
       "        text-align: right;\n",
       "    }\n",
       "</style>\n",
       "<table border=\"1\" class=\"dataframe\">\n",
       "  <thead>\n",
       "    <tr style=\"text-align: right;\">\n",
       "      <th></th>\n",
       "      <th>genres</th>\n",
       "      <th>year</th>\n",
       "      <th>user_id</th>\n",
       "      <th>playtime_forever</th>\n",
       "    </tr>\n",
       "  </thead>\n",
       "  <tbody>\n",
       "    <tr>\n",
       "      <th>847814</th>\n",
       "      <td>Action</td>\n",
       "      <td>2012</td>\n",
       "      <td>Evilutional</td>\n",
       "      <td>635295.0</td>\n",
       "    </tr>\n",
       "    <tr>\n",
       "      <th>1363800</th>\n",
       "      <td>Adventure</td>\n",
       "      <td>2015</td>\n",
       "      <td>idonothack</td>\n",
       "      <td>333482.0</td>\n",
       "    </tr>\n",
       "    <tr>\n",
       "      <th>1346922</th>\n",
       "      <td>Animation &amp;amp; Modeling</td>\n",
       "      <td>2015</td>\n",
       "      <td>ScottyG555</td>\n",
       "      <td>168314.0</td>\n",
       "    </tr>\n",
       "    <tr>\n",
       "      <th>2389134</th>\n",
       "      <td>Audio Production</td>\n",
       "      <td>2014</td>\n",
       "      <td>Lickidactyl</td>\n",
       "      <td>109916.0</td>\n",
       "    </tr>\n",
       "    <tr>\n",
       "      <th>3381479</th>\n",
       "      <td>Casual</td>\n",
       "      <td>2011</td>\n",
       "      <td>tsunamitad</td>\n",
       "      <td>600068.0</td>\n",
       "    </tr>\n",
       "    <tr>\n",
       "      <th>2905284</th>\n",
       "      <td>Design &amp;amp; Illustration</td>\n",
       "      <td>2012</td>\n",
       "      <td>76561198035718256</td>\n",
       "      <td>102554.0</td>\n",
       "    </tr>\n",
       "    <tr>\n",
       "      <th>2273948</th>\n",
       "      <td>Early Access</td>\n",
       "      <td>2014</td>\n",
       "      <td>76561198084846677</td>\n",
       "      <td>1241.0</td>\n",
       "    </tr>\n",
       "    <tr>\n",
       "      <th>1054235</th>\n",
       "      <td>Education</td>\n",
       "      <td>2014</td>\n",
       "      <td>SeedyDog</td>\n",
       "      <td>3082.0</td>\n",
       "    </tr>\n",
       "    <tr>\n",
       "      <th>3253181</th>\n",
       "      <td>Free to Play</td>\n",
       "      <td>2012</td>\n",
       "      <td>76561198063368177</td>\n",
       "      <td>439912.0</td>\n",
       "    </tr>\n",
       "    <tr>\n",
       "      <th>27418</th>\n",
       "      <td>Indie</td>\n",
       "      <td>2006</td>\n",
       "      <td>wolop</td>\n",
       "      <td>642773.0</td>\n",
       "    </tr>\n",
       "    <tr>\n",
       "      <th>2473379</th>\n",
       "      <td>Massively Multiplayer</td>\n",
       "      <td>2014</td>\n",
       "      <td>KingXRay</td>\n",
       "      <td>338572.0</td>\n",
       "    </tr>\n",
       "    <tr>\n",
       "      <th>2906133</th>\n",
       "      <td>Photo Editing</td>\n",
       "      <td>2012</td>\n",
       "      <td>robinwalker</td>\n",
       "      <td>1554.0</td>\n",
       "    </tr>\n",
       "    <tr>\n",
       "      <th>666470</th>\n",
       "      <td>RPG</td>\n",
       "      <td>2012</td>\n",
       "      <td>76561198032459795</td>\n",
       "      <td>274817.0</td>\n",
       "    </tr>\n",
       "    <tr>\n",
       "      <th>2718633</th>\n",
       "      <td>Racing</td>\n",
       "      <td>2013</td>\n",
       "      <td>76561197995725436</td>\n",
       "      <td>79186.0</td>\n",
       "    </tr>\n",
       "    <tr>\n",
       "      <th>2681740</th>\n",
       "      <td>Simulation</td>\n",
       "      <td>2013</td>\n",
       "      <td>76561198038513068</td>\n",
       "      <td>308612.0</td>\n",
       "    </tr>\n",
       "    <tr>\n",
       "      <th>1971838</th>\n",
       "      <td>Software Training</td>\n",
       "      <td>2015</td>\n",
       "      <td>madzit</td>\n",
       "      <td>464.0</td>\n",
       "    </tr>\n",
       "    <tr>\n",
       "      <th>3030249</th>\n",
       "      <td>Sports</td>\n",
       "      <td>2012</td>\n",
       "      <td>76561198071238400</td>\n",
       "      <td>108052.0</td>\n",
       "    </tr>\n",
       "    <tr>\n",
       "      <th>411178</th>\n",
       "      <td>Strategy</td>\n",
       "      <td>2010</td>\n",
       "      <td>streetjimmy</td>\n",
       "      <td>425437.0</td>\n",
       "    </tr>\n",
       "    <tr>\n",
       "      <th>1168361</th>\n",
       "      <td>Utilities</td>\n",
       "      <td>2014</td>\n",
       "      <td>76561198073642113</td>\n",
       "      <td>207651.0</td>\n",
       "    </tr>\n",
       "    <tr>\n",
       "      <th>2116710</th>\n",
       "      <td>Video Production</td>\n",
       "      <td>2015</td>\n",
       "      <td>AussieAidan</td>\n",
       "      <td>68163.0</td>\n",
       "    </tr>\n",
       "    <tr>\n",
       "      <th>2517438</th>\n",
       "      <td>Web Publishing</td>\n",
       "      <td>2005</td>\n",
       "      <td>76561198055339371</td>\n",
       "      <td>11711.0</td>\n",
       "    </tr>\n",
       "  </tbody>\n",
       "</table>\n",
       "</div>"
      ],
      "text/plain": [
       "                            genres  year            user_id  playtime_forever\n",
       "847814                      Action  2012        Evilutional          635295.0\n",
       "1363800                  Adventure  2015         idonothack          333482.0\n",
       "1346922   Animation &amp; Modeling  2015         ScottyG555          168314.0\n",
       "2389134           Audio Production  2014        Lickidactyl          109916.0\n",
       "3381479                     Casual  2011         tsunamitad          600068.0\n",
       "2905284  Design &amp; Illustration  2012  76561198035718256          102554.0\n",
       "2273948               Early Access  2014  76561198084846677            1241.0\n",
       "1054235                  Education  2014           SeedyDog            3082.0\n",
       "3253181               Free to Play  2012  76561198063368177          439912.0\n",
       "27418                        Indie  2006              wolop          642773.0\n",
       "2473379      Massively Multiplayer  2014           KingXRay          338572.0\n",
       "2906133              Photo Editing  2012        robinwalker            1554.0\n",
       "666470                         RPG  2012  76561198032459795          274817.0\n",
       "2718633                     Racing  2013  76561197995725436           79186.0\n",
       "2681740                 Simulation  2013  76561198038513068          308612.0\n",
       "1971838          Software Training  2015             madzit             464.0\n",
       "3030249                     Sports  2012  76561198071238400          108052.0\n",
       "411178                    Strategy  2010        streetjimmy          425437.0\n",
       "1168361                  Utilities  2014  76561198073642113          207651.0\n",
       "2116710           Video Production  2015        AussieAidan           68163.0\n",
       "2517438             Web Publishing  2005  76561198055339371           11711.0"
      ]
     },
     "execution_count": 47,
     "metadata": {},
     "output_type": "execute_result"
    }
   ],
   "source": [
    "df_e2_playtime = df_e2[['genres', 'year', 'user_id', 'playtime_forever']]\n",
    "df_e2_playtime.to_csv('df_e2_playtime.csv', index=False)\n",
    "df_e2_playtime"
   ]
  },
  {
   "attachments": {},
   "cell_type": "markdown",
   "metadata": {},
   "source": [
    "## Endpoint 3"
   ]
  },
  {
   "attachments": {},
   "cell_type": "markdown",
   "metadata": {},
   "source": [
    "def UsersRecommend( año : int ): Devuelve el top 3 de juegos MÁS recomendados por usuarios para el año dado. (reviews.recommend = True y comentarios positivos/neutrales)\n",
    "\n",
    "Ejemplo de retorno: [{\"Puesto 1\" : X}, {\"Puesto 2\" : Y},{\"Puesto 3\" : Z}]"
   ]
  },
  {
   "attachments": {},
   "cell_type": "markdown",
   "metadata": {},
   "source": [
    "## Endpoint 4"
   ]
  },
  {
   "attachments": {},
   "cell_type": "markdown",
   "metadata": {},
   "source": [
    "def UsersNotRecommend( año : int ): Devuelve el top 3 de juegos MENOS recomendados por usuarios para el año dado. (reviews.recommend = False y comentarios negativos)\n",
    "Ejemplo de retorno: [{\"Puesto 1\" : X}, {\"Puesto 2\" : Y},{\"Puesto 3\" : Z}]"
   ]
  },
  {
   "attachments": {},
   "cell_type": "markdown",
   "metadata": {},
   "source": [
    "## Endpoint 5"
   ]
  },
  {
   "attachments": {},
   "cell_type": "markdown",
   "metadata": {},
   "source": [
    "def sentiment_analysis( año : int ): Según el año de lanzamiento, se devuelve una lista con la cantidad de registros de reseñas de usuarios que se encuentren categorizados con un análisis de sentimiento.\n",
    "Ejemplo de retorno: {Negative = 182, Neutral = 120, Positive = 278}"
   ]
  },
  {
   "cell_type": "code",
   "execution_count": 48,
   "metadata": {},
   "outputs": [],
   "source": [
    "#Test PUSH COMMIT yy\n",
    "# changes\n",
    "# make changes"
   ]
  },
  {
   "cell_type": "code",
   "execution_count": 1,
   "metadata": {},
   "outputs": [],
   "source": [
    "##"
   ]
  },
  {
   "cell_type": "code",
   "execution_count": null,
   "metadata": {},
   "outputs": [],
   "source": []
  }
 ],
 "metadata": {
  "kernelspec": {
   "display_name": "Python 3",
   "language": "python",
   "name": "python3"
  },
  "language_info": {
   "codemirror_mode": {
    "name": "ipython",
    "version": 3
   },
   "file_extension": ".py",
   "mimetype": "text/x-python",
   "name": "python",
   "nbconvert_exporter": "python",
   "pygments_lexer": "ipython3",
   "version": "3.12.0"
  },
  "orig_nbformat": 4
 },
 "nbformat": 4,
 "nbformat_minor": 2
}
